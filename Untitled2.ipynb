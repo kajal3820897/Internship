{
 "cells": [
  {
   "cell_type": "code",
   "execution_count": 1,
   "id": "7c576516",
   "metadata": {},
   "outputs": [
    {
     "name": "stdout",
     "output_type": "stream",
     "text": [
      "Collecting selenium\n",
      "  Obtaining dependency information for selenium from https://files.pythonhosted.org/packages/97/e3/fd7272d6d2c49fd49a79a603cb28c8b5a71f8911861b4a0409b3c006a241/selenium-4.17.2-py3-none-any.whl.metadata\n",
      "  Downloading selenium-4.17.2-py3-none-any.whl.metadata (6.9 kB)\n",
      "Requirement already satisfied: urllib3[socks]<3,>=1.26 in c:\\users\\kajal\\anaconda3\\lib\\site-packages (from selenium) (1.26.16)\n",
      "Collecting trio~=0.17 (from selenium)\n",
      "  Obtaining dependency information for trio~=0.17 from https://files.pythonhosted.org/packages/14/fb/9299cf74953f473a15accfdbe2c15218e766bae8c796f2567c83bae03e98/trio-0.24.0-py3-none-any.whl.metadata\n",
      "  Downloading trio-0.24.0-py3-none-any.whl.metadata (4.9 kB)\n",
      "Collecting trio-websocket~=0.9 (from selenium)\n",
      "  Obtaining dependency information for trio-websocket~=0.9 from https://files.pythonhosted.org/packages/48/be/a9ae5f50cad5b6f85bd2574c2c923730098530096e170c1ce7452394d7aa/trio_websocket-0.11.1-py3-none-any.whl.metadata\n",
      "  Downloading trio_websocket-0.11.1-py3-none-any.whl.metadata (4.7 kB)\n",
      "Requirement already satisfied: certifi>=2021.10.8 in c:\\users\\kajal\\anaconda3\\lib\\site-packages (from selenium) (2023.7.22)\n",
      "Collecting typing_extensions>=4.9.0 (from selenium)\n",
      "  Obtaining dependency information for typing_extensions>=4.9.0 from https://files.pythonhosted.org/packages/b7/f4/6a90020cd2d93349b442bfcb657d0dc91eee65491600b2cb1d388bc98e6b/typing_extensions-4.9.0-py3-none-any.whl.metadata\n",
      "  Downloading typing_extensions-4.9.0-py3-none-any.whl.metadata (3.0 kB)\n",
      "Requirement already satisfied: attrs>=20.1.0 in c:\\users\\kajal\\anaconda3\\lib\\site-packages (from trio~=0.17->selenium) (22.1.0)\n",
      "Requirement already satisfied: sortedcontainers in c:\\users\\kajal\\anaconda3\\lib\\site-packages (from trio~=0.17->selenium) (2.4.0)\n",
      "Requirement already satisfied: idna in c:\\users\\kajal\\anaconda3\\lib\\site-packages (from trio~=0.17->selenium) (3.4)\n",
      "Collecting outcome (from trio~=0.17->selenium)\n",
      "  Obtaining dependency information for outcome from https://files.pythonhosted.org/packages/55/8b/5ab7257531a5d830fc8000c476e63c935488d74609b50f9384a643ec0a62/outcome-1.3.0.post0-py2.py3-none-any.whl.metadata\n",
      "  Downloading outcome-1.3.0.post0-py2.py3-none-any.whl.metadata (2.6 kB)\n",
      "Collecting sniffio>=1.3.0 (from trio~=0.17->selenium)\n",
      "  Downloading sniffio-1.3.0-py3-none-any.whl (10 kB)\n",
      "Requirement already satisfied: cffi>=1.14 in c:\\users\\kajal\\anaconda3\\lib\\site-packages (from trio~=0.17->selenium) (1.15.1)\n",
      "Collecting wsproto>=0.14 (from trio-websocket~=0.9->selenium)\n",
      "  Downloading wsproto-1.2.0-py3-none-any.whl (24 kB)\n",
      "Requirement already satisfied: PySocks!=1.5.7,<2.0,>=1.5.6 in c:\\users\\kajal\\anaconda3\\lib\\site-packages (from urllib3[socks]<3,>=1.26->selenium) (1.7.1)\n",
      "Requirement already satisfied: pycparser in c:\\users\\kajal\\anaconda3\\lib\\site-packages (from cffi>=1.14->trio~=0.17->selenium) (2.21)\n",
      "Collecting h11<1,>=0.9.0 (from wsproto>=0.14->trio-websocket~=0.9->selenium)\n",
      "  Downloading h11-0.14.0-py3-none-any.whl (58 kB)\n",
      "     ---------------------------------------- 0.0/58.3 kB ? eta -:--:--\n",
      "     ---------------------------------------- 58.3/58.3 kB 3.0 MB/s eta 0:00:00\n",
      "Downloading selenium-4.17.2-py3-none-any.whl (9.9 MB)\n",
      "   ---------------------------------------- 0.0/9.9 MB ? eta -:--:--\n",
      "    --------------------------------------- 0.2/9.9 MB 14.7 MB/s eta 0:00:01\n",
      "   -- ------------------------------------- 0.6/9.9 MB 7.6 MB/s eta 0:00:02\n",
      "   --- ------------------------------------ 0.8/9.9 MB 6.5 MB/s eta 0:00:02\n",
      "   ---- ----------------------------------- 1.1/9.9 MB 6.2 MB/s eta 0:00:02\n",
      "   ---- ----------------------------------- 1.1/9.9 MB 6.0 MB/s eta 0:00:02\n",
      "   ----- ---------------------------------- 1.4/9.9 MB 5.0 MB/s eta 0:00:02\n",
      "   ------ --------------------------------- 1.6/9.9 MB 5.0 MB/s eta 0:00:02\n",
      "   ------- -------------------------------- 1.8/9.9 MB 4.9 MB/s eta 0:00:02\n",
      "   ------- -------------------------------- 1.8/9.9 MB 4.5 MB/s eta 0:00:02\n",
      "   ------- -------------------------------- 1.9/9.9 MB 4.0 MB/s eta 0:00:02\n",
      "   ------- -------------------------------- 2.0/9.9 MB 4.0 MB/s eta 0:00:02\n",
      "   --------- ------------------------------ 2.3/9.9 MB 4.1 MB/s eta 0:00:02\n",
      "   ---------- ----------------------------- 2.6/9.9 MB 4.2 MB/s eta 0:00:02\n",
      "   ----------- ---------------------------- 2.8/9.9 MB 4.2 MB/s eta 0:00:02\n",
      "   ------------ --------------------------- 3.1/9.9 MB 4.4 MB/s eta 0:00:02\n",
      "   ------------- -------------------------- 3.3/9.9 MB 4.3 MB/s eta 0:00:02\n",
      "   -------------- ------------------------- 3.5/9.9 MB 4.4 MB/s eta 0:00:02\n",
      "   -------------- ------------------------- 3.7/9.9 MB 4.4 MB/s eta 0:00:02\n",
      "   -------------- ------------------------- 3.7/9.9 MB 4.2 MB/s eta 0:00:02\n",
      "   --------------- ------------------------ 3.8/9.9 MB 4.1 MB/s eta 0:00:02\n",
      "   ---------------- ----------------------- 4.0/9.9 MB 4.1 MB/s eta 0:00:02\n",
      "   ---------------- ----------------------- 4.0/9.9 MB 3.9 MB/s eta 0:00:02\n",
      "   ----------------- ---------------------- 4.3/9.9 MB 4.0 MB/s eta 0:00:02\n",
      "   ------------------ --------------------- 4.5/9.9 MB 4.0 MB/s eta 0:00:02\n",
      "   ------------------- -------------------- 4.8/9.9 MB 4.1 MB/s eta 0:00:02\n",
      "   -------------------- ------------------- 5.0/9.9 MB 4.1 MB/s eta 0:00:02\n",
      "   --------------------- ------------------ 5.2/9.9 MB 4.1 MB/s eta 0:00:02\n",
      "   --------------------- ------------------ 5.4/9.9 MB 4.1 MB/s eta 0:00:02\n",
      "   ---------------------- ----------------- 5.6/9.9 MB 4.1 MB/s eta 0:00:02\n",
      "   ----------------------- ---------------- 5.7/9.9 MB 4.1 MB/s eta 0:00:02\n",
      "   ----------------------- ---------------- 5.8/9.9 MB 4.0 MB/s eta 0:00:02\n",
      "   ------------------------ --------------- 6.0/9.9 MB 4.0 MB/s eta 0:00:01\n",
      "   ------------------------- -------------- 6.2/9.9 MB 4.0 MB/s eta 0:00:01\n",
      "   -------------------------- ------------- 6.5/9.9 MB 4.1 MB/s eta 0:00:01\n",
      "   --------------------------- ------------ 6.8/9.9 MB 4.1 MB/s eta 0:00:01\n",
      "   ---------------------------- ----------- 7.0/9.9 MB 4.1 MB/s eta 0:00:01\n",
      "   ----------------------------- ---------- 7.2/9.9 MB 4.1 MB/s eta 0:00:01\n",
      "   ----------------------------- ---------- 7.4/9.9 MB 4.1 MB/s eta 0:00:01\n",
      "   ------------------------------ --------- 7.6/9.9 MB 4.1 MB/s eta 0:00:01\n",
      "   ------------------------------- -------- 7.8/9.9 MB 4.1 MB/s eta 0:00:01\n",
      "   -------------------------------- ------- 8.0/9.9 MB 4.1 MB/s eta 0:00:01\n",
      "   -------------------------------- ------- 8.2/9.9 MB 4.1 MB/s eta 0:00:01\n",
      "   --------------------------------- ------ 8.3/9.9 MB 4.1 MB/s eta 0:00:01\n",
      "   --------------------------------- ------ 8.4/9.9 MB 4.0 MB/s eta 0:00:01\n",
      "   --------------------------------- ------ 8.4/9.9 MB 3.9 MB/s eta 0:00:01\n",
      "   ---------------------------------- ----- 8.5/9.9 MB 3.9 MB/s eta 0:00:01\n",
      "   ----------------------------------- ---- 8.7/9.9 MB 3.9 MB/s eta 0:00:01\n",
      "   ------------------------------------ --- 9.0/9.9 MB 3.9 MB/s eta 0:00:01\n",
      "   ------------------------------------- -- 9.2/9.9 MB 4.0 MB/s eta 0:00:01\n",
      "   ------------------------------------- -- 9.2/9.9 MB 3.9 MB/s eta 0:00:01\n",
      "   ------------------------------------- -- 9.3/9.9 MB 3.9 MB/s eta 0:00:01\n",
      "   -------------------------------------- - 9.6/9.9 MB 3.9 MB/s eta 0:00:01\n",
      "   ---------------------------------------  9.8/9.9 MB 3.9 MB/s eta 0:00:01\n",
      "   ---------------------------------------  9.9/9.9 MB 3.9 MB/s eta 0:00:01\n",
      "   ---------------------------------------- 9.9/9.9 MB 3.8 MB/s eta 0:00:00\n",
      "Downloading trio-0.24.0-py3-none-any.whl (460 kB)\n",
      "   ---------------------------------------- 0.0/460.2 kB ? eta -:--:--\n",
      "   ------------------------ --------------- 286.7/460.2 kB 6.0 MB/s eta 0:00:01\n",
      "   ---------------------------------------  450.6/460.2 kB 5.6 MB/s eta 0:00:01\n",
      "   ---------------------------------------- 460.2/460.2 kB 4.1 MB/s eta 0:00:00\n",
      "Downloading trio_websocket-0.11.1-py3-none-any.whl (17 kB)\n",
      "Downloading typing_extensions-4.9.0-py3-none-any.whl (32 kB)\n",
      "Downloading outcome-1.3.0.post0-py2.py3-none-any.whl (10 kB)\n",
      "Installing collected packages: typing_extensions, sniffio, outcome, h11, wsproto, trio, trio-websocket, selenium\n",
      "  Attempting uninstall: typing_extensions\n",
      "    Found existing installation: typing_extensions 4.7.1\n",
      "    Uninstalling typing_extensions-4.7.1:\n",
      "      Successfully uninstalled typing_extensions-4.7.1\n",
      "  Attempting uninstall: sniffio\n",
      "    Found existing installation: sniffio 1.2.0\n",
      "    Uninstalling sniffio-1.2.0:\n",
      "      Successfully uninstalled sniffio-1.2.0\n",
      "Successfully installed h11-0.14.0 outcome-1.3.0.post0 selenium-4.17.2 sniffio-1.3.0 trio-0.24.0 trio-websocket-0.11.1 typing_extensions-4.9.0 wsproto-1.2.0\n"
     ]
    }
   ],
   "source": [
    "!pip install selenium"
   ]
  },
  {
   "cell_type": "code",
   "execution_count": 1,
   "id": "203b030e",
   "metadata": {},
   "outputs": [],
   "source": [
    "import selenium\n",
    "import pandas as pd\n",
    "from selenium import webdriver\n",
    "import warnings\n",
    "warnings.filterwarnings('ignore')\n",
    "from selenium.webdriver.common.by import By\n",
    "from selenium.webdriver.common.keys import Keys\n",
    "import time"
   ]
  },
  {
   "cell_type": "code",
   "execution_count": 2,
   "id": "6ae9aff2",
   "metadata": {},
   "outputs": [],
   "source": [
    "# Question - 1 :\n",
    "driver = webdriver.Chrome()"
   ]
  },
  {
   "cell_type": "code",
   "execution_count": 3,
   "id": "8f2dbad7",
   "metadata": {},
   "outputs": [],
   "source": [
    "driver.get(\"https://www.shine.com/\")"
   ]
  },
  {
   "cell_type": "code",
   "execution_count": 4,
   "id": "e7c863af",
   "metadata": {},
   "outputs": [],
   "source": [
    "designation=driver.find_element(By.ID,\"id_q\")\n",
    "designation.send_keys('Data Analyst')"
   ]
  },
  {
   "cell_type": "code",
   "execution_count": 5,
   "id": "25f6dccd",
   "metadata": {},
   "outputs": [],
   "source": [
    "location=driver.find_element(By.ID,\"id_loc\")\n",
    "location.send_keys('Bangalore')"
   ]
  },
  {
   "cell_type": "code",
   "execution_count": 6,
   "id": "276b0eff",
   "metadata": {},
   "outputs": [],
   "source": [
    "search=driver.find_element(By.XPATH,\"/html/body/div/div[4]/div/div[2]/div[2]/div/form/div/div[2]/div/button\")\n",
    "search.click()"
   ]
  },
  {
   "cell_type": "code",
   "execution_count": 7,
   "id": "e8c367ee",
   "metadata": {},
   "outputs": [],
   "source": [
    "job_title = []\n",
    "job_location = []\n",
    "company_name = []\n",
    "experience_required = []"
   ]
  },
  {
   "cell_type": "code",
   "execution_count": 8,
   "id": "7218bfc2",
   "metadata": {},
   "outputs": [],
   "source": [
    "title_tags=driver.find_elements(By.XPATH,'//h2[@itemprop=\"name\"]')\n",
    "for i in title_tags[0:10]:\n",
    "    title=i.text\n",
    "    job_title.append(title)"
   ]
  },
  {
   "cell_type": "code",
   "execution_count": 9,
   "id": "5075264e",
   "metadata": {},
   "outputs": [],
   "source": [
    "location_tags=driver.find_elements(By.XPATH,'//div[@class=\" jobCard_jobCard_lists_item__YxRkV jobCard_locationIcon__zrWt2\"]')  \n",
    "for i in location_tags[0:10]:\n",
    "    location=i.text\n",
    "    job_location.append(location)"
   ]
  },
  {
   "cell_type": "code",
   "execution_count": 10,
   "id": "d7c6eab4",
   "metadata": {},
   "outputs": [],
   "source": [
    "company_tags=driver.find_elements(By.XPATH,'//div[@class=\"jobCard_jobCard_cName__mYnow\"]/span')\n",
    "for i in company_tags[0:10]:\n",
    "    company=i.text\n",
    "    company_name.append(company)"
   ]
  },
  {
   "cell_type": "code",
   "execution_count": 11,
   "id": "cf913338",
   "metadata": {},
   "outputs": [],
   "source": [
    "experience_tags=driver.find_elements(By.XPATH,'//div[@class=\" jobCard_jobCard_lists_item__YxRkV jobCard_jobIcon__3FB1t\"]')\n",
    "for i in experience_tags[0:10]:\n",
    "    exp=i.text\n",
    "    experience_required.append(exp)"
   ]
  },
  {
   "cell_type": "code",
   "execution_count": 12,
   "id": "d0de7a10",
   "metadata": {},
   "outputs": [
    {
     "data": {
      "text/html": [
       "<div>\n",
       "<style scoped>\n",
       "    .dataframe tbody tr th:only-of-type {\n",
       "        vertical-align: middle;\n",
       "    }\n",
       "\n",
       "    .dataframe tbody tr th {\n",
       "        vertical-align: top;\n",
       "    }\n",
       "\n",
       "    .dataframe thead th {\n",
       "        text-align: right;\n",
       "    }\n",
       "</style>\n",
       "<table border=\"1\" class=\"dataframe\">\n",
       "  <thead>\n",
       "    <tr style=\"text-align: right;\">\n",
       "      <th></th>\n",
       "      <th>Title</th>\n",
       "      <th>Location</th>\n",
       "      <th>Company_Name</th>\n",
       "      <th>Experience</th>\n",
       "    </tr>\n",
       "  </thead>\n",
       "  <tbody>\n",
       "    <tr>\n",
       "      <th>0</th>\n",
       "      <td>Lead Data Analyst</td>\n",
       "      <td>Bangalore</td>\n",
       "      <td>ara resources private limited</td>\n",
       "      <td>4 to 9 Yrs</td>\n",
       "    </tr>\n",
       "    <tr>\n",
       "      <th>1</th>\n",
       "      <td>Data Analyst</td>\n",
       "      <td>Bangalore\\n+3</td>\n",
       "      <td>diraa hr services hiring for mncs</td>\n",
       "      <td>0 to 1 Yr</td>\n",
       "    </tr>\n",
       "    <tr>\n",
       "      <th>2</th>\n",
       "      <td>Vacancy For Data Analyst</td>\n",
       "      <td>Bangalore\\n+14</td>\n",
       "      <td>yogita staffing solution</td>\n",
       "      <td>0 to 3 Yrs</td>\n",
       "    </tr>\n",
       "    <tr>\n",
       "      <th>3</th>\n",
       "      <td>Clinical Data Analyst</td>\n",
       "      <td>Bangalore\\n+6</td>\n",
       "      <td>techno endura</td>\n",
       "      <td>0 to 1 Yr</td>\n",
       "    </tr>\n",
       "    <tr>\n",
       "      <th>4</th>\n",
       "      <td>Data Management</td>\n",
       "      <td>Bangalore\\n+18</td>\n",
       "      <td>future solution centre</td>\n",
       "      <td>15 to &gt;25 Yrs</td>\n",
       "    </tr>\n",
       "    <tr>\n",
       "      <th>5</th>\n",
       "      <td>Data Modeler data</td>\n",
       "      <td>Bangalore</td>\n",
       "      <td>boyen haddin consulting and technol...</td>\n",
       "      <td>3 to 6 Yrs</td>\n",
       "    </tr>\n",
       "    <tr>\n",
       "      <th>6</th>\n",
       "      <td>Data Modeller</td>\n",
       "      <td>Bangalore</td>\n",
       "      <td>boyen haddin consulting and technol...</td>\n",
       "      <td>3 to 6 Yrs</td>\n",
       "    </tr>\n",
       "    <tr>\n",
       "      <th>7</th>\n",
       "      <td>Data Modeler Bangalore</td>\n",
       "      <td>Bangalore</td>\n",
       "      <td>boyen haddin consulting and technol...</td>\n",
       "      <td>3 to 6 Yrs</td>\n",
       "    </tr>\n",
       "    <tr>\n",
       "      <th>8</th>\n",
       "      <td>Data Modeler</td>\n",
       "      <td>Bangalore</td>\n",
       "      <td>boyen haddin consulting and technol...</td>\n",
       "      <td>3 to 6 Yrs</td>\n",
       "    </tr>\n",
       "    <tr>\n",
       "      <th>9</th>\n",
       "      <td>Clinical Data Analyst</td>\n",
       "      <td>Bangalore\\n+4</td>\n",
       "      <td>quiscon biotech</td>\n",
       "      <td>0 to 2 Yrs</td>\n",
       "    </tr>\n",
       "  </tbody>\n",
       "</table>\n",
       "</div>"
      ],
      "text/plain": [
       "                      Title        Location  \\\n",
       "0         Lead Data Analyst       Bangalore   \n",
       "1              Data Analyst   Bangalore\\n+3   \n",
       "2  Vacancy For Data Analyst  Bangalore\\n+14   \n",
       "3     Clinical Data Analyst   Bangalore\\n+6   \n",
       "4           Data Management  Bangalore\\n+18   \n",
       "5         Data Modeler data       Bangalore   \n",
       "6             Data Modeller       Bangalore   \n",
       "7    Data Modeler Bangalore       Bangalore   \n",
       "8              Data Modeler       Bangalore   \n",
       "9     Clinical Data Analyst   Bangalore\\n+4   \n",
       "\n",
       "                             Company_Name     Experience  \n",
       "0           ara resources private limited     4 to 9 Yrs  \n",
       "1       diraa hr services hiring for mncs      0 to 1 Yr  \n",
       "2                yogita staffing solution     0 to 3 Yrs  \n",
       "3                           techno endura      0 to 1 Yr  \n",
       "4                  future solution centre  15 to >25 Yrs  \n",
       "5  boyen haddin consulting and technol...     3 to 6 Yrs  \n",
       "6  boyen haddin consulting and technol...     3 to 6 Yrs  \n",
       "7  boyen haddin consulting and technol...     3 to 6 Yrs  \n",
       "8  boyen haddin consulting and technol...     3 to 6 Yrs  \n",
       "9                         quiscon biotech     0 to 2 Yrs  "
      ]
     },
     "execution_count": 12,
     "metadata": {},
     "output_type": "execute_result"
    }
   ],
   "source": [
    "df = pd.DataFrame({'Title' : job_title, 'Location' : job_location, 'Company_Name' : company_name, 'Experience' : experience_required})\n",
    "df"
   ]
  },
  {
   "cell_type": "code",
   "execution_count": null,
   "id": "cc74a25d",
   "metadata": {},
   "outputs": [],
   "source": []
  },
  {
   "cell_type": "code",
   "execution_count": 13,
   "id": "c546e8be",
   "metadata": {},
   "outputs": [],
   "source": [
    "# Question - 2 :\n",
    "driver_1=webdriver.Chrome()"
   ]
  },
  {
   "cell_type": "code",
   "execution_count": 14,
   "id": "f01e08ff",
   "metadata": {},
   "outputs": [],
   "source": [
    "driver_1.get(\" https://www.shine.com/\")"
   ]
  },
  {
   "cell_type": "code",
   "execution_count": 15,
   "id": "88e8b351",
   "metadata": {},
   "outputs": [],
   "source": [
    "designation_1=driver_1.find_element(By.ID,\"id_q\")\n",
    "designation_1.send_keys('Data Scientist')"
   ]
  },
  {
   "cell_type": "code",
   "execution_count": 16,
   "id": "0d24cd21",
   "metadata": {},
   "outputs": [],
   "source": [
    "location_1=driver_1.find_element(By.ID,\"id_loc\")\n",
    "location_1.send_keys('Bangalore')"
   ]
  },
  {
   "cell_type": "code",
   "execution_count": 17,
   "id": "e696b21a",
   "metadata": {},
   "outputs": [],
   "source": [
    "search_1=driver_1.find_element(By.XPATH,\"/html/body/div/div[4]/div/div[2]/div[2]/div/form/div/div[2]/div/button\")\n",
    "search_1.click()"
   ]
  },
  {
   "cell_type": "code",
   "execution_count": 18,
   "id": "0351f54c",
   "metadata": {},
   "outputs": [],
   "source": [
    "Job_title = []\n",
    "Job_location = []\n",
    "Company_name = []"
   ]
  },
  {
   "cell_type": "code",
   "execution_count": 19,
   "id": "f9779ae8",
   "metadata": {},
   "outputs": [],
   "source": [
    "Title_tags=driver_1.find_elements(By.XPATH,'//h2[@itemprop=\"name\"]')\n",
    "for i in Title_tags[0:10]:\n",
    "    title_1=i.text\n",
    "    Job_title.append(title_1)"
   ]
  },
  {
   "cell_type": "code",
   "execution_count": 20,
   "id": "cc746f59",
   "metadata": {},
   "outputs": [],
   "source": [
    "Location_tags=driver_1.find_elements(By.XPATH,'//div[@class=\" jobCard_jobCard_lists_item__YxRkV jobCard_locationIcon__zrWt2\"]')\n",
    "for i in Location_tags[0:10]:\n",
    "    location_1=i.text\n",
    "    Job_location.append(location_1)"
   ]
  },
  {
   "cell_type": "code",
   "execution_count": 21,
   "id": "f2a92929",
   "metadata": {},
   "outputs": [],
   "source": [
    "Company_tags=driver_1.find_elements(By.XPATH,'//div[@class=\"jobCard_jobCard_cName__mYnow\"]/span')\n",
    "for i in Company_tags[0:10]:\n",
    "    company_1=i.text\n",
    "    Company_name.append(company_1)"
   ]
  },
  {
   "cell_type": "code",
   "execution_count": 22,
   "id": "d38fca32",
   "metadata": {},
   "outputs": [
    {
     "data": {
      "text/html": [
       "<div>\n",
       "<style scoped>\n",
       "    .dataframe tbody tr th:only-of-type {\n",
       "        vertical-align: middle;\n",
       "    }\n",
       "\n",
       "    .dataframe tbody tr th {\n",
       "        vertical-align: top;\n",
       "    }\n",
       "\n",
       "    .dataframe thead th {\n",
       "        text-align: right;\n",
       "    }\n",
       "</style>\n",
       "<table border=\"1\" class=\"dataframe\">\n",
       "  <thead>\n",
       "    <tr style=\"text-align: right;\">\n",
       "      <th></th>\n",
       "      <th>TITLE</th>\n",
       "      <th>LOCATION</th>\n",
       "      <th>COMPANY</th>\n",
       "    </tr>\n",
       "  </thead>\n",
       "  <tbody>\n",
       "    <tr>\n",
       "      <th>0</th>\n",
       "      <td>ML Data Scientist</td>\n",
       "      <td>Bangalore\\n+3</td>\n",
       "      <td>gujarat facility services hiring fo...</td>\n",
       "    </tr>\n",
       "    <tr>\n",
       "      <th>1</th>\n",
       "      <td>Data Scientist Urgent Vacancy</td>\n",
       "      <td>Bangalore\\n+15</td>\n",
       "      <td>renuka interprises</td>\n",
       "    </tr>\n",
       "    <tr>\n",
       "      <th>2</th>\n",
       "      <td>Data Scientist Recruitment</td>\n",
       "      <td>Bangalore\\n+15</td>\n",
       "      <td>renuka interprises</td>\n",
       "    </tr>\n",
       "    <tr>\n",
       "      <th>3</th>\n",
       "      <td>Data Scientist Recruitment</td>\n",
       "      <td>Bangalore\\n+15</td>\n",
       "      <td>renuka interprises</td>\n",
       "    </tr>\n",
       "    <tr>\n",
       "      <th>4</th>\n",
       "      <td>Data Scientist</td>\n",
       "      <td>Bangalore\\n+4</td>\n",
       "      <td>acme services private limited</td>\n",
       "    </tr>\n",
       "    <tr>\n",
       "      <th>5</th>\n",
       "      <td>Data Scientist</td>\n",
       "      <td>Bangalore</td>\n",
       "      <td>ltimindtree limited</td>\n",
       "    </tr>\n",
       "    <tr>\n",
       "      <th>6</th>\n",
       "      <td>Lead Data Scientist/ Principal Data Scientist</td>\n",
       "      <td>Bangalore\\n+1</td>\n",
       "      <td>fractal</td>\n",
       "    </tr>\n",
       "    <tr>\n",
       "      <th>7</th>\n",
       "      <td>Vacancy For Data Scientist Fresher and Experience</td>\n",
       "      <td>Bangalore\\n+14</td>\n",
       "      <td>yogita staffing solution</td>\n",
       "    </tr>\n",
       "    <tr>\n",
       "      <th>8</th>\n",
       "      <td>Senior Data Scientist</td>\n",
       "      <td>Bangalore\\n+1</td>\n",
       "      <td>neostats</td>\n",
       "    </tr>\n",
       "    <tr>\n",
       "      <th>9</th>\n",
       "      <td>Lead Data Scientist</td>\n",
       "      <td>Bangalore\\n+1</td>\n",
       "      <td>aereo</td>\n",
       "    </tr>\n",
       "  </tbody>\n",
       "</table>\n",
       "</div>"
      ],
      "text/plain": [
       "                                               TITLE        LOCATION  \\\n",
       "0                                  ML Data Scientist   Bangalore\\n+3   \n",
       "1                      Data Scientist Urgent Vacancy  Bangalore\\n+15   \n",
       "2                         Data Scientist Recruitment  Bangalore\\n+15   \n",
       "3                         Data Scientist Recruitment  Bangalore\\n+15   \n",
       "4                                     Data Scientist   Bangalore\\n+4   \n",
       "5                                     Data Scientist       Bangalore   \n",
       "6      Lead Data Scientist/ Principal Data Scientist   Bangalore\\n+1   \n",
       "7  Vacancy For Data Scientist Fresher and Experience  Bangalore\\n+14   \n",
       "8                              Senior Data Scientist   Bangalore\\n+1   \n",
       "9                                Lead Data Scientist   Bangalore\\n+1   \n",
       "\n",
       "                                  COMPANY  \n",
       "0  gujarat facility services hiring fo...  \n",
       "1                      renuka interprises  \n",
       "2                      renuka interprises  \n",
       "3                      renuka interprises  \n",
       "4           acme services private limited  \n",
       "5                     ltimindtree limited  \n",
       "6                                 fractal  \n",
       "7                yogita staffing solution  \n",
       "8                                neostats  \n",
       "9                                   aereo  "
      ]
     },
     "execution_count": 22,
     "metadata": {},
     "output_type": "execute_result"
    }
   ],
   "source": [
    "df_1 = pd.DataFrame({'TITLE' : Job_title, 'LOCATION' : Job_location, 'COMPANY' : Company_name})\n",
    "df_1"
   ]
  },
  {
   "cell_type": "code",
   "execution_count": null,
   "id": "74251150",
   "metadata": {},
   "outputs": [],
   "source": []
  },
  {
   "cell_type": "code",
   "execution_count": 27,
   "id": "4e3df97d",
   "metadata": {},
   "outputs": [],
   "source": [
    "# Question - 3 :\n",
    "Driver = webdriver.Chrome()"
   ]
  },
  {
   "cell_type": "code",
   "execution_count": 28,
   "id": "350ccf91",
   "metadata": {},
   "outputs": [],
   "source": [
    "Driver.get(\"https://www.shine.com/\")"
   ]
  },
  {
   "cell_type": "code",
   "execution_count": 29,
   "id": "f64005a4",
   "metadata": {},
   "outputs": [],
   "source": [
    "Designation=Driver.find_element(By.ID,\"id_q\")\n",
    "Designation.send_keys('Data Scientist')"
   ]
  },
  {
   "cell_type": "code",
   "execution_count": 30,
   "id": "c035317b",
   "metadata": {},
   "outputs": [],
   "source": [
    "Search=Driver.find_element(By.XPATH,\"/html/body/div/div[4]/div/div[2]/div[2]/div/form/div/div[2]/div/button\")\n",
    "Search.click()"
   ]
  },
  {
   "cell_type": "code",
   "execution_count": 31,
   "id": "b300f894",
   "metadata": {},
   "outputs": [],
   "source": [
    "Loc_fil=Driver.find_element(By.XPATH,\"/html/body/div[1]/div[1]/div[3]/div/div[1]/div/div[2]/div/ul/li[1]/button\")\n",
    "Loc_fil.click()"
   ]
  },
  {
   "cell_type": "code",
   "execution_count": 32,
   "id": "d0b1a7f5",
   "metadata": {},
   "outputs": [],
   "source": [
    "place=Driver.find_element(By.XPATH,\"/html/body/div[3]/div/div/div/div[3]/div/div/div/ul/li[13]/span/label\")\n",
    "place.click()"
   ]
  },
  {
   "cell_type": "code",
   "execution_count": 33,
   "id": "e009b70a",
   "metadata": {},
   "outputs": [],
   "source": [
    "Sal_fil=Driver.find_element(By.XPATH,\"/html/body/div[1]/div[1]/div[3]/div/div[1]/div/div[2]/div/ul/li[3]/button\")\n",
    "Sal_fil.click()"
   ]
  },
  {
   "cell_type": "code",
   "execution_count": 34,
   "id": "78a81b1e",
   "metadata": {},
   "outputs": [],
   "source": [
    "sal_fix=Driver.find_element(By.XPATH,\"/html/body/div[3]/div/div/div/div[3]/div/div/div/ul/li[3]/span/label\")\n",
    "sal_fix.click()"
   ]
  },
  {
   "cell_type": "code",
   "execution_count": 35,
   "id": "54c971c9",
   "metadata": {},
   "outputs": [],
   "source": [
    "Result=Driver.find_element(By.XPATH,\"/html/body/div[3]/div/div/div/div[4]/button[2]\")\n",
    "Result.click()"
   ]
  },
  {
   "cell_type": "code",
   "execution_count": 36,
   "id": "9984c6d0",
   "metadata": {},
   "outputs": [],
   "source": [
    "Job_Title = []\n",
    "Job_Location = []\n",
    "Company_Name = []\n",
    "Experience_Required = []"
   ]
  },
  {
   "cell_type": "code",
   "execution_count": 37,
   "id": "bfdb4bfd",
   "metadata": {},
   "outputs": [],
   "source": [
    "tit_tags=Driver.find_elements(By.XPATH,'//h2[@itemprop=\"name\"]')\n",
    "for i in tit_tags[0:10]:\n",
    "    tit=i.text\n",
    "    Job_Title.append(tit)"
   ]
  },
  {
   "cell_type": "code",
   "execution_count": 38,
   "id": "e99b594a",
   "metadata": {},
   "outputs": [],
   "source": [
    "loc_tags=Driver.find_elements(By.XPATH,'//div[@class=\" jobCard_jobCard_lists_item__YxRkV jobCard_locationIcon__zrWt2\"]')\n",
    "for i in loc_tags[0:10]:\n",
    "    loc=i.text\n",
    "    Job_Location.append(loc)"
   ]
  },
  {
   "cell_type": "code",
   "execution_count": 39,
   "id": "ea7fe778",
   "metadata": {},
   "outputs": [],
   "source": [
    "comp_tags=Driver.find_elements(By.XPATH,'//div[@class=\"jobCard_jobCard_cName__mYnow\"]/span')\n",
    "for i in comp_tags[0:10]:\n",
    "    comp=i.text\n",
    "    Company_Name.append(comp)"
   ]
  },
  {
   "cell_type": "code",
   "execution_count": 40,
   "id": "1c8b846f",
   "metadata": {},
   "outputs": [],
   "source": [
    "exp_tags=Driver.find_elements(By.XPATH,'//div[@class=\" jobCard_jobCard_lists_item__YxRkV jobCard_jobIcon__3FB1t\"]')\n",
    "for i in exp_tags[0:10]:\n",
    "    exp=i.text\n",
    "    Experience_Required.append(exp)"
   ]
  },
  {
   "cell_type": "code",
   "execution_count": 41,
   "id": "bc17a1b0",
   "metadata": {},
   "outputs": [
    {
     "data": {
      "text/html": [
       "<div>\n",
       "<style scoped>\n",
       "    .dataframe tbody tr th:only-of-type {\n",
       "        vertical-align: middle;\n",
       "    }\n",
       "\n",
       "    .dataframe tbody tr th {\n",
       "        vertical-align: top;\n",
       "    }\n",
       "\n",
       "    .dataframe thead th {\n",
       "        text-align: right;\n",
       "    }\n",
       "</style>\n",
       "<table border=\"1\" class=\"dataframe\">\n",
       "  <thead>\n",
       "    <tr style=\"text-align: right;\">\n",
       "      <th></th>\n",
       "      <th>TitlE</th>\n",
       "      <th>LocatioN</th>\n",
       "      <th>Company_NamE</th>\n",
       "      <th>ExperiencE</th>\n",
       "    </tr>\n",
       "  </thead>\n",
       "  <tbody>\n",
       "    <tr>\n",
       "      <th>0</th>\n",
       "      <td>Data Scientist</td>\n",
       "      <td>Delhi\\n+4</td>\n",
       "      <td>acme services private limited</td>\n",
       "      <td>3 to 5 Yrs</td>\n",
       "    </tr>\n",
       "    <tr>\n",
       "      <th>1</th>\n",
       "      <td>Hiring candidates for Marketing with Fare &amp; Da...</td>\n",
       "      <td>Delhi\\n+2</td>\n",
       "      <td>sharda it services</td>\n",
       "      <td>2 to 5 Yrs</td>\n",
       "    </tr>\n",
       "    <tr>\n",
       "      <th>2</th>\n",
       "      <td>Hiring for Fare &amp; Data Analyst-Travel process</td>\n",
       "      <td>Delhi\\n+2</td>\n",
       "      <td>sharda it services</td>\n",
       "      <td>1 to 6 Yrs</td>\n",
       "    </tr>\n",
       "    <tr>\n",
       "      <th>3</th>\n",
       "      <td>Clinical Data Analyst</td>\n",
       "      <td>Delhi\\n+6</td>\n",
       "      <td>techno endura</td>\n",
       "      <td>0 to 1 Yr</td>\n",
       "    </tr>\n",
       "    <tr>\n",
       "      <th>4</th>\n",
       "      <td>Clinical Sas Programmer</td>\n",
       "      <td>Delhi\\n+8</td>\n",
       "      <td>techno endura</td>\n",
       "      <td>0 to 2 Yrs</td>\n",
       "    </tr>\n",
       "    <tr>\n",
       "      <th>5</th>\n",
       "      <td>Clinical SAS</td>\n",
       "      <td>Delhi\\n+8</td>\n",
       "      <td>techno endura</td>\n",
       "      <td>0 to 2 Yrs</td>\n",
       "    </tr>\n",
       "    <tr>\n",
       "      <th>6</th>\n",
       "      <td>Apprentice Trainee</td>\n",
       "      <td>Delhi\\n+9</td>\n",
       "      <td>mahima consultancy</td>\n",
       "      <td>0 Yrs</td>\n",
       "    </tr>\n",
       "    <tr>\n",
       "      <th>7</th>\n",
       "      <td>Clinical Data Management</td>\n",
       "      <td>Delhi\\n+6</td>\n",
       "      <td>techno endura</td>\n",
       "      <td>0 to 1 Yr</td>\n",
       "    </tr>\n",
       "    <tr>\n",
       "      <th>8</th>\n",
       "      <td>Bioanalytical Research</td>\n",
       "      <td>Delhi\\n+6</td>\n",
       "      <td>techno endura</td>\n",
       "      <td>0 to 1 Yr</td>\n",
       "    </tr>\n",
       "    <tr>\n",
       "      <th>9</th>\n",
       "      <td>Junior Clinical Data Management</td>\n",
       "      <td>Delhi\\n+6</td>\n",
       "      <td>techno endura</td>\n",
       "      <td>0 to 1 Yr</td>\n",
       "    </tr>\n",
       "  </tbody>\n",
       "</table>\n",
       "</div>"
      ],
      "text/plain": [
       "                                               TitlE   LocatioN  \\\n",
       "0                                     Data Scientist  Delhi\\n+4   \n",
       "1  Hiring candidates for Marketing with Fare & Da...  Delhi\\n+2   \n",
       "2      Hiring for Fare & Data Analyst-Travel process  Delhi\\n+2   \n",
       "3                              Clinical Data Analyst  Delhi\\n+6   \n",
       "4                            Clinical Sas Programmer  Delhi\\n+8   \n",
       "5                                       Clinical SAS  Delhi\\n+8   \n",
       "6                                 Apprentice Trainee  Delhi\\n+9   \n",
       "7                           Clinical Data Management  Delhi\\n+6   \n",
       "8                             Bioanalytical Research  Delhi\\n+6   \n",
       "9                    Junior Clinical Data Management  Delhi\\n+6   \n",
       "\n",
       "                    Company_NamE  ExperiencE  \n",
       "0  acme services private limited  3 to 5 Yrs  \n",
       "1             sharda it services  2 to 5 Yrs  \n",
       "2             sharda it services  1 to 6 Yrs  \n",
       "3                  techno endura   0 to 1 Yr  \n",
       "4                  techno endura  0 to 2 Yrs  \n",
       "5                  techno endura  0 to 2 Yrs  \n",
       "6             mahima consultancy       0 Yrs  \n",
       "7                  techno endura   0 to 1 Yr  \n",
       "8                  techno endura   0 to 1 Yr  \n",
       "9                  techno endura   0 to 1 Yr  "
      ]
     },
     "execution_count": 41,
     "metadata": {},
     "output_type": "execute_result"
    }
   ],
   "source": [
    "Df = pd.DataFrame({'TitlE' : Job_Title, 'LocatioN' : Job_Location, 'Company_NamE' : Company_Name, 'ExperiencE' : Experience_Required})\n",
    "Df"
   ]
  },
  {
   "cell_type": "code",
   "execution_count": null,
   "id": "7f92a8b1",
   "metadata": {},
   "outputs": [],
   "source": []
  },
  {
   "cell_type": "code",
   "execution_count": 2,
   "id": "da413b7d",
   "metadata": {},
   "outputs": [],
   "source": [
    " # Question - 7 :\n",
    "driver_4 = webdriver.Chrome()"
   ]
  },
  {
   "cell_type": "code",
   "execution_count": 3,
   "id": "c1f968e3",
   "metadata": {},
   "outputs": [],
   "source": [
    "driver_4.get('https://www.amazon.in/')"
   ]
  },
  {
   "cell_type": "code",
   "execution_count": 4,
   "id": "6f2278b3",
   "metadata": {},
   "outputs": [],
   "source": [
    "designation_4=driver_4.find_element(By.ID,\"twotabsearchtextbox\")\n",
    "designation_4.send_keys('Laptop')"
   ]
  },
  {
   "cell_type": "code",
   "execution_count": 5,
   "id": "a9a8ac7d",
   "metadata": {},
   "outputs": [],
   "source": [
    "search_4=driver_4.find_element(By.ID,'nav-search-submit-button')\n",
    "search_4.click()"
   ]
  },
  {
   "cell_type": "code",
   "execution_count": 6,
   "id": "aa81b6eb",
   "metadata": {},
   "outputs": [],
   "source": [
    "cpu_type=driver_4.find_element(By.XPATH,'/html/body/div[1]/div[1]/div[1]/div[2]/div/div[3]/span/div[1]/div/div/div[5]/ul[19]/span/span[9]/li/span/a/div/label/i')\n",
    "cpu_type.click()"
   ]
  },
  {
   "cell_type": "code",
   "execution_count": 7,
   "id": "562a4487",
   "metadata": {},
   "outputs": [],
   "source": [
    "Lap_Title = []\n",
    "Rating_s = []\n",
    "Price_s = []"
   ]
  },
  {
   "cell_type": "code",
   "execution_count": 17,
   "id": "bcb6ad03",
   "metadata": {},
   "outputs": [
    {
     "data": {
      "text/plain": [
       "['', '', '', '', '', '', '', '', '', '']"
      ]
     },
     "execution_count": 17,
     "metadata": {},
     "output_type": "execute_result"
    }
   ],
   "source": [
    "lap_tags=driver_4.find_elements(By.XPATH,'//span[@class=\"a-size-medium a-color-base a-text-normal\"]')\n",
    "for i in lap_tags[0:10]:\n",
    "    title_4=i.text\n",
    "    Lap_Title.append(title_4)\n",
    "    \n",
    "prices_tags=driver_4.find_elements(By.XPATH,'//span[@class=\"a-price\"]')\n",
    "for i in prices_tags[0:10]:\n",
    "    prices_4=i.text\n",
    "    Price_s.append(prices_4)\n",
    "    \n",
    "Rating_tags=driver_4.find_elements(By.XPATH,'//div[@class=\"a-section a-spacing-none a-spacing-top-micro\"]/div/span/span')\n",
    "for i in Rating_tags:\n",
    "    if i.text is None:\n",
    "        Rating_s.append('Not')\n",
    "    else:\n",
    "        Rating_s.append(i.text)\n",
    "Rating_s[0:10]        "
   ]
  },
  {
   "cell_type": "code",
   "execution_count": 18,
   "id": "34fc2c43",
   "metadata": {},
   "outputs": [
    {
     "name": "stdout",
     "output_type": "stream",
     "text": [
      "10 10 10\n"
     ]
    }
   ],
   "source": [
    "print(len(Lap_Title[:10]), len(Rating_s[:10]), len(Price_s[:10]))"
   ]
  },
  {
   "cell_type": "code",
   "execution_count": 19,
   "id": "fd9fffb1",
   "metadata": {},
   "outputs": [
    {
     "name": "stdout",
     "output_type": "stream",
     "text": [
      "                                        Laptop_Title Ratings     Prices\n",
      "0  ASUS TUF Gaming F15, 15.6\"(39.62 cms) FHD 144H...            ₹73,990\n",
      "1  MSI Modern 14, Intel 12th Gen. i7-1255U, 36CM ...            ₹49,990\n",
      "2  HP Pavilion 14 11th Gen Intel Core i7 16GB/1TB...            ₹84,899\n",
      "3  Lenovo Yoga Slim7 Carbon Intel Evo i7 1260P 13...          ₹1,17,990\n",
      "4  Lenovo IdeaPad Slim 3 Intel Core i7 12th Gen 1...            ₹62,990\n",
      "5  Acer Travelmate Business Laptop Intel Core i7-...            ₹49,990\n",
      "6  GIGABYTE G5 MF-G2IN313SH Gaming Laptop Intel C...            ₹75,990\n",
      "7  Samsung Galaxy Book3 Core i7 13th Gen 1355U - ...            ₹82,990\n",
      "8  (Renewed) HP Intel 6th Gen Core i7 14-inch (35...            ₹38,990\n",
      "9  HP Victus Gaming Laptop, 12th Gen Intel Core i...            ₹81,990\n"
     ]
    }
   ],
   "source": [
    "df_4 = pd.DataFrame({'Laptop_Title' : Lap_Title[:10],'Ratings' : Rating_s[:10], 'Prices' : Price_s[:10]})\n",
    "print(df_4)"
   ]
  },
  {
   "cell_type": "code",
   "execution_count": null,
   "id": "c7cb7c43",
   "metadata": {},
   "outputs": [],
   "source": []
  },
  {
   "cell_type": "code",
   "execution_count": 20,
   "id": "4a372de0",
   "metadata": {},
   "outputs": [],
   "source": [
    "# Question - 4 :\n",
    "driver_2 = webdriver.Chrome()"
   ]
  },
  {
   "cell_type": "code",
   "execution_count": 21,
   "id": "1beda523",
   "metadata": {},
   "outputs": [],
   "source": [
    "driver_2.get('https://www.flipkart.com/')"
   ]
  },
  {
   "cell_type": "code",
   "execution_count": 23,
   "id": "6c37739d",
   "metadata": {},
   "outputs": [],
   "source": [
    "designation_2=driver_2.find_element(By.CLASS_NAME,\"Pke_EE\")\n",
    "designation_2.send_keys('sunglasses')"
   ]
  },
  {
   "cell_type": "code",
   "execution_count": 24,
   "id": "978cd471",
   "metadata": {},
   "outputs": [],
   "source": [
    "search_1=driver_2.find_element(By.CLASS_NAME,\"_2iLD__\")\n",
    "search_1.click()"
   ]
  },
  {
   "cell_type": "code",
   "execution_count": 25,
   "id": "f5d2b710",
   "metadata": {},
   "outputs": [],
   "source": [
    "Brand = []\n",
    "Price = []\n",
    "Offer = []\n",
    "Prod_desc = []"
   ]
  },
  {
   "cell_type": "code",
   "execution_count": 26,
   "id": "d8872fdc",
   "metadata": {},
   "outputs": [],
   "source": [
    "brand_tags=driver_2.find_elements(By.XPATH,'//div[@class=\"_2WkVRV\"]')\n",
    "for i in brand_tags:\n",
    "    brand=i.text\n",
    "    Brand.append(brand)\n",
    "    \n",
    "price_tags=driver_2.find_elements(By.XPATH,'//div[@class=\"_30jeq3\"]')\n",
    "for i in price_tags:\n",
    "    price=i.text\n",
    "    Price.append(price)\n",
    "    \n",
    "offer_tags=driver_2.find_elements(By.XPATH,'//div[@class=\"_3Ay6Sb\"]/span')\n",
    "for i in offer_tags:\n",
    "    offer=i.text\n",
    "    Offer.append(offer)\n",
    "    \n",
    "prod_des_tags=driver_2.find_elements(By.XPATH,'//a[@class=\"IRpwTa\"]')\n",
    "for i in prod_des_tags:\n",
    "    if i.text is None:\n",
    "        Prod_desc.append('--')\n",
    "    else:\n",
    "        Prod_desc.append(i.text)   "
   ]
  },
  {
   "cell_type": "code",
   "execution_count": 27,
   "id": "5d4e28b3",
   "metadata": {},
   "outputs": [
    {
     "name": "stdout",
     "output_type": "stream",
     "text": [
      "40 40 40 39\n"
     ]
    }
   ],
   "source": [
    "print(len(Brand), len(Price), len(Offer), len(Prod_desc))"
   ]
  },
  {
   "cell_type": "code",
   "execution_count": 29,
   "id": "fec18ad6",
   "metadata": {},
   "outputs": [],
   "source": [
    "brand_title = []"
   ]
  },
  {
   "cell_type": "code",
   "execution_count": 32,
   "id": "952e1edc",
   "metadata": {},
   "outputs": [],
   "source": [
    "start = 0\n",
    "end = 3\n",
    "for page in range(start, end):\n",
    "    if page >= end: \n",
    "        break\n",
    "    brands = driver_2.find_elements(By.XPATH, '//div[@class=\"_2WkVRV\"]')\n",
    "    for i in brands:\n",
    "        brand_title.append(i.text)\n",
    "    next_button = driver_2.find_element(By.XPATH, '/html/body/div/div/div[3]/div[1]/div[2]/div[12]/div/div/nav/a[11]')\n",
    "    next_button.click()\n",
    "    time.sleep(3)"
   ]
  },
  {
   "cell_type": "code",
   "execution_count": 38,
   "id": "742967e6",
   "metadata": {},
   "outputs": [
    {
     "data": {
      "text/plain": [
       "['Lenskart STUDIO',\n",
       " 'Singco India',\n",
       " 'SRPM',\n",
       " 'ROADWAY',\n",
       " 'ROADWAY',\n",
       " 'Elligator',\n",
       " 'Elligator',\n",
       " 'AISLIN',\n",
       " 'Elligator',\n",
       " 'Rich Club',\n",
       " 'Eyenaks',\n",
       " 'ROYAL SON',\n",
       " 'Elligator',\n",
       " 'Zeemork',\n",
       " 'VINCENT CHASE',\n",
       " 'Fastrack',\n",
       " 'Eyewearlabs',\n",
       " 'Singco India',\n",
       " 'Aarna Fashion',\n",
       " 'Fastrack',\n",
       " 'Singco India',\n",
       " 'Lenskart STUDIO',\n",
       " 'Fastrack',\n",
       " 'Fastrack',\n",
       " 'Fastrack',\n",
       " 'VINCENT CHASE',\n",
       " 'Eyewearlabs',\n",
       " 'ROYAL SON',\n",
       " 'doah',\n",
       " 'Elligator',\n",
       " 'ROYAL SON',\n",
       " 'AISLIN',\n",
       " 'PIRASO',\n",
       " 'Fastrack',\n",
       " 'Arzonai',\n",
       " 'VINCENT CHASE',\n",
       " 'Singco India',\n",
       " 'ROZZETTA CRAFT',\n",
       " 'Elligator',\n",
       " 'PIRASO',\n",
       " 'AISLIN',\n",
       " 'Eyenaks',\n",
       " 'VINCENT CHASE',\n",
       " 'PIRASO',\n",
       " 'Fastrack',\n",
       " 'Fastrack',\n",
       " 'ROYAL SON',\n",
       " 'Eyewearlabs',\n",
       " 'Fastrack',\n",
       " 'Rich Club',\n",
       " 'Singco India',\n",
       " 'Singco India',\n",
       " 'PIRASO',\n",
       " 'Elligator',\n",
       " 'DEIXELS',\n",
       " 'PIRASO',\n",
       " 'Eyewearlabs',\n",
       " 'Lenskart STUDIO',\n",
       " 'PIRASO',\n",
       " 'VINCENT CHASE',\n",
       " 'ROYAL SON',\n",
       " 'ROYAL SON',\n",
       " 'ROYAL SON',\n",
       " 'ROADWAY',\n",
       " 'Fastrack',\n",
       " 'RESIST EYEWEAR',\n",
       " 'Singco India',\n",
       " 'AISLIN',\n",
       " 'Rich Club',\n",
       " 'VINCENT CHASE',\n",
       " 'PROVOGUE',\n",
       " 'ROZZETTA CRAFT',\n",
       " 'VINCENT CHASE',\n",
       " 'PIRASO',\n",
       " 'VINCENT CHASE',\n",
       " 'VINCENT CHASE',\n",
       " 'Eyewearlabs',\n",
       " 'ROYAL SON',\n",
       " 'PIRASO',\n",
       " 'iCopertina',\n",
       " 'ROYAL SON',\n",
       " 'Singco India',\n",
       " 'SATYAM',\n",
       " 'ROYAL SON',\n",
       " 'Fastrack',\n",
       " 'john jacobs',\n",
       " 'Lenskart STUDIO',\n",
       " 'ROYAL SON',\n",
       " 'Fastrack',\n",
       " 'VINCENT CHASE',\n",
       " 'ROYAL SON',\n",
       " 'ROYAL SON',\n",
       " 'Fastrack',\n",
       " 'IDEE',\n",
       " 'john jacobs',\n",
       " 'VINCENT CHASE',\n",
       " 'ROYAL SON',\n",
       " 'ROZZETTA CRAFT',\n",
       " 'Lenskart STUDIO',\n",
       " 'AISLIN',\n",
       " 'ROYAL SON',\n",
       " 'ROYAL SON',\n",
       " 'Ray-Ban',\n",
       " 'hayden haiza',\n",
       " 'BABYMOON',\n",
       " 'john jacobs',\n",
       " 'ROYAL SON',\n",
       " 'AISLIN',\n",
       " 'ROADWAY',\n",
       " 'VINCENT CHASE',\n",
       " 'ROYAL SON',\n",
       " 'Royaltail',\n",
       " 'Fastrack',\n",
       " 'AISLIN',\n",
       " 'Dressberry',\n",
       " 'Lenskart STUDIO',\n",
       " 'ROYAL SON',\n",
       " 'AISLIN',\n",
       " 'VINCENT CHASE',\n",
       " 'hipe',\n",
       " 'AISLIN',\n",
       " 'AISLIN',\n",
       " 'VINCENT CHASE',\n",
       " 'LIZA ANGEL',\n",
       " 'john jacobs',\n",
       " 'OAKLEY',\n",
       " 'ROYAL SON',\n",
       " 'ROYAL SON',\n",
       " 'IDEE',\n",
       " 'VINCENT CHASE',\n",
       " 'AISLIN',\n",
       " 'Hooper',\n",
       " 'john jacobs',\n",
       " 'PIRASO',\n",
       " 'KAEN EYEWEAR',\n",
       " 'Rich Club',\n",
       " 'Hooper',\n",
       " 'ROYAL SON',\n",
       " 'POLICE',\n",
       " 'IRUS',\n",
       " 'ROYAL SON',\n",
       " 'AISLIN',\n",
       " 'john jacobs',\n",
       " 'ROYAL SON',\n",
       " 'AISLIN',\n",
       " 'VINCENT CHASE',\n",
       " 'AISLIN',\n",
       " 'ROYAL SON',\n",
       " 'AISLIN',\n",
       " 'PERKEY',\n",
       " 'ROYAL SON',\n",
       " 'AISLIN',\n",
       " 'POLICE',\n",
       " 'Royaltail',\n",
       " 'AISLIN',\n",
       " 'IDEE',\n",
       " 'ROYAL SON',\n",
       " 'AISLIN',\n",
       " 'ROZZETTA CRAFT',\n",
       " 'VINCENT CHASE',\n",
       " 'Royaltail',\n",
       " 'AISLIN',\n",
       " 'ROYAL SON',\n",
       " 'Roadster',\n",
       " 'VINCENT CHASE',\n",
       " 'VINCENT CHASE',\n",
       " 'ROYAL SON',\n",
       " 'NuVew',\n",
       " 'AISLIN',\n",
       " 'AISLIN',\n",
       " 'AISLIN',\n",
       " 'ROYAL SON',\n",
       " 'john jacobs',\n",
       " 'VINCENT CHASE',\n",
       " 'VINCENT CHASE',\n",
       " 'NuVew',\n",
       " 'RESIST EYEWEAR',\n",
       " 'AISLIN',\n",
       " 'OAKLEY',\n",
       " 'AISLIN',\n",
       " 'AISLIN',\n",
       " 'PERKEY',\n",
       " 'GUESS',\n",
       " 'OJOS',\n",
       " 'john jacobs',\n",
       " 'john jacobs',\n",
       " 'ROYAL SON',\n",
       " 'PERKEY',\n",
       " 'AISLIN',\n",
       " 'john jacobs',\n",
       " 'PERKEY',\n",
       " 'PERKEY',\n",
       " 'Elligator',\n",
       " 'Lenskart Hustlr',\n",
       " 'AISLIN',\n",
       " 'VINCENT CHASE',\n",
       " 'AISLIN',\n",
       " 'ROZZETTA CRAFT',\n",
       " 'IDEE',\n",
       " 'VINCENT CHASE',\n",
       " 'Royaltail',\n",
       " 'AISLIN',\n",
       " 'Elligator',\n",
       " 'ROYAL SON',\n",
       " 'ROYAL SON',\n",
       " 'AISLIN',\n",
       " 'AISLIN',\n",
       " 'AISLIN',\n",
       " 'AISLIN',\n",
       " 'AISLIN',\n",
       " 'AISLIN',\n",
       " 'AISLIN',\n",
       " 'GUESS',\n",
       " 'Rich Club',\n",
       " 'Eymen I',\n",
       " 'POLAROID',\n",
       " 'NuVew',\n",
       " 'PERKEY',\n",
       " 'ROYAL SON',\n",
       " 'CARRERA',\n",
       " 'PERKEY',\n",
       " 'AISLIN',\n",
       " 'Elligator',\n",
       " 'GUESS',\n",
       " 'AISLIN',\n",
       " 'ROYAL SON',\n",
       " 'AISLIN',\n",
       " 'AISLIN',\n",
       " 'VINCENT CHASE',\n",
       " 'METRONAUT',\n",
       " 'AISLIN',\n",
       " 'ROYAL SON',\n",
       " 'ROYAL SON',\n",
       " 'john jacobs',\n",
       " 'john jacobs',\n",
       " 'IRUS',\n",
       " 'NuVew',\n",
       " 'PERKEY',\n",
       " 'john jacobs',\n",
       " 'john jacobs',\n",
       " 'Royaltail',\n",
       " 'AISLIN',\n",
       " 'Elligator',\n",
       " 'ROYAL SON',\n",
       " 'ROYAL SON',\n",
       " 'AISLIN',\n",
       " 'AISLIN',\n",
       " 'AISLIN',\n",
       " 'AISLIN',\n",
       " 'AISLIN',\n",
       " 'AISLIN',\n",
       " 'AISLIN',\n",
       " 'GUESS',\n",
       " 'Rich Club',\n",
       " 'Eymen I',\n",
       " 'POLAROID',\n",
       " 'NuVew',\n",
       " 'PERKEY',\n",
       " 'ROYAL SON',\n",
       " 'CARRERA',\n",
       " 'PERKEY',\n",
       " 'AISLIN',\n",
       " 'Elligator',\n",
       " 'GUESS',\n",
       " 'AISLIN',\n",
       " 'ROYAL SON',\n",
       " 'AISLIN',\n",
       " 'AISLIN',\n",
       " 'VINCENT CHASE',\n",
       " 'METRONAUT',\n",
       " 'AISLIN',\n",
       " 'ROYAL SON',\n",
       " 'ROYAL SON',\n",
       " 'john jacobs',\n",
       " 'john jacobs',\n",
       " 'IRUS',\n",
       " 'NuVew',\n",
       " 'PERKEY',\n",
       " 'john jacobs',\n",
       " 'john jacobs',\n",
       " 'Royaltail',\n",
       " 'AISLIN',\n",
       " 'Elligator',\n",
       " 'ROYAL SON',\n",
       " 'ROYAL SON',\n",
       " 'AISLIN',\n",
       " 'AISLIN',\n",
       " 'AISLIN',\n",
       " 'AISLIN',\n",
       " 'AISLIN',\n",
       " 'AISLIN',\n",
       " 'AISLIN',\n",
       " 'GUESS',\n",
       " 'Rich Club',\n",
       " 'Eymen I',\n",
       " 'POLAROID',\n",
       " 'NuVew',\n",
       " 'PERKEY',\n",
       " 'ROYAL SON',\n",
       " 'CARRERA',\n",
       " 'PERKEY',\n",
       " 'AISLIN',\n",
       " 'Elligator',\n",
       " 'GUESS',\n",
       " 'AISLIN',\n",
       " 'ROYAL SON',\n",
       " 'AISLIN',\n",
       " 'AISLIN',\n",
       " 'VINCENT CHASE',\n",
       " 'METRONAUT',\n",
       " 'AISLIN',\n",
       " 'ROYAL SON',\n",
       " 'ROYAL SON',\n",
       " 'john jacobs',\n",
       " 'john jacobs',\n",
       " 'IRUS',\n",
       " 'NuVew',\n",
       " 'PERKEY',\n",
       " 'john jacobs',\n",
       " 'john jacobs']"
      ]
     },
     "execution_count": 38,
     "metadata": {},
     "output_type": "execute_result"
    }
   ],
   "source": [
    "len(brand_title)\n",
    "brand_title"
   ]
  },
  {
   "cell_type": "code",
   "execution_count": 33,
   "id": "7929c427",
   "metadata": {},
   "outputs": [],
   "source": [
    "price_title= []"
   ]
  },
  {
   "cell_type": "code",
   "execution_count": 34,
   "id": "21096640",
   "metadata": {},
   "outputs": [],
   "source": [
    "start = 0\n",
    "end = 3\n",
    "for page in range(start, end):\n",
    "    if page >= end: \n",
    "        break\n",
    "    prices = driver_2.find_elements(By.XPATH, '//div[@class=\"_30jeq3\"]') \n",
    "    for i in prices:\n",
    "        price_title.append(i.text)\n",
    "    next_button = driver_2.find_element(By.XPATH, '/html/body/div/div/div[3]/div[1]/div[2]/div[12]/div/div/nav/a[11]')\n",
    "    next_button.click()\n",
    "    time.sleep(3)    "
   ]
  },
  {
   "cell_type": "code",
   "execution_count": 39,
   "id": "dd6287eb",
   "metadata": {},
   "outputs": [
    {
     "data": {
      "text/plain": [
       "['₹799',\n",
       " '₹482',\n",
       " '₹418',\n",
       " '₹902',\n",
       " '₹199',\n",
       " '₹629',\n",
       " '₹4,219',\n",
       " '₹199',\n",
       " '₹399',\n",
       " '₹199',\n",
       " '₹569',\n",
       " '₹399',\n",
       " '₹1,154',\n",
       " '₹299',\n",
       " '₹249',\n",
       " '₹404',\n",
       " '₹816',\n",
       " '₹179',\n",
       " '₹869',\n",
       " '₹549',\n",
       " '₹816',\n",
       " '₹224',\n",
       " '₹399',\n",
       " '₹854',\n",
       " '₹429',\n",
       " '₹346',\n",
       " '₹285',\n",
       " '₹96',\n",
       " '₹130',\n",
       " '₹359',\n",
       " '₹859',\n",
       " '₹299',\n",
       " '₹589',\n",
       " '₹829',\n",
       " '₹645',\n",
       " '₹869',\n",
       " '₹314',\n",
       " '₹359',\n",
       " '₹811',\n",
       " '₹2,199',\n",
       " '₹375',\n",
       " '₹999',\n",
       " '₹114',\n",
       " '₹429',\n",
       " '₹629',\n",
       " '₹2,499',\n",
       " '₹625',\n",
       " '₹346',\n",
       " '₹569',\n",
       " '₹799',\n",
       " '₹359',\n",
       " '₹1,236',\n",
       " '₹539',\n",
       " '₹1,479',\n",
       " '₹1,799',\n",
       " '₹949',\n",
       " '₹494',\n",
       " '₹340',\n",
       " '₹1,159',\n",
       " '₹418',\n",
       " '₹2,199',\n",
       " '₹1,899',\n",
       " '₹10,488',\n",
       " '₹219',\n",
       " '₹249',\n",
       " '₹1,799',\n",
       " '₹674',\n",
       " '₹594',\n",
       " '₹129',\n",
       " '₹749',\n",
       " '₹590',\n",
       " '₹634',\n",
       " '₹589',\n",
       " '₹418',\n",
       " '₹359',\n",
       " '₹1,159',\n",
       " '₹636',\n",
       " '₹385',\n",
       " '₹644',\n",
       " '₹249',\n",
       " '₹229',\n",
       " '₹2,375',\n",
       " '₹645',\n",
       " '₹2,129',\n",
       " '₹949',\n",
       " '₹1,899',\n",
       " '₹664',\n",
       " '₹631',\n",
       " '₹149',\n",
       " '₹375',\n",
       " '₹559',\n",
       " '₹1,499',\n",
       " '₹499',\n",
       " '₹599',\n",
       " '₹869',\n",
       " '₹6,892',\n",
       " '₹678',\n",
       " '₹674',\n",
       " '₹3,479',\n",
       " '₹3,789',\n",
       " '₹664',\n",
       " '₹559',\n",
       " '₹616',\n",
       " '₹645',\n",
       " '₹6,029',\n",
       " '₹3,519',\n",
       " '₹854',\n",
       " '₹674',\n",
       " '₹7,948',\n",
       " '₹1,939',\n",
       " '₹645',\n",
       " '₹559',\n",
       " '₹749',\n",
       " '₹675',\n",
       " '₹108',\n",
       " '₹418',\n",
       " '₹974',\n",
       " '₹1,231',\n",
       " '₹1,280',\n",
       " '₹2,539']"
      ]
     },
     "execution_count": 39,
     "metadata": {},
     "output_type": "execute_result"
    }
   ],
   "source": [
    "len(price_title)\n",
    "price_title"
   ]
  },
  {
   "cell_type": "code",
   "execution_count": 35,
   "id": "9c89bdb8",
   "metadata": {},
   "outputs": [],
   "source": [
    "offer_title = []"
   ]
  },
  {
   "cell_type": "code",
   "execution_count": 36,
   "id": "9524a572",
   "metadata": {},
   "outputs": [],
   "source": [
    "start = 0\n",
    "end = 3\n",
    "for page in range(start,end):\n",
    "    if page >= end:\n",
    "        break\n",
    "    offers = driver_2.find_elements(By.XPATH, '//div[@class=\"_3Ay6Sb\"]/span')\n",
    "    for i in offers:\n",
    "        offer_title.append(i.text)\n",
    "    next_button = driver_2.find_element(By.XPATH, '/html/body/div/div/div[3]/div[1]/div[2]/div[12]/div/div/nav/a[11]')\n",
    "    next_button.click()\n",
    "    time.sleep(3)        "
   ]
  },
  {
   "cell_type": "code",
   "execution_count": 40,
   "id": "fd61febe",
   "metadata": {},
   "outputs": [
    {
     "data": {
      "text/plain": [
       "['77% off',\n",
       " '70% off',\n",
       " '68% off',\n",
       " '75% off',\n",
       " '72% off',\n",
       " '54% off',\n",
       " '72% off',\n",
       " '67% off',\n",
       " '80% off',\n",
       " '68% off',\n",
       " '52% off',\n",
       " '67% off',\n",
       " '57% off',\n",
       " '87% off',\n",
       " '81% off',\n",
       " '87% off',\n",
       " '62% off',\n",
       " '69% off',\n",
       " '71% off',\n",
       " '86% off',\n",
       " '55% off',\n",
       " '55% off',\n",
       " '42% off',\n",
       " '88% off',\n",
       " '80% off',\n",
       " '73% off',\n",
       " '57% off',\n",
       " '79% off',\n",
       " '67% off',\n",
       " '90% off',\n",
       " '50% off',\n",
       " '51% off',\n",
       " '56% off',\n",
       " '72% off',\n",
       " '59% off',\n",
       " '77% off',\n",
       " '65% off',\n",
       " '79% off',\n",
       " '80% off',\n",
       " '67% off',\n",
       " '84% off',\n",
       " '71% off',\n",
       " '58% off',\n",
       " '57% off',\n",
       " '40% off',\n",
       " '60% off',\n",
       " '71% off',\n",
       " '76% off',\n",
       " '43% off',\n",
       " '89% off',\n",
       " '76% off',\n",
       " '65% off',\n",
       " '50% off',\n",
       " '71% off',\n",
       " '62% off',\n",
       " '25% off',\n",
       " '80% off',\n",
       " '82% off',\n",
       " '50% off',\n",
       " '52% off',\n",
       " '38% off',\n",
       " '45% off',\n",
       " '66% off',\n",
       " '72% off',\n",
       " '84% off',\n",
       " '70% off',\n",
       " '73% off',\n",
       " '70% off',\n",
       " '34% off',\n",
       " '66% off',\n",
       " '70% off',\n",
       " '69% off',\n",
       " '78% off',\n",
       " '72% off',\n",
       " '67% off',\n",
       " '62% off',\n",
       " '75% off',\n",
       " '68% off',\n",
       " '70% off',\n",
       " '87% off',\n",
       " '69% off',\n",
       " '44% off',\n",
       " '71% off',\n",
       " '59% off',\n",
       " '52% off',\n",
       " '45% off',\n",
       " '74% off',\n",
       " '76% off',\n",
       " '85% off',\n",
       " '74% off',\n",
       " '66% off',\n",
       " '44% off',\n",
       " '75% off',\n",
       " '70% off',\n",
       " '56% off',\n",
       " '25% off',\n",
       " '73% off',\n",
       " '60% off',\n",
       " '63% off',\n",
       " '57% off',\n",
       " '50% off',\n",
       " '66% off',\n",
       " '69% off',\n",
       " '71% off',\n",
       " '24% off',\n",
       " '57% off',\n",
       " '67% off',\n",
       " '57% off',\n",
       " '22% off',\n",
       " '34% off',\n",
       " '69% off',\n",
       " '75% off',\n",
       " '62% off',\n",
       " '72% off',\n",
       " '89% off',\n",
       " '72% off',\n",
       " '72% off',\n",
       " '66% off',\n",
       " '59% off',\n",
       " '69% off']"
      ]
     },
     "execution_count": 40,
     "metadata": {},
     "output_type": "execute_result"
    }
   ],
   "source": [
    "len(offer_title)\n",
    "offer_title"
   ]
  },
  {
   "cell_type": "code",
   "execution_count": 41,
   "id": "647c8e03",
   "metadata": {},
   "outputs": [],
   "source": [
    "prod_desc_title = []"
   ]
  },
  {
   "cell_type": "code",
   "execution_count": 42,
   "id": "7d0fc44c",
   "metadata": {},
   "outputs": [],
   "source": [
    "start = 0\n",
    "end = 3\n",
    "for page in range(start,end):\n",
    "    if page >= end:\n",
    "        break\n",
    "    prod_des_tags=driver_2.find_elements(By.XPATH, '//a[@class=\"IRpwTa\"]')\n",
    "    for i in prod_des_tags:\n",
    "        if i.text is None:\n",
    "            Prod_desc.append('--')\n",
    "        else:\n",
    "            Prod_desc.append(i.text)  \n",
    "    next_button = driver_2.find_element(By.XPATH, '/html/body/div/div/div[3]/div[1]/div[2]/div[12]/div/div/nav/a[11]')\n",
    "    next_button.click()\n",
    "    time.sleep(3)                "
   ]
  },
  {
   "cell_type": "code",
   "execution_count": 43,
   "id": "ebd18977",
   "metadata": {},
   "outputs": [
    {
     "data": {
      "text/plain": [
       "[]"
      ]
     },
     "execution_count": 43,
     "metadata": {},
     "output_type": "execute_result"
    }
   ],
   "source": [
    "len(prod_desc_title)\n",
    "prod_desc_title"
   ]
  },
  {
   "cell_type": "code",
   "execution_count": null,
   "id": "2d2345a3",
   "metadata": {},
   "outputs": [],
   "source": []
  },
  {
   "cell_type": "code",
   "execution_count": 2,
   "id": "307a1ff1",
   "metadata": {},
   "outputs": [],
   "source": [
    "# Question - 8 :\n",
    "driver_5 = webdriver.Chrome()"
   ]
  },
  {
   "cell_type": "code",
   "execution_count": 3,
   "id": "0b3836b4",
   "metadata": {},
   "outputs": [],
   "source": [
    "driver_5.get('https://www.azquotes.com/')"
   ]
  },
  {
   "cell_type": "code",
   "execution_count": 4,
   "id": "bfb11b86",
   "metadata": {},
   "outputs": [],
   "source": [
    "search_5=driver_5.find_element(By.XPATH,'/html/body/div[1]/div[1]/div[1]/div/div[3]/ul/li[5]/a')\n",
    "search_5.click()"
   ]
  },
  {
   "cell_type": "code",
   "execution_count": 5,
   "id": "89655379",
   "metadata": {},
   "outputs": [],
   "source": [
    "Quote_title = []\n",
    "Author_title = []\n",
    "Quote_type_title = []"
   ]
  },
  {
   "cell_type": "code",
   "execution_count": 11,
   "id": "868681ca",
   "metadata": {},
   "outputs": [],
   "source": [
    "quote_tags=driver_5.find_elements(By.XPATH,'//a[@class=\"title\"]')\n",
    "for i in quote_tags:\n",
    "    quote=i.text\n",
    "    Quote_title.append(quote)\n",
    "    \n",
    "author_tags=driver_5.find_elements(By.XPATH,'//div[@class=\"author\"]')\n",
    "for i in author_tags:\n",
    "    author=i.text\n",
    "    Author_title.append(author)\n",
    "    \n",
    "type_of_quote_tag=driver_5.find_elements(By.XPATH,'//div[@class=\"tags\"]')\n",
    "for i in type_of_quote_tag:\n",
    "    type_of_quote=i.text\n",
    "    Quote_type_title.append(type_of_quote)"
   ]
  },
  {
   "cell_type": "code",
   "execution_count": 12,
   "id": "884a8306",
   "metadata": {},
   "outputs": [
    {
     "name": "stdout",
     "output_type": "stream",
     "text": [
      "200 200 200\n"
     ]
    }
   ],
   "source": [
    "print(len(Quote_title), len(Author_title), len(Quote_type_title))"
   ]
  },
  {
   "cell_type": "code",
   "execution_count": 13,
   "id": "8a51d5ad",
   "metadata": {},
   "outputs": [],
   "source": [
    "QuotE = []"
   ]
  },
  {
   "cell_type": "code",
   "execution_count": 19,
   "id": "f0790e57",
   "metadata": {},
   "outputs": [
    {
     "name": "stdout",
     "output_type": "stream",
     "text": [
      "['The essence of strategy is choosing what not to do.', 'Can words describe the fragrance of the very breath of spring?', 'Faith is to believe what you do not see; the reward of this faith is to see what you believe.', 'When everything seems to be going against you, remember that the airplane takes off against the wind, not with it.', 'I have found that if you love life, life will love you back.', 'To disarm the people... was the best and most effectual way to enslave them.', 'Today a reader, tomorrow a leader.', \"A dream doesn't become reality through magic; it takes sweat, determination and hard work.\", 'Whoever would overthrow the liberty of a nation must begin by subduing the freeness of speech.', \"It's better to be a lion for a day than a sheep all your life.\", 'Resolution One: I will live for God. Resolution Two: If no one else does, I still will.', 'Tell me and I forget. Teach me and I remember. Involve me and I learn.', 'Fear is the main source of superstition, and one of the main sources of cruelty. To conquer fear is the beginning of wisdom.', 'Do not be embarrassed by your failures, learn from them and start again.', 'Everyone should be respected as an individual, but no one idolized.', \"Our worst days are never so bad that you are beyond the reach of God's grace. And your best days are never so good that you are beyond the need of God's grace.\", 'The more you like yourself, the less you are like anyone else, which makes you unique.', 'If there is no struggle, there is no progress.', 'If more of us valued food and cheer and song above hoarded gold, it would be a merrier world.', 'Success consists of going from failure to failure without loss of enthusiasm.', \"Don't aim for success if you want it; just do what you love and believe in, and it will come naturally.\", \"You know why there's a Second Amendment? In case the government fails to follow the first one.\", 'Nothing will work unless you do.', 'There are no secrets to success. It is the result of preparation, hard work, and learning from failure.', 'The hunger for love is much more difficult to remove than the hunger for bread.', 'Love yourself. It is important to stay positive because beauty comes from the inside out.', \"Life's most persistent and urgent question is, 'What are you doing for others?'\", 'Be faithful in small things because it is in them that your strength lies.', 'There is no greater happiness for a man than approaching a door at the end of a day knowing someone on the other side of that door is waiting for the sound of his footsteps.', 'Underlying most arguments against the free market is a lack of belief in freedom itself.', 'I hear and I forget. I see and I remember. I do and I understand.', \"It happens to everyone as they grow up. You find out who you are and what you want, and then you realize that people you've known forever don't see things the way you do. So you keep the wonderful memories, but find yourself moving on.\", 'I have a dream that my four little children will one day live in a nation where they will not be judged by the color of their skin, but by the content of their character.', 'An intelligent hell would be better than a stupid paradise.', 'Never worry about numbers. Help one person at a time and always start with the person nearest you.', 'Run when you can, walk if you have to, crawl if you must; just never give up.', 'If you want others to be happy, practice compassion. If you want to be happy, practice compassion.', \"You are responsible for your life. You can't keep blaming somebody else for your dysfunction. Life is really about moving on.\", \"Don't limit yourself. Many people limit themselves to what they think they can do. You can go as far as your mind lets you. What you believe, remember, you can achieve.\", 'When we lose one blessing, another is often most unexpectedly given in its place.', 'I only regret that I have but one life to lose for my country.', 'The only place success comes before work is in the dictionary.', 'Music was my refuge. I could crawl into the space between the notes and curl my back to loneliness.', 'The greatest enemy to human souls is the self-righteous spirit which makes men look to themselves for salvation.', 'My religion is very simple. My religion is kindness.', 'The Marines I have seen around the world have the cleanest bodies, the filthiest minds, the highest morale, and the lowest morals of any group of animals I have ever seen. Thank God for the United States Marine Corps!', 'With God in charge, I believe everything will work out for the best in the end.', 'A government that robs Peter to pay Paul can always depend on the support of Paul.', \"We can't help everyone, but everyone can help someone.\", \"Tolerance implies no lack of commitment to one's own beliefs. Rather it condemns the oppression or persecution of others.\", 'Worry does not empty tomorrow of its sorrow. It empties today of its strength.', 'Luck is predictable; the harder you work, the luckier you get.', 'Beware of false knowledge; it is more dangerous than ignorance.', 'A successful man is one who can lay a firm foundation with the bricks others have thrown at him.', 'There is no substitute for hard work.', \"When you have a dream, you've got to grab it and never let go.\", 'Whoever said the pen is mightier than the sword obviously never encountered automatic weapons.', 'He is happiest, be he king or peasant, who finds peace in his home.', 'The greatest discovery of all time is that a person can change his future by merely changing his attitude.', 'The size of your success is measured by the strength of your desire; the size of your dream; and how you handle disappointment along the way.', \"The dog is a gentleman; I hope to go to his heaven not man's.\", \"Don't judge each day by the harvest you reap but by the seeds that you plant.\", 'I can be changed by what happens to me. But I refuse to be reduced by it.', 'To acquire knowledge, one must study; but to acquire wisdom, one must observe.', 'No person is your friend who demands your silence, or denies your right to grow.', \"If you can't make it good, at least make it look good.\", 'Love begins by taking care of the closest ones - the ones at home.', 'Our death is not an end if we can live on in our children and the younger generation. For they are us; our bodies are only wilted leaves on the tree of life.', 'All great change in America begins at the dinner table.', 'Winning takes talent; to repeat takes character.', \"Humility is not thinking less of yourself, it's thinking of yourself less.\", 'You are always a student, never a master. You have to keep moving forward.', \"That's the real trouble with the world, too many people grow up.\", 'If we want to find safe alternatives to obstetrics, we must rediscover midwifery. To rediscover midwifery is the same as giving back childbirth to women. And imagine the future if surgical teams were at the service of the midwives and the women instead of controlling them.', 'Women are made to be loved, not understood.', \"Don't wait. The time will never be just right.\", 'One of the greatest diseases is to be nobody to anybody.', 'Real loss is only possible when you love something more than you love yourself.', 'Opportunity is missed by most people because it is dressed in overalls and looks like work.', \"A mother's love for her child is like nothing else in the world. It knows no law, no pity, it dares all things and crushes down remorselessly all that stands in its path.\", 'When a woman becomes her own best friend life is easier.', 'One of the most tragic things I know about human nature is that all of us tend to put off living. We are all dreaming of some magical rose garden over the horizon instead of enjoying the roses that are blooming outside our windows today.', 'If your actions inspire others to dream more, learn more, do more and become more, you are a leader.', 'Children learn more from what you are than what you teach.', 'Optimism is a happiness magnet. If you stay positive, good things and good people will be drawn to you.', \"We cannot be both the world's leading champion of peace and the world's leading supplier of the weapons of war.\", \"Life isn't about finding yourself. Life is about creating yourself.\", 'The only thing worse than being blind is having sight but no vision.', \"I'd rather attempt to do something great and fail than to attempt to do nothing and succeed.\", 'Keep your dreams alive. Understand to achieve anything requires faith and belief in yourself, vision, hard work, determination, and dedication. Remember all things are possible for those who believe.', 'Whatever you want in life, other people are going to want it too. Believe in yourself enough to accept the idea that you have an equal right to it.', 'Even if I knew that tomorrow the world would go to pieces, I would still plant my apple tree.', 'Disciplining yourself to do what you know is right and important, although difficult, is the highroad to pride, self-esteem, and personal satisfaction.', 'All great achievements require time.', 'Success is not the key to happiness. Happiness is the key to success. If you love what you are doing, you will be successful.', 'When one door closes, another opens; but we often look so long and so regretfully upon the closed door that we do not see the one which has opened for us.', 'Discipline is the bridge between goals and accomplishment.', \"Don't find fault, find a remedy.\", \"I used to think the worst thing in life was to end up all alone. It's not. The worst thing in life is to end up with people who make you feel all alone.\", \"Friends and good manners will carry you where money won't go.\", 'If you want to make a permanent change, stop focusing on the size of your problems and start focusing on the size of you!', 'Success is not final, failure is not fatal: it is the courage to continue that counts.', 'A day of worry is more exhausting than a week of work.', 'Strive not to be a success, but rather to be of value.', 'Cancer can take away all of my physical abilities. It cannot touch my mind, it cannot touch my heart, and it cannot touch my soul.', 'Honesty is the first chapter in the book of wisdom.', 'Build your own dreams, or someone else will hire you to build theirs.', 'Intense love does not measure, it just gives.', \"Try to be a rainbow in someone's cloud.\", 'A failure is not always a mistake, it may simply be the best one can do under the circumstances. The real mistake is to stop trying.', 'Whatever we plant in our subconscious mind and nourish with repetition and emotion will one day become a reality.', 'I have decided to stick with love. Hate is too great a burden to bear.', 'All of our dreams can come true...', 'If I were not a physicist, I would probably be a musician. I often think in music. I live my daydreams in music. I see my life in terms of music.', 'Your most unhappy customers are your greatest source of learning.', 'Coming together is a beginning; keeping together is progress; working together is success.', 'Never do anything against conscience even if the state demands it.', 'The future belongs to those who believe in the beauty of their dreams.', 'Baseball was, is and always will be to me the best game in the world.', 'Go for it now. The future is promised to no one.', 'Monsters are real, and ghosts are real too. They live inside us, and sometimes, they win.', \"When you can't make them see the light, make them feel the heat.\", 'Never, never and never again shall it be that this beautiful land will again experience the oppression of one by another.', 'Action may not always bring happiness; but there is no happiness without action.', 'The way to get started is to quit talking and begin doing.', 'The soul always knows what to do to heal itself. The challenge is to silence the mind', 'What can you do to promote world peace? Go home and love your family.', \"You don't have to see the whole staircase, just take the first step.\", 'Our life is what our thoughts make it.', 'Delete the negative; accentuate the positive!', 'Boys, you must strive to find your own voice, because the longer you wait to begin the less likely you are to find it at all.', \"There are two ways of exerting one's strength: one is pushing down, the other is pulling up.\", 'Great minds have purposes; others have wishes.', \"Don't waste a minute not being happy. If one window closes, run to the next window- or break down a door.\", 'A good conscience is a continual Christmas.', \"A mother's arms are more comforting than anyone else's.\", 'Before anything else, preparation is the key to success.', 'Laziness may appear attractive, but work gives satisfaction.', 'Sometimes I am two people. Johnny is the nice one. Cash causes all the trouble. They fight.', 'Yesterday is not ours to recover, but tomorrow is ours to win or lose.', 'It does not matter how slowly you go as long as you do not stop.', 'Leadership is the capacity to translate vision into reality.', 'If you take responsibility for yourself you will develop a hunger to accomplish your dreams.', 'Success is getting what you want. Happiness is wanting what you get.', 'Optimism is the faith that leads to achievement. Nothing can be done without hope and confidence.', 'Success is having to worry about every damn thing in the world, except money.', 'No one remembers who came in second.', 'The object of war is not to die for your country but to make the other bastard die for his.', 'The way I see it, if you want the rainbow, you gotta put up with the rain.', 'Formal education will make you a living; self-education will make you a fortune.', 'A warm smile is the universal language of kindness.', 'To improve is to change; to be perfect is to change often.', \"I, not events, have the power to make me happy or unhappy today. I can choose which it shall be. Yesterday is dead, tomorrow hasn't arrived yet. I have just one day, today, and I'm going to be happy in it.\", \"Don't be pushed by your problems. Be led by your dreams.\", \"Don't wait around for other people to be happy for you. Any happiness you get you've got to make yourself.\", \"Our prime purpose in this life is to help others. And if you can't help them, at least don't hurt them.\", 'The amount of good luck coming your way depends on your willingness to act.', 'How people treat you is their karma; how you react is yours.', \"Be happy in the moment, that's enough. Each moment is all we need, not more.\", 'Live without pretending, love without depending, listen without defending, speak without offending.', \"I believe that everything happens for a reason. People change so that you can learn to let go, things go wrong so that you appreciate them when they're right, you believe lies so you eventually learn to trust no one but yourself, and sometimes good things fall apart so better things can fall together.\", \"Promise me you'll always remember: You're braver than you believe, and stronger than you seem, and smarter than you think.\", \"If winning isn't everything, why do they keep score?\", 'The only person you are destined to become is the person you decide to be.', 'Happiness is not something you postpone for the future; it is something you design for the present.', 'Love is a fruit in season at all times, and within reach of every hand.', \"You may be disappointed if you fail, but you are doomed if you don't try.\", \"My home is in Heaven. I'm just traveling through this world.\", \"Opportunities are usually disguised as hard work, so most people don't recognize them.\", 'History does not long entrust the care of freedom to the weak or the timid.', 'We all have ability. The difference is how we use it.', 'Too often we underestimate the power of a touch, a smile, a kind word, a listening ear, an honest compliment, or the smallest act of caring, all of which have the potential to turn a life around.', 'You know, one day you look at the person and you see something more than you did the night before. Like a switch has been flicked somewhere. And the person who was just a friend is... suddenly the only person you can ever imagine yourself with.', \"Let others lead small lives, but not you. Let others argue over small things, but not you. Let others cry over small hurts, but not you. Let others leave their future in someone else's hands, but not you.\", \"The Marine Corps has just been called by the New York Times, 'The elite of this country.' I think it is the elite of the world.\", \"I didn't fail the test, I just found 100 ways to do it wrong.\", 'Our life is frittered away by detail... simplify, simplify.', 'Strength does not come from physical capacity. It comes from an indomitable will.', 'All successful people, men and women, are big dreamers. They imagine what their future could be, ideal in every respect, and then they work every day toward their distant vision, that goal or purpose.', \"Never limit yourself because of others' limited imagination; never limit others because of your own limited imagination.\", 'Wherever you go, go with all your heart.', \"I wasn't afraid to fail. Something good always comes out of failure.\", 'A life spent making mistakes is not only more honorable, but more useful than a life spent doing nothing.', \"I don't believe you have to be better than everybody else. I believe you have to be better than you ever thought you could be.\", \"How do you tell a communist? Well, it's someone who reads Marx and Lenin. And how do you tell an anti-Communist? It's someone who understands Marx and Lenin.\", 'We can complain because rose bushes have thorns, or rejoice because thorn bushes have roses.', 'Getting over a painful experience is much like crossing monkey bars. You have to let go at some point in order to move forward.', \"I don't know the key to success, but the key to failure is trying to please everybody.\", 'The primary cause of unhappiness is never the situation but your thoughts about it.', 'Only those who will risk going too far can possibly find out how far one can go.', 'To change a habit, make a conscious decision, then act out the new behavior.', \"Don't worry about failure; you only have to be right once.\", \"Your present circumstances don't determine where you can go; they merely determine where you start.\", 'If you are not willing to risk the unusual, you will have to settle for the ordinary.', 'Happiness is when what you think, what you say, and what you do are in harmony.', 'The past cannot be changed. The future is yet in your power.', \"Don't watch the clock; do what it does. Keep going.\", \"Don't wait for extraordinary opportunities. Seize common occasions and make them great. Weak men wait for opportunities; strong men make them.\", \"If you're not careful, the newspapers will have you hating the people who are being oppressed, and loving the people who are doing the oppressing.\", 'I celebrated Thanksgiving in an old-fashioned way. I invited everyone in my neighborhood to my house, we had an enormous feast, and then I killed them and took their land.', \"One of the things I learned the hard way was that it doesn't pay to get discouraged. Keeping busy and making optimism a way of life can restore your faith in yourself.\", \"A dress should be tight enough to show you're a woman and loose enough to prove you're a lady.\", \"Sir, my concern is not whether God is on our side; my greatest concern is to be on God's side, for God is always right.\", 'If you love what you are doing, you will be successful.', 'Patience, persistence and perspiration make an unbeatable combination for success.', 'Christmas is the season of joy, of holiday greetings exchanged, of gift-giving,and of families united.', 'Setting goals is the first step in turning the invisible into the visible.', \"Above all, we must realize that no arsenal, or no weapon in the arsenals of the world, is so formidable as the will and moral courage of free men and women. It is a weapon our adversaries in today's world do not have.\", \"Take chances, make mistakes. That's how you grow. Pain nourishes your courage. You have to fail in order to practice being brave.\", \"Define success on your own terms, achieve it by your own rules, and build a life you're proud to live.\", 'If you judge people, you have no time to love them.', 'A nation that continues year after year to spend more money on military defense than on programs of social uplift is approaching spiritual doom.', \"Take care of your body. It's the only place you have to live.\", 'Only I can change my life. No one can do it for me.', \"Don't give up at half time. Concentrate on winning the second half.\", \"The most important thing is to enjoy your life - to be happy - it's all that matters.\", 'Never let your head hang down. Never give up and sit down and grieve. Find another way.', 'If you fell down yesterday, stand up today.', 'It is not how much we have, but how much we enjoy, that makes happiness.', 'Losers live in the past. Winners learn from the past and enjoy working in the present toward the future.', \"Don't dwell on what went wrong.\\nInstead, focus on what to do next.\\nSpend your energies on moving forward\\ntoward finding the answer.\", 'We must be willing to let go of the life we have planned, so as to have the life that is waiting for us.', 'A mind that is stretched by a new experience can never go back to its old dimensions.', 'The most important thing a father can do for his children is to love their mother.', 'The starting point of all achievement is desire.', 'Pray, and let God worry.', 'Work harder on yourself than you do on your job.', 'Nothing in life is to be feared, it is only to be understood. Now is the time to understand more, so that we may fear less.', \"Set your goals high, and don't stop till you get there.\", \"What is a teacher? I'll tell you: it isn't someone who teaches something, but someone who inspires the student to give of her best in order to discover what she already knows.\", 'Like slavery and apartheid, poverty is not natural. It is man-made and it can be overcome and eradicated by the actions of human beings.', 'Success depends upon previous preparation, and without such preparation there is sure to be failure.', 'We must let go of the life we have planned, so as to accept the one that is waiting for us.', 'A leader is a dealer in hope.', \"You don't learn to walk by following rules. You learn by doing, and by falling over.\", \"A leader takes people where they want to go. A great leader takes people where they don't necessarily want to go, but ought to be.\", 'Belief in oneself is one of the most important bricks in building any successful venture.', 'Experience is simply the name we give our mistakes.', 'The meaning of life is to find your gift. The purpose of life is to give it away.', \"If you are a pop band, don't say you're a metal band. Poison and Warrant were about as metal as the Backstreet Boys.\", 'One person with passion is better than forty people merely interested.', 'Change the changeable, accept the unchangeable, and remove yourself from the unacceptable.', 'I like to see a man proud of the place in which he lives. I like to see a man live so that his place will be proud of him.', \"It's not what you look at that matters, it's what you see.\", \"Life is simple. Everything happens for you, not to you. Everything happens at exactly the right moment, neither too soon nor too late. You don't have to like it... it's just easier if you do.\", \"Hard work spotlights the character of people: some turn up their sleeves, some turn up their noses, and some don't turn up at all.\", 'A leader is one who knows the way, goes the way, and shows the way.', 'Never give up on a dream just because of the time it will take to accomplish it. The time will pass anyway.', 'It is not the employer who pays the wages. Employers only handle the money. It is the customer who pays the wages.', 'Love is friendship that has caught fire. It is quiet understanding, mutual confidence, sharing and forgiving. It is loyalty through good and bad times. It settles for less than perfection and makes allowances for human weaknesses.', 'People grow through experience if they meet life honestly and courageously. This is how character is built.', 'Extraordinary people survive under the most terrible circumstances and they become more extraordinary because of it.', 'It is in your moments of decision that your destiny is shaped.', 'Never go backward. Attempt, and do it with all your might. Determination is power.', \"Successful people are always looking for opportunities to help others. Unsuccessful people are always asking, What's in it for me?\", \"Experience is not what happens to you; it's what you do with what happens to you.\", 'I like to listen. I have learned a great deal from listening carefully. Most people never listen.', 'Defeat is not the worst of failures. Not to have tried is the true failure.', 'Courage is what it takes to stand up and speak; courage is also what it takes to sit down and listen.', 'All truth passes through three stages. First, it is ridiculed. Second, it is violently opposed. Third, it is accepted as being self-evident.', 'For over 221 years our Corps has done two things for this great Nation. We make Marines, and we win battles.', 'I have found the paradox, that if you love until it hurts, there can be no more hurt, only more love.', 'If you set goals and go after them with all the determination you can muster, your gifts will take you places that will amaze you.', 'If you smile when no one else is around, you really mean it.', 'The price of success is hard work, dedication to the job at hand, and the determination that whether we win or lose, we have applied the best of ourselves to the task at hand.', 'Trust is to human relationships what faith is to gospel living. It is the beginning place, the foundation upon which more can be built. Where trust is, love can flourish.', \"Don't go around saying the world owes you a living. The world owes you nothing. It was here first.\", 'Never apologize for showing feeling. When you do so, you apologize for the truth.', 'In the wake of 9/11, my meetings with Arab and Pakistani Americans, for example, have a more urgent quality, for the stories of detentions and FBI questioning and hard stares from neighbors have shaken their sense of security and belonging. They have been reminded that the history of immigration in this country has a dark underbelly; they need specific reassurances that their citizenship really means something, that America has learned the right lessons from the Japanese internments during World War II, and that I will stand with them should the political winds shift in an ugly direction.', 'I have nothing to offer but blood, toil, tears and sweat.', 'Correction does much, but encouragement does more.', 'You change your life by changing your heart.', \"Life is hard; it's harder if you're stupid.\", 'Lead me, follow me, or get out of my way.', 'The Constitution is the guide which I never will abandon.', 'The true secret of happiness lies in taking a genuine interest in all the details of daily life.', 'The deadliest weapon in the world is a MARINE and his rifle!', 'Failure is not fatal, but failure to change might be.', 'After climbing a great hill, one only finds that there are many more hills to climb.', 'The best preparation for good work tomorrow is to do good work today.', 'Blues is easy to play, but hard to feel.', \"I've found that luck is quite predictable. If you want more luck, take more chances. Be more active. Show up more often.\", 'Even if you are on the brink of damnation, even if you have one foot in hell, even if you have sold your soul to the devil as sorcerers do who practice black magic, and even if you are a heretic as obstinate as a devil, sooner or later you will be converted and will amend your life and will save your soul, if-and mark well what I say-if you say the Holy Rosary devoutly every day until death for the purpose of knowing the truth and obtaining contrition and pardon for your sins.', 'Success is falling nine times and getting up ten.', 'The whole purpose of education is to turn mirrors into windows.', 'The nation which forgets its defenders will be itself forgotten.', \"Don't let the fear of losing be greater than the excitement of winning.\", 'Every saint has a past, and every sinner has a future.', \"There is no pit so deep, that God's love is not deeper still.\", 'I am not afraid of storms for I am learning how to sail my ship.', 'There is only one success - to be able to spend your life in your own way.', \"It doesn't take a hero to order men into battle. It takes a hero to be one of those men who goes into battle.\", \"I have not failed. I've just found 10,000 ways that won't work.\", 'Only when we are no longer afraid do we begin to live.', 'Returning violence for violence multiplies violence, adding deeper darkness to a night already devoid of stars.', \"Be a yardstick of quality. Some people aren't used to an environment where excellence is expected.\", 'Risks must be taken because the greatest hazard in life is to risk nothing.', 'He who has never learned to obey cannot be a good commander.', 'Change before you have to.', \"I don't need a friend who changes when I change and who nods when I nod; my shadow does that much better.\", \"You don't get paid for the hour. You get paid for the value you bring to the hour.\", 'The only person who is educated is the one who has learned how to learn and change.', 'Carry out a random act of kindness, with no expectation of reward, safe in the knowledge that one day someone might do the same for you.', \"Don't be afraid to give up the good to go for the great.\", 'Character cannot be developed in ease and quiet. Only through experience of trial and suffering can the soul be strengthened, ambition inspired, and success achieved.', \"Honor to the soldier and sailor everywhere, who bravely bears his country's cause. Honor, also, to the citizen who cares for his brother in the field and serves, as he best can, the same cause.\", 'Everyone has talent. What is rare is the courage to follow the talent to the dark place where it leads.', 'My best successes came on the heels of failures.', 'A lie can travel half way around the world while the truth is putting on its shoes.', 'Most of the important things in the world have been accomplished by people who have kept on trying when there seemed to be no hope at all.', \"Wisdom is the reward you get for a lifetime of listening when you'd have preferred to talk.\", 'When we seek to discover the best in others, we somehow bring out the best in ourselves.', 'Creativity requires the courage to let go of certainties.', 'Positive anything is better than negative nothing.', \"Racism isn't born, folks, it's taught. I have a two-year-old son. You know what he hates? Naps! End of list.\", 'Spread love everywhere you go. Let no one ever come to you without leaving happier.', 'Turn your wounds into wisdom.', 'The most beautiful thing we can experience is the mysterious. It is the source of all true art and science.', 'I learned that courage was not the absence of fear, but the triumph over it. The brave man is not he who does not feel afraid, but he who conquers that fear.', 'Happiness is a direction, not a place.', 'A wise man can learn more from a foolish question than a fool can learn from a wise answer.', \"One of the greatest discoveries a man makes, one of his great surprises, is to find he can do what he was afraid he couldn't do.\", 'An appeaser is one who feeds a crocodile, hoping it will eat him last.', 'Courage - a perfect sensibility of the measure of danger, and a mental willingness to endure it.', 'If everyone is moving forward together, then success takes care of itself.', 'Time is more valuable than money. You can get more money, but you cannot get more time.', 'Money has never made man happy, nor will it, there is nothing in its nature to produce happiness. The more of it one has the more one wants.', 'The more you know the less you need to say.', \"Be miserable. Or motivate yourself. Whatever has to be done, it's always your choice.\", 'If you are carrying strong feelings about something that happened in your past, they may hinder your ability to live in the present.', \"I'm the one that's got to die when it's time for me to die, so let me live my life the way I want to.\", 'If one had but a single glance to give the world, one should gaze on Istanbul.', 'Bravery is the capacity to perform properly even when scared half to death.', \"When it is obvious that the goals cannot be reached, don't adjust the goals, adjust the action steps.\", \"Being the richest man in the cemetery doesn't matter to me ... Going to bed at night saying we've done something wonderful... that's what matters to me.\", \"And above all, watch with glittering eyes the whole world around you because the greatest secrets are always hidden in the most unlikely places. Those who don't believe in magic will never find it.\", 'Never give up, for that is just the place and time that the tide will turn.', 'Is prayer your steering wheel or your spare tire?', 'All change is not growth, as all movement is not forward.', \"Too many people spend money they haven't earned to buy things they don't want to impress people they don't like.\", 'Before marriage, a girl has to make love to a man to hold him. After marriage, she has to hold him to make love to him.', 'Some of us think holding on makes us strong; but sometimes it is letting go.', 'I would rather die of passion than of boredom.', 'Run often. Run long. But never outrun your joy of running.', 'Success is a personal standard, reaching for the highest that is in us, becoming all that we can be.', 'Happiness is not a goal; it is a by-product.', 'Destiny is no matter of chance. It is a matter of choice. It is not a thing to be waited for, it is a thing to be achieved.', 'Valor is stability, not of legs and arms, but of courage and the soul.', 'Yesterday is gone. Tomorrow has not yet come. We have only today. Let us begin.', 'The secret of getting ahead is getting started', 'If you want to lift yourself up, lift up someone else.', 'The only thing necessary for the triumph of evil is for good men to do nothing.', \"We all die. The goal isn't to live forever, the goal is to create something that will.\", 'Men have called me mad; but the question is not yet settled, whether madness is or is not the loftiest intelligence– whether much that is glorious– whether all that is profound– does not spring from disease of thought– from moods of mind exalted at the expense of the general intellect.', 'Do not let what you cannot do interfere with what you can do.', 'The greatest obstacle to discovery is not ignorance - it is the illusion of knowledge.', 'Time is what we want most, but what we use worst.', \"No matter what you've done for yourself or for humanity, if you can't look back on having given love and attention to your own family, what have you really accomplished?\", 'Imagination is more important than knowledge. Knowledge is limited. Imagination encircles the world.', 'He who avoids complaint invites happiness.', 'Sometimes the questions are complicated and the answers are simple.', 'Doing what you love is the cornerstone of having abundance in your life.', \"Do not plan for ventures before finishing what's at hand.\", 'Your life does not get better by chance, it gets better by change.', 'Overcoming poverty is not a gesture of charity. It is an act of justice. It is the protection of a fundamental human right, the right to dignity and a decent life . . .', 'Patience and time do more than strength or passion.', 'Do more than belong: participate. Do more than care: help. Do more than believe: practice. Do more than be fair: be kind. Do more than forgive: forget. Do more than dream: work.', 'If you have knowledge, let others light their candles in it.', 'Courage is resistance to fear, mastery of fear, not absence of fear.', 'Disneyland will never be completed. It will continue to grow as long as there is imagination left in the world.', 'Believe and act as if it were impossible to fail.', 'Everything we hear is an opinion, not a fact. Everything we see is a perspective, not the truth.', 'Money cannot buy peace of mind. It cannot heal ruptured relationships, or build meaning into a life that has none.', \"Don't worry that children never listen to you; worry that they are always watching you.\", 'If evolution really works, how come mothers only have two hands?', \"Don't wish it were easier, wish you were better.\", 'I have been driven many times upon my knees by the overwhelming conviction that I had no where else to go. My own wisdom and that of all about me seemed insufficient for that day.', 'A smile is the light in your window that tells others that there is a caring, sharing person inside.', 'You cannot find peace by avoiding life.', 'There are no failures - just experiences and your reactions to them', 'My message, especially to young people is to have courage to think differently, courage to invent, to travel the unexplored path, courage to discover the impossible and to conquer the problems and succeed. These are great qualities that they must work towards. This is my message to the young people.', 'Persistent people begin their success where others end in failure.', 'Imagination is more important than knowledge.', 'Love is the only force capable of transforming an enemy into friend.', \"Life is about not knowing, having to change, taking the moment and making the best of it, without knowing what's going to happen next.\", 'You cannot make progress without making decisions.', \"The grace of God means something like: Here is your life. You might never have been, but you are because the party wouldn't have been complete without you.\", 'Get mad, then get over it.', 'When the sun is shining I can do anything; no mountain is too high, no trouble too difficult to overcome.', 'Everything that is really great and inspiring is created by the individual who can labor in freedom.', 'I never learn anything talking. I only learn things when I ask questions.', 'Throughout life people will make you mad, disrespect you and treat you bad. Let God deal with the things they do, cause hate in your heart will consume you too.', \"Let our New Year's resolution be this: we will be there for one another as fellow members of humanity, in the finest sense of the word.\", \"Faith is taking the first step even when you don't see the whole staircase.\", 'Never lose sight of the fact that the most important yardstick of your success will be how you treat other people - your family, friends, and coworkers, and even strangers you meet along the way.', \"Potentially, a government is the most dangerous threat to man's rights: it holds a legal monopoly on the use of physical force against legally disarmed victims.\", 'Let us not seek the Republican answer or the Democratic answer, but the right answer. Let us not seek to fix the blame for the past. Let us accept our own responsibility for the future.', \"Life isn't a matter of milestones, but of moments.\", 'The time is always right to do what is right.', 'Whatever you want to do, do it now. There are only so many tomorrows.', \"be yourself- not your idea of what you think somebody else's idea of yourself should be.\", 'If music be the food of love, play on, Give me excess of it; that surfeiting, The appetite may sicken, and so die.', 'Eighty percent of success is showing up.', \"Marriage: If you want something to last forever, you treat it differently. You shield it and protect it. You never abuse it. You don't expose it to the elements. You don't make it common or ordinary. If it ever becomes tarnished, you lovingly polish it until it gleams like new. It becomes special because you have made it so, and it grows more beautiful and precious as time goes by.\", 'A hero is an ordinary individual who finds the strength to persevere and endure in spite of overwhelming obstacles.', 'Our dilemma is that we hate change and love it at the same time; what we really want is for things to remain the same but get better.', \"If you believe you can, you probably can. If you believe you won't, you most assuredly won't.\\nBelief is the ignition switch that gets you off the launching pad.\", \"It's easy to make a buck. It's a lot tougher to make a difference.\", \"Ever since I was a child I have had this instinctive urge for expansion and growth. To me, the function and duty of a quality human being is the sincere and honest development of one's potential.\", 'If you focus on results, you will never change. If you focus on change, you will get results.', 'To find joy in work is to discover the fountain of youth.', 'Expect great things from God, attempt great things for God.', \"The greatest day in your life and mine is when we take total responsibility for our attitudes. That's the day we truly grow up.\", 'Education is what remains after one has forgotten what one has learned in school.', \"I mean, if the relationship can't survive the long term, why on earth would it be worth my time and energy for the short term?\", 'Hating people is like burning down your own house to get rid of a rat.', 'The privilege of a lifetime is being who you are.', 'Trust yourself. Create the kind of self that you will be happy to live with all your life. Make the most of yourself by fanning the tiny, inner sparks of possibility into flames of achievement.', \"Your time is limited, so don't waste it living someone else's life.\", 'You will never reach your destination if you stop and throw stones at every dog that barks.', 'If I take care of my character, my reputation will take care of me.', \"Success is a lousy teacher. It seduces smart people into thinking they can't lose.\", 'Life can only be understood backwards; but it must be lived forwards.', 'A good friend is a connection to life - a tie to the past, a road to the future, the key to sanity in a totally insane world.', 'Speak when you are angry and you will make the best speech you will ever regret.', \"Anybody can become angry - that is easy, but to be angry with the right person and to the right degree and at the right time and for the right purpose, and in the right way - that is not within everybody's power and is not easy.\", 'Neither a wise man nor a brave man lies down on the tracks of history to wait for the train of the future to run over him.', 'Talent hits a target no one else can hit; Genius hits a target no one else can see.', 'Courage is grace under pressure.', 'A nation can survive its fools, and even the ambitious. But it cannot survive treason from within. An enemy at the gates is less formidable, for he is known and carries his banner openly. But the traitor moves amongst those within the gate freely, his sly whispers rustling through all the alleys, heard in the very halls of government itself.', 'Trust yourself. Create the kind of self that you will be happy to live with all your life.', 'Dream and give yourself permission to envision a You that you choose to be.', 'Live out of your imagination, not your history.', 'Love yourself first and everything else falls into line. You really have to love yourself to get anything done in this world.', 'Success is peace of mind which is a direct result of self-satisfaction in knowing you did your best to become the best you are capable of becoming.', 'Great achievement is usually born of great sacrifice, and is never the result of selfishness.', 'The connections between and among women are the most feared, the most problematic, and the most potentially transforming force on the planet.', \"Don't let the fear of striking out hold you back.\", 'Being ignorant is not so much a shame, as being unwilling to learn.', \"Even if you're on the right track, you'll get run over if you just sit there.\", 'There are only two options regarding commitment; you’re either in or you’re out.', 'Above all, be the heroine of your life, not the victim.', 'Think of all the beauty still left around you and be happy.', 'The entrepreneur always searches for change, responds to it, and exploits it as an opportunity.', \"If you spend your whole life waiting for the storm, you'll never enjoy the sunshine.\", 'If you want your children to improve, let them overhear the nice things you say about them to others.', 'Your success and happiness lies in you. Resolve to keep happy, and your joy and you shall form an invincible host against difficulties.', 'Start where you are, use what you have.', 'We make a living by what we get, but we make a life by what we give.', 'Many marriages would be better if the husband and the wife clearly understood that they are on the same side.', 'I would rather have a mind opened by wonder than one closed by belief.', 'Success is a state of mind. If you want success, start thinking of yourself as a success.', 'You must either modify your dreams or magnify your skills', 'You cannot escape the responsibility of tomorrow by evading it today.', 'I knew what my job was; it was to go out and meet the people and love them.', 'When we are no longer able to change a situation - we are challenged to change ourselves.', 'If you look the right way, you can see that the whole world is a garden.', 'To hell with circumstances; I create opportunities.', 'Education is for improving the lives of others and for leaving your community and world better than you found it.', 'There is no death, only a change of worlds.', 'A person who is nice to you, but rude to the waiter, is not a nice person.', 'I attribute my success to this - I never gave or took any excuse.', 'Success is nothing more than a few simple disciplines, practiced every day.', \"I have a very strict gun control policy: if there's a gun around, I want to be in control of it.\", 'If there must be trouble, let it be in my day, that my child may have peace.', \"I have learned over the years that when one's mind is made up, this diminishes fear; knowing what must be done does away with fear.\", 'The beautiful thing about learning is nobody can take it away from you.', 'I am always doing that which I cannot do, in order that I may learn how to do it.', 'Security is mostly a superstition. It does not exist in nature.', \"If you're offered a seat on a rocket ship, don't ask what seat! Just get on.\", \"Don't be distracted by criticism. Remember ~ the only taste of success some people have is when they take a bite out of you.\", \"It's not your job to like me - it's mine\", 'We gain strength, and courage, and confidence by each experience in which we really stop to look fear in the face... we must do that which we think we cannot.', 'Aging is not \"lost youth\" but a new stage of opportunity and strength.', 'Gratitude makes sense of our past, brings peace for today, and creates a vision for tomorrow.', 'The pessimist complains about the wind; the optimist expects it to change; the realist adjusts the sails.', \"I hated every minute of training, but I said, 'Don't quit. Suffer now and live the rest of your life as a champion.'\", 'It is better to look ahead and prepare than to look back and regret.', 'Far and away the best prize that life has to offer is the chance to work hard at work worth doing.', 'If you are neutral in situations of injustice, you have chosen the side of the oppressor. If an elephant has its foot on the tail of a mouse and you say that you are neutral, the mouse will not appreciate your neutrality.', 'Perfection is not attainable, but if we chase perfection we can catch excellence.', 'Fame is a vapor, popularity an accident, and riches take wings. Only one thing endures and that is character.', 'One good thing about music, when it hits you, you feel no pain.', 'Happiness in intelligent people is the rarest thing I know.', 'Develop an attitude of gratitude, and give thanks for everything that happens to you, knowing that every step forward is a step toward achieving something bigger and better than your current situation.', \"For every failure, there's an alternative course of action. You just have to find it. When you come to a roadblock, take a detour.\", 'The best way to make your dreams come true is to wake up.', 'Life is 10 percent what you make it, and 90 percent how you take it.', 'My heroes are the ones who survived doing it wrong, who made mistakes, but recovered from them.', 'Small deeds done are better than great deeds planned.', \"Tis' better to live your own life imperfectly than to imitate someone else's perfectly.\", 'You are the average of the five people you spend the most time with.', 'A loving person lives in a loving world. A hostile person lives in a hostile world.', 'Make everything as simple as possible, but not simpler.', 'The most beautiful people we have known are those who have known defeat, known suffering, known struggle, known loss, and have found their way out of those depths.', 'Successful people ask better questions, and as a result, they get better answers.', 'There are three constants in life... change, choice and principles.', 'Young people need models, not critics.', \"Advice is what we ask for when we already know the answer but wish we didn't.\", 'The great use of life is to spend it for something that will outlast it.', 'Clear thinking requires courage rather than intelligence.', 'A man is not old until regrets take the place of dreams.', 'A part of kindness consists in loving people more than they deserve.', 'When you start to develop your powers of empathy and imagination, the whole world opens up to you.', 'Judge a man by his questions rather than his answers.', 'If you make a sale, you can make a living. If you make an investment of time and good service in a customer, you can make a fortune.', 'Never let a problem to be solved become more important than a person to be loved.', 'If a free society cannot help the many who are poor, it cannot save the few who are rich.', 'Our happiest moments as tourists always seem to come when we stumble upon one thing while in pursuit of something else.', 'People might not get all they work for in this world, but they must certainly work for all they get.', 'We should regret our mistakes and learn from them, but never carry them forward into the future with us.', 'You cannot create experience. You must undergo it.', 'Do you know what my favorite part of the game is? The opportunity to play.', \"The miracle isn't that I finished. The miracle is that I had the courage to start.\", 'It is easy to sit up and take notice, What is difficult is getting up and taking action.', 'Happiness is not a destination. It is a method of life.', 'The more anger towards the past you carry in your heart, the less capable you are of loving in the present.', 'Meditation is not a way of making your mind quiet. It is a way of entering into the quiet that is already there - buried under the 50,000 thoughts the average person thinks every day', 'It takes as much energy to wish as it does to plan.', \"If you hear a voice within you say 'you cannot paint,' then by all means paint, and that voice will be silenced.\", \"If you tell the truth, you don't have to remember anything.\", 'The only way to get the best of an argument is to avoid it.', 'Our incomes are like our shoes; if too small, they gall and pinch us; but if too large, they cause us to stumble and to trip.', 'Perseverance is failing 19 times and succeeding the 20th.', \"You don't need strength to let go of something. What you really need is understanding.\", 'You never really understand a person until you consider things from his point of view.', \"Until you value yourself, you won't value your time. Until you value your time, you will not do anything with it.\", 'Goodbyes are only for those who love with their eyes. Because for those who love with heart and soul there is no such thing as separation.', 'Human behavior flows from three main sources: desire, emotion, and knowledge.', 'Courage is contagious. When a brave man takes a stand, the spines of others are often stiffened.', 'A mediocre idea that generates enthusiasm will go further than a great idea that inspires no one.', 'Death is a challenge. It tells us not to waste time... It tells us to tell each other right now that we love each other.', \"Only those who have learned the power of sincere and selfless contribution experience life's deepest joy: true fulfillment.\", 'More things are wrought by prayer than this world dreams of.', 'I learned the value of hard work by working hard.', 'A child who is allowed to be disrespectful to his parents will not have true respect for anyone.', 'An effort made for the happiness of others lifts above ourselves.', 'The kind of beauty I want most is the hard-to-get kind that comes from within - strength, courage, dignity.', \"I can accept failure, everyone fails at something. But I can't accept not trying.\", 'If you want to be happy, be.', \"It's fine to celebrate success but it is more important to heed the lessons of failure.\", 'There is little success where there is little laughter.', 'Experience is a hard teacher because she gives the test first, the lesson afterward.', 'Should I kill myself, or have a cup of coffee?', \"Life shrinks or expands in proportion to one's courage.\", 'The ultimate reason for setting goals is to entice you to become the person it takes to achieve them', \"The key is not to prioritize what's on your schedule, but to schedule your priorities.\", 'He who learns but does not think, is lost. He who thinks but does not learn is in great danger.', 'Of the billionaires I have known, money just brings out the basic traits in them. If they were jerks before they had money, they are simply jerks with a billion dollars.', 'Christmas is the time when kids tell Santa what they want and adults pay for it. Deficits are when adults tell government what they want and their kids pay for it.', 'When the Holy Rosary is said well, it gives Jesus and Mary more glory and is more meritorious than any other prayer.', 'A well regulated militia, composed of the body of the people, trained in arms, is the best most natural defense of a free country.', \"We've begun to raise daughters more like sons... but few have the courage to raise our sons more like our daughters.\", \"A woman's perfume tells more about her than her handwriting.\", 'I am always ready to learn although I do not always like being taught.', 'Simply put, you believer that things or people make you unhappy, but this is not accurate. You make yourself unhappy.', \"People won't have time for you if you are always angry or complaining.\", \"I don't believe people are looking for the meaning of life as much as they are looking for the experience of being alive.\", \"I believe that whatever doesn't kill you, simply makes you... stranger.\", \"Don't wish it was easier wish you were better. Don't wish for less problems wish for more skills. Don't wish for less challenge wish for more wisdom\", 'Excuses are the nails used to build a house of failure.', 'Everything will line up perfectly when knowing and living the truth becomes more important than looking good.', 'There is no medicine like hope, no incentive so great, and no tonic so powerful as expectation of something tomorrow.', \"The Christian life is not a constant high. I have my moments of deep discouragement. I have to go to God in prayer with tears in my eyes, and say, 'O God, forgive me,' or 'Help me.'\", 'For every minute you remain angry, you give up sixty seconds of peace of mind.', 'As long as I live, I\\'ll hear waterfalls and birds and winds sing. I\\'ll interpret the rocks, learn the language of flood, storm, and the avalanche. I\\'ll acquaint myself with the glaciers and wild gardens, and get as near the heart of the world as I can\".', 'The greatest achievement was at first and for a time a dream. The oak sleeps in the acorn, the bird waits in the egg, and in the highest vision of the soul a waking angel stirs. Dreams are the seedlings of realities.', 'Learning never exhausts the mind.', \"It's not the events of our lives that shape us, but our beliefs as to what those events mean.\", 'What we fear doing most is usually what we most need to do.', \"Victory is sweetest when you've known defeat.\", 'The body does not want you to do this. As you run, it tells you to stop but the mind must be strong. You always go too far for your body. You must handle the pain with strategy...It is not age; it is not diet. It is the will to succeed.', \"What sunshine is to flowers, smiles are to humanity. These are but trifles, to be sure; but scattered along life's pathway, the good they do is inconceivable.\", 'The way to get things done is not to mind who gets the credit for doing them.', 'You cannot change your destination overnight, but you can change your direction overnight.', 'Success is the sum of small efforts, repeated day-in and day-out.', \"You will never 'find' time for anything. If you want time, you must make it.\", 'You have succeeded in life when all you really want is only what you really need.', 'If you realized how powerful your thoughts are, you would never think a negative thought.', 'The harder you work, the harder it is to surrender.', 'Winning is great, sure, but if you are really going to do something in life, the secret is learning how to lose.', 'You must take personal responsibility. You cannot change the circumstances, the seasons, or the wind, but you can change yourself. That is something you have charge of.', 'If you only read the books that everyone else is reading, you can only think what everyone else is thinking.', 'Not everything that is faced can be changed. But nothing can be changed until it is faced.', 'In all human affairs there are efforts, and there are results, and the strength of the effort is the measure of the result.', 'It is so hard to leave—until you leave. And then it is the easiest goddamned thing in the world.', 'People who boast about their I.Q. are losers.', 'To understand the heart and mind of a person, look not at what he has already achieved, but at what he aspires to.', \"Miss a meal if you have to, but don't miss a book.\", 'It is better to be alone than in bad company.', 'Try to learn something about everything and everything about something.', 'Help others achieve their dreams and you will achieve yours.', \"You don't fight racism with racism, the best way to fight racism is with solidarity.\", 'Effort and courage are not enough without purpose and direction.', \"One doesn't discover new lands without consenting to lose sight, for a very long time, of the shore.\", 'We are what we pretend to be, so we must be careful what we pretend to be.', 'All things are difficult before they are easy.', 'People ask the difference between a leader and a boss. The leader leads, and the boss drives.', 'The thing that is really hard, and really amazing, is giving up on being perfect and beginning the work of becoming yourself.', 'Love is the ability and willingness to allow those that you care for to be what they choose for themselves without any insistence that they satisfy you.', 'Sooner or later, those who win are those who think they can.', \"Those who matter don't mind, and those who mind don't matter.\", 'You were born to win, but to be a winner, you must plan to win, prepare to win, and expect to win.', \"If you don't like something, change it. If you can't change it, change your attitude.\", 'Gratitude unlocks the fullness of life. It turns what we have into enough, and more. It turns denial into acceptance, chaos to order, confusion to clarity. It can turn a meal into a feast, a house into a home, a stranger into a friend.', 'Everyone seems to have a clear idea of how other people should lead their lives, but none about his or her own.', \"I don't go by the rule book... I lead from the heart, not the head.\", 'A hero is someone who has given his or her life to something bigger than oneself.', 'The more one judges, the less one loves.', 'Man never made any material as resilient as the human spirit.', 'The best way to find out if you can trust somebody is to trust them.', \"At the end of the day, all you can hope for is to go on. The older I get, the more I realize that just keeping on keeping on is what life's all about.\", 'I cannot always control what goes on outside. But I can always control what goes on inside.', 'Expect trouble as an inevitable part of life and when it comes, hold your head high, look it squarely in the eye and say “I will be bigger than you. You cannot defeat me.” Then repeat to yourself the most comforting of all words , “This too shall pass.”', 'I have witnessed the softening of the hardest of hearts by a simple smile.', 'When you judge another, you do not define them, you define yourself.', 'The only way to live is to accept each minute as an unrepeatable miracle, which is exactly what it is: a miracle and unrepeatable.', 'We are all here for some special reason. Stop being a prisoner of your past. Become the architect of your future.', 'He who is not everyday conquering some fear has not learned the secret of life.', \"When I do good, I feel good. When I do bad, I feel bad. That's my religion.\", \"I don't know what the future may hold, but I know who holds the future.\", 'The best way out is always through.', 'People become really quite remarkable when they start thinking that they can do things. When they believe in themselves they have the first secret of success.', 'Always walk through life as if you have something new to learn, and you will.', \"The elevator to success is out of order. You'll have to use the stairs... one step at a time.\", 'True terror is to wake up one morning and discover that your high school class is running the country.', 'Silence is the sleep that nourishes wisdom.', \"Every time you don't follow your inner guidance, you feel a loss of energy, loss of power, a sense of spiritual deadness.\", \"Believe in love. Believe in magic. Hell, believe in Santa Clause. Believe in others. Believe in yourself. Believe in your dreams. If you don't, who will?\", 'Never mistake motion for action.', 'Maxim for life: You get treated in life the way you teach people to treat you.', 'Stay committed to your decisions, but stay flexible in your approach.', 'You can tell whether a man is clever by his answers. You can tell whether a man is wise by his questions.', 'If one advances confidently in the direction of his dreams, and endeavors to live the life which he has imagined, he will meet with a success unexpected in common hours.', 'Develop success from failures. Discouragement and failure are two of the surest stepping stones to success.', \"The very purpose of Christ's coming into the world was that He might offer up His life as a sacrifice for the sins of men. He came to die. This is the heart of Christmas.\", 'You have to grow from the inside out. None can teach you, none can make you spiritual. There is no other teacher but your own soul.', 'If Tyranny and Oppression come to this land, it will be in the guise of fighting a foreign enemy.', 'God has given us two hands, one to receive with and the other to give with.', \"You can close your eyes to the things you don't want to see, but you can't close your heart to the things you don't want to feel.\", \"The most common way people give up their power is by thinking they don't have any.\", 'If you can believe it, the mind can achieve it.', \"I do believe we're all connected. I do believe in positive energy. I do believe in the power of prayer. I do believe in putting good out into the world. And I believe in taking care of each other.\", 'What we think or what we know or what we believe is in the end of little consequence. The only thing of consequence is what we do', 'Never dull your shine for somebody else.', 'It can not be emphasized too strongly or too often that this great nation was founded, not by religionists, but by Christians, not on religions, but on the gospel of Jesus Christ!', 'To give thanks in solitude is enough. Thanksgiving has wings and goes where it must go. Your prayer knows much more about it than you do.', 'The tree of liberty must be refreshed from time to time with the blood of patriots and tyrants.', \"Don't compare your life to others. You have no idea what they have been through.\", 'The minute I heard my first love story, I started looking for you.', 'Knowledge is of no value unless you put it into practice.', 'All the great things are simple, and many can be expressed in a single word: freedom, justice, honor, duty, mercy, hope.', 'Faith is the strength by which a shattered world shall emerge into the light.', 'Today, more than ever before, life must be characterized by a sense of Universal responsibility, not only nation to nation and human to human, but also human to other forms of life.', 'If you are losing faith in human nature, go out and watch a marathon.', 'From what we get, we can make a living; what we give, however, makes a life.', \"I've read the last page of the Bible. It's all going to turn out all right.\", \"Just because Fate doesn't deal you the right cards, it doesn't mean you should give up. It just means you have to play the cards you get to their maximum potential.\", \"Don't you ever let a soul in the world tell you that you can't be exactly who you are.\", 'We must overcome the notion that we must be regular... it robs you of the chance to be extraordinary and leads you to the mediocre.', 'You have not lived today until you have done something for someone who can never repay you.', \"Exercise is king. Nutrition is queen. Put them together and you've got a kingdom.\", 'Humor is by far the most significant activity of the human brain.', 'Talent is cheaper than table salt. What separates the talented individual from the successful one is a lot of hard work.', 'Watch your manner of speech if you wish to develop a peaceful state of mind. Start each day by affirming peaceful, contented and happy attitudes and your days will tend to be pleasant and successful.', 'Nothing is so permanent as a temporary government program.', 'When a person really desires something, all the universe conspires to help that person to realize his dream.', 'The brighter you are, the more you have to learn.', \"When you dance, your purpose is not to get to a certain place on the floor. It's to enjoy each step along the way.\", \"Most people ask for happiness on condition. Happiness can only be felt if you don't set any condition.\", 'The person born with a talent they are meant to use will find their greatest happiness in using it.', 'Effort only fully releases its reward after a person refuses to quit.', \"You're never as good as everyone tells you when you win, and you're never as bad as they say when you lose.\", 'I do not think much of a man who is not wiser today than he was yesterday.', 'When you arise in the morning, think of what a precious privilege it is to be alive - to breathe, to think, to enjoy, to love.', 'As the family goes, so goes the nation and so goes the whole world in which we live.', 'We should certainly count our blessings, but we should also make our blessings count.', \"Everyone has inside of him a piece of good news. The good news is that you don't know how great you can be! How much you can love! What you can accomplish! And what your potential is!\", \"If everyone is thinking alike, then somebody isn't thinking.\", 'Act as if what you do makes a difference. It does.', 'The supreme art of war is to subdue the enemy without fighting.', \"I have never met a man so ignorant that I couldn't learn something from him.\", \"When you are offended at any man's fault, turn to yourself and study your own failings. Then you will forget your anger.\", 'It is foolish and wrong to mourn the men who died. Rather we should thank God that such men lived.', 'An invincible determination can accomplish almost anything and in this lies the great distinction between great men and little men.', 'The quality of a leader is reflected in the standards they set for themselves.', \"You've got to get to the stage in life where going for it is more important than winning or losing.\", 'Can anything be sadder than work left unfinished? Yes, work never begun.', \"Don't just read the easy stuff. You may be entertained by it, but you will never grow from it.\", 'And by the way, everything in life is writable about if you have the outgoing guts to do it, and the imagination to improvise. The worst enemy to creativity is self-doubt.', \"One of the hardest things in life is having words in your heart that you can't utter.\", 'Success is not to be pursued; it is to be attracted by the person you become.', 'Never allow someone to be your priority while allowing yourself to be their option.', 'Realize that true happiness lies within you. Waste no time and effort searching for peace and contentment and joy in the world outside. Remember that there is no happiness in having or in getting, but only in giving. Reach out. Share. Smile. Hug. Happiness is a perfume you cannot pour on others without getting a few drops on yourself.', \"You can't separate peace from freedom because no one can be at peace unless he has his freedom.\", 'There is little difference in people, but that little difference makes a big difference. The little difference is attitude. The big difference is whether it is positive or negative.', 'America will never be destroyed from the outside. If we falter and lose our freedoms, it will be because we destroyed ourselves.', 'Faithful servants never retire. You can retire from your career, but you will never retire from serving God.', 'The average dog is a nicer person than the average person.', 'I prefer to be true to myself, even at the hazard of incurring the ridicule of others, rather than to be false, and to incur my own abhorrence.', 'In matters of style, swim with the current; in matters of principle, stand like a rock.', \"Dad needs to show an incredible amount of respect and humor and friendship toward his mate so the kids understand their parents are sexy, they're fun, they do things together, they're best friends. Kids learn by example. If I respect Mom, they're going to respect Mom.\", 'We are United States Marines, and for two and a quarter centuries we have defined the standards of courage, esprit, and military prowess.', 'Peace cannot be kept by force; it can only be achieved by understanding.', 'Patience is the companion of wisdom.', 'The two hardest tests on the spiritual road are the patience to wait for the right moment and the courage not to be disappointed with what we encounter.', 'The revolution is not an apple that falls when it is ripe. You have to make it fall.', \"We can always choose to perceive things differently. You can focus on what's wrong in your life, or you can focus on what's right.\", 'Always seek out the seed of triumph in every adversity.', 'Self-worth comes from one thing - thinking that you are worthy.', 'The best vision is insight.', \"You may have a fresh start any moment you choose, for this thing that we call 'failure' is not the falling down, but the staying down.\", 'Learning is the beginning of wealth. Learning is the beginning of health. Learning is the beginning of spirituality. Searching and learning is where the miracle process all begins.', 'Being entirely honest with oneself is a good exercise.', \"Take it from a guy: If you're in love with somebody, you will swim the stream, you will climb the mountain, you will slay the dragon. You're going to get to her somehow, some way.\", 'If you break your neck, if you have nothing to eat, if your house is on fire, then you got a problem. Everything else is inconvenience.', 'The best and most beautiful things in the world cannot be seen or even touched - they must be felt with the heart.', 'You can love someone so much...But you can never love people as much as you can miss them.', 'Gratitude is riches. Complaint is poverty.', 'Your attitude is like a box of crayons that color your world. Constantly color your picture gray, and your picture will always be bleak. Try adding some bright colors to the picture by including humor, and your picture begins to lighten up.', 'Miracles come in moments. Be ready and willing.', 'Stop acting as if life is a rehearsal. Live this day as if it were your last. The past is over and gone. The future is not guaranteed.', 'The harder the conflict, the more glorious the triumph.', \"It's amazing what ordinary people can do if they set out without preconceived notions.\", 'You teach best what you most need to learn.', 'All I have seen teaches me to trust the creator for all I have not seen.', 'Either you run the day or the day runs you.', 'Never forget the three powerful resources you always have available to you: love, prayer, and forgiveness.', 'It is impossible for a man to learn what he thinks he already knows.', 'My attitude is that if you push me towards something that you think is a weakness, then I will turn that perceived weakness into a strength.', 'In the beginning of a change the patriot is a scarce man, and brave, and hated and scorned. When his cause succeeds, the timid join him, for then it costs nothing to be a patriot.', 'Without leaps of imagination, or dreaming, we lose the excitement of possibilities. Dreaming, after all, is a form of planning.', 'I have just returned from visiting the Marines at the front, and there is not a finer fighting organization in the world!', 'The successful man will profit from his mistakes and try again in a different way.', 'Your family and your love must be cultivated like a garden. Time, effort, and imagination must be summoned constantly to keep any relationship flourishing and growing.', 'Our freedom can be measured by the number of things we can walk away from.', 'Being ready is not what matters. What matters is winning after you get there.', 'Let my soul smile through my heart and my heart smile through my eyes, that I may scatter rich smiles in sad hearts.', 'We should not judge people by their peak of excellence; but by the distance they have traveled from the point where they started.', 'One reason so few of us achieve what we truly want is that we never direct our focus; we never concentrate our power. Most people dabble their way through life, never deciding to master anything in particular.', 'Learning is not attained by chance, it must be sought for with ardor and diligence.', \"We've all got both light and dark inside us. What matters is the part we choose to act on. That's who we really are.\", 'The highest form of worship is the worship of unselfish Christian service. The greatest form of praise is the sound of consecrated feet seeking out the lost and helpless.', \"One isn't necessarily born with courage, but one is born with potential. Without courage, we cannot practice any other virtue with consistency. We can't be kind, true, merciful, generous, or honest.\", \"Nothing I've ever done has given me more joys and rewards than being a father to my children.\", 'What is hell? I maintain that it is the suffering of being unable to love.', 'If you can learn to love yourself and all the flaws, you can love other people so much better. And that makes you so happy.', \"There is only one corner of the universe you can be certain of improving, and that's your own self.\", 'There is not one blade of grass, there is no color in this world that is not intended to make men rejoice.', 'Stay away from what might have been, and look at what can be.', 'Success is achieved by developing our strengths, not by eliminating our weaknesses.', 'Do not seek to follow in the footsteps of the wise. Seek what they sought.', \"In three words I can sum up everything I've learned about life: it goes on.\", 'We think too much and feel too little.', 'Failure is simply a few errors in judgment, repeated every day.', \"You just can't beat the person who never gives up.\", \"Missions is not the ultimate goal of the church. Worship is. Missions exists because worship doesn't.\", \"It's what you learn after you know it all that counts.\", 'Great spirits have always encountered opposition from mediocre minds. The mediocre mind is incapable of understanding the man who refuses to bow blindly to conventional prejudices and chooses instead to express his opinions courageously and honestly.', 'Maturity is the ability to think, speak and act your feelings within the bounds of dignity. The measure of your maturity is how spiritual you become during the midst of your frustrations.', \"Do what you feel in your heart to be right - for you'll be criticized anyway. You'll be damned if you do, and damned if you don't.\", 'As we express our gratitude, we must never forget that the highest appreciation is not to utter words, but to live by them.', 'Human beings can alter their lives by altering their attitudes of mind.', 'I pretended to be somebody I wanted to be until finally I became that person. Or he became me.', 'You must make a decision that you are going to move on. It wont happen automatically. You will have to rise up and say, ‘I don’t care how hard this is, I don’t care how disappointed I am, I’m not going to let this get the best of me. I’m moving on with my life.', \"The only way that I could figure they could improve upon Coca-Cola, one of life's most delightful elixirs, which studies prove will heal the sick and occasionally raise the dead, is to put bourbon in it.\", 'It is not until you become a mother that your judgment slowly turns to compassion and understanding.', \"If you don't stand for something you will fall for anything.\", 'Searching and learning is where the miracle process all begins.', \"I firmly believe that any man's finest hour, the greatest fulfillment of all that he holds dear, is that moment when he has worked his heart out in a good cause and lies exhausted on the field of battle - victorious.\", \"These young guys are playing checkers. I'm out there playing chess.\", \"If we're growing, we're always going to be out of our comfort zone.\", \"It doesn't matter which side of the fence you get off on sometimes. What matters most is getting off. You cannot make progress without making decisions.\", 'Greed is a bottomless pit which exhausts the person in an endless effort to satisfy the need without ever reaching satisfaction.', 'Out of suffering have emerged the strongest souls; the most massive characters are seared with scars.', 'When I was 5 years old, my mother always told me that happiness was the key to life. When I went to school, they asked me what I wanted to be when I grew up. I wrote down ‘happy’. They told me I didn’t understand the assignment, and I told them they didn’t understand life.', 'The happiness of your life depends upon the quality of your thoughts.', 'Common sense is the collection of prejudices acquired by age eighteen.', 'Our attitude towards others determines their attitude towards us.', \"Be nice to people on your way up because you'll meet them on your way down.\", \"There is some good in this world, and it's worth fighting for.\", 'If we learn to open our hearts, anyone, including the people who drive us crazy, can be our teacher.', 'The cost of freedom is always high, but Americans have always paid it. And one path we shall never choose, and that is the path of surrender, or submission.', 'Carpe diem! Rejoice while you are alive; enjoy the day; live life to the fullest; make the most of what you have. It is later than you think.', \"You're mind is working at its best when you're being paranoid. You explore every avenue and possibility of your situation at high speed with total clarity.\", 'Without a sense of urgency, desire loses its value.', 'Whatever good things we build end up building us.', 'The purpose of life is to live it, to taste experience to the utmost, to reach out eagerly and without fear for newer and richer experience.', \"They're on our right, they're on our left, they're in front of us, they're behind us; they can't get away from us this time.\", \"I'm not in this world to live up to your expectations and you're not in this world to live up to mine.\", 'The major value in life is not what you get. The major value in life is what you become.', 'Give me six hours to chop down a tree and I will spend the first four sharpening the axe.', 'We have to be careful in how we use this light shined on us.', 'To solve any problem, here are three questions to ask yourself: First, what could I do? Second, what could I read? And third, who could I ask?', \"You've got to know your limitations. I don't know what your limitations are. I found out what mine were when I was twelve. I found out that there weren't too many limitations, if I did it my way.\", 'I always wonder why birds choose to stay in the same place when they can fly anywhere on the earth, then I ask myself the same question.', 'To love means loving the unlovable. To forgive means pardoning the unpardonable. Faith means believing the unbelievable. Hope means hoping when everything seems hopeless.', 'Be brave. Take risks. Nothing can substitute experience.', \"If you really want to do something, you'll find a way. If you don't, you'll find an excuse.\", 'It is neither wealth nor splendor; but tranquility and occupation which give you happiness.', 'A thousand words will not leave so deep an impression as one deed.', 'Courage is the price that life exacts for granting peace.', 'The worst evils which mankind has ever had to endure were inflicted by bad governments.', 'The moment we begin to fear the opinions of others and hesitate to tell the truth that is in us, and from motives of policy are silent when we should speak, the divine floods of light and life no longer flow into our souls.', 'Trust yourself, you know more than you think you do.', 'Some people want it to happen, some wish it would happen, others make it happen.', 'High achievement always takes place in the framework of high expectation.', 'The body is your temple. Keep it pure and clean for the soul to reside in.', 'Be like a duck. Calm on the surface, but always paddling like the dickens underneath.', 'Tears shed for self are tears of weakness, but tears shed for others are a sign of strength.', 'Success is neither magical nor mysterious. Success is the natural consequence of consistently applying the basic fundamentals.', 'It is wise to direct your anger towards problems - not people; to focus your energies on answers - not excuses.', 'If we did all the things we are capable of doing, we would literally astound ourselves.', 'Love is our true destiny. We do not find the meaning of life by ourselves alone - we find it with another.', 'I ask, sir, what is the militia? It is the whole people except for a few public officials.', \"As long as there's pasta and Chinese food in the world, I'm okay.\", 'The few who do are the envy of the many who only watch.', \"Don't brood. Get on with living and loving. You don't have forever.\", \"Tricks and treachery are the practice of fools, that don't have brains enough to be honest.\", 'The Marines have landed and the situation is well in hand.', \"Life is one big road with lots of signs,\\nSo when you riding through the ruts,\\nDon't you complicate your mind\\nFlee from hate, mischief and jealousy\\nDon't bury your thoughts; put your vision to reality.\", 'There is always some madness in love. But there is also always some reason in madness.', 'For peace of mind, we need to resign as general manager of the universe.', 'I am free, no matter what rules surround me. If I find them tolerable, I tolerate them; if I find them too obnoxious, I break them. I am free because I know that I alone am morally responsible for everything I do.', 'Only put off until tomorrow what you are willing to die having left undone.', 'The will to win, the desire to succeed, the urge to reach your full potential... these are the keys that will unlock the door to personal excellence.', 'Difficulties are meant to rouse, not discourage. The human spirit is to grow strong by conflict.', \"It's very hard in the beginning to understand that the whole idea is not to beat the other runners. Eventually you learn that the competition is against the little voice inside you that wants you to quit.\", 'A well-developed sense of humor is the pole that adds balance to your steps as you walk the tightrope of life.', 'We relish news of our heroes, forgetting that we are extraordinary to somebody too.', 'It takes less time to do a thing right, than it does to explain why you did it wrong.', \"It isn't the mountain ahead that wears you out; it's the grain of sand in your shoe.\", 'Empty your mind, be formless. Shapeless, like water. If you put water into a cup, it becomes the cup. You put water into a bottle and it becomes the bottle. You put it in a teapot it becomes the teapot. Now, water can flow or it can crash. Be water, my friend.', 'The longer we dwell on our misfortunes, the greater is their power to harm us', \"Sometimes I've believed as many as six impossible things before breakfast.\", 'Do not fear mistakes. There are none.', 'Expose yourself to your deepest fear; after that, fear has no power, and the fear of freedom shrinks and vanishes. You are free.', 'Anger is an acid that can do more harm to the vessel in which it is stored than to anything on which it is poured.', 'Failure is success if we learn from it.', 'You are here to enable the divine purpose of the Universe to unfold. That is how important you are!', 'People like us, who believe in physics, know that the distinction between past, present, and future is only a stubbornly persistent illusion.', 'I still need Marines who can shoot and salute. But I need Marines who can fix jet engines and man sophisticated radar sets, as well.', \"You can't expect to hit the jackpot if you don't put a few nickels in the machine.\", 'One of the penalties for refusing to participate in politics is that you end up being governed by your inferiors.', 'It is what we know already that often prevents us from learning.', 'The only limit to our realization of tomorrow will be our doubts of today.', \"I've learned that making a 'living' is not the same thing as 'making a life'.\", 'Every time you smile at someone, it is an action of love, a gift to that person, a beautiful thing.', 'The spirit, the will to win, and the will to excel are the things that endure. These qualities are so much more important than the events that occur.', 'When I started counting my blessings, my whole life turned around.', 'Ninety-nine percent of the failures come from people who have the habit of making excuses.', 'Everything comes to us that belongs to us if we create the capacity to receive it.', \"What doesn't kill you makes you smaller\", 'The difficulties you meet will resolve themselves as you advance. Proceed, and light will dawn, and shine with increasing clearness on your path.', \"It's not what's happening to you now or what has happened in your past that determines who you become. Rather, it's your decisions about what to focus on, what things mean to you, and what you're going to do about them that will determine your ultimate destiny.\", 'Live your life and forget your age.', 'We may not be able to prepare the future for our children, but we can at least prepare our children for the future.', 'Men occasionally stumble over the truth, but most of them pick themselves up and hurry off as if nothing had happened.', \"That's been one of my mantras - focus and simplicity. Simple can be harder than complex: You have to work hard to get your thinking clean to make it simple. But it's worth it in the end because once you get there, you can move mountains.\", 'The trouble with most of us is that we would rather be ruined by praise than saved by criticism.', 'The smallest deed is better than the greatest intention.', \"Only two things are infinite, the universe and human stupidity, and I'm not sure about the former.\", 'A nation of sheep will beget a government of wolves.', \"Nothing else can quite substitute for a few well-chosen,\\nwell-timed, sincere words of praise.\\nThey're absolutely free and worth a fortune\", \"There is nothing in a caterpillar that tells you it's going to be a butterfly.\", \"A charming woman... doesn't follow the crowd. She is herself.\", \"You don't understand anything until you learn it more than one way.\", 'Doubt yourself and you doubt everything you see. Judge yourself and you see judges everywhere. But if you listen to the sound of your own voice, you can rise above doubt and judgment. And you can see forever.', \"Find the good. It's all around you. Find it, showcase it and you'll start believing in it.\", 'Happiness in marriage is entirely a matter of chance.', 'The difference between a mountain and a molehill is your perspective.', 'It is best to act with confidence, no matter how little right you have to it.', \"People usually consider walking on water or in thin air a miracle. But I think the real miracle is not to walk either on water or in thin air, but to walk on earth. Every day we are engaged in a miracle which we don't even recognize: a blue sky, white clouds, green leaves, the black, curious eyes of a child -- our own two eyes. All is a miracle.\", 'Freedom means the opportunity to be what we never thought we would be.', 'For it was not into my ear you whispered, but into my heart. It was not my lips you kissed, but my soul.', 'I will love the light for it shows me the way, yet I will endure the darkness because it shows me the stars.', \"If you run, you are a runner. It doesn't matter how fast or how far. It doesn't matter if today is your first day or if you've been running for twenty years. There is no test to pass, no license to earn, no membership card to get. You just run.\", \"The world is a dangerous place to live; not because of the people who are evil, but because of the people who don't do anything about it.\", 'The deepest principle in human nature is the craving to be appreciated.', \"About all you can do in life is be who you are. Some people will love you for you. Most will love you for what you can do for them, and some won't like you at all.\", 'To find out what one is fitted to do, and to secure an opportunity to do it, is the key to happiness.', 'Forgiveness says you are given another chance to make a new beginning.', 'What is success? I think it is a mixture of having a flair for the thing that you are doing; knowing that it is not enough, that you have got to have hard work and a certain sense of purpose.', 'The past has no power over the present moment.', \"Do not let your fire go out, spark by irreplaceable spark in the hopeless swamps of the not-quite, the not-yet, and the not-at-all. Do not let the hero in your soul perish in lonely frustration for the life you deserved and have never been able to reach. The world you desire can be won. It exists.. it is real.. it is possible.. it's yours.\", 'No person was ever honored for what he received. Honor has been the reward for what he gave.', 'Love yourself-accept yourself-forgive yourself-and be good to yourself, because without you the rest of us are without a source of many wonderful things.', 'Wherever you are, and whatever you do, be in love.', 'Whenever you find yourself on the side of the majority, it is time to pause and reflect.', 'And those who were seen dancing were thought to be insane by those who could not hear the music.', \"I love things that age well - things that don't date, that stand the test of time and that become living examples of the absolute best.\", 'Better be wise by the misfortunes of others than by your own.', 'The person, be it gentleman or lady, who has not pleasure in a good novel, must be intolerably stupid.', \"The opposite of love is not hate, it's indifference. The opposite of art is not ugliness, it's indifference. The opposite of faith is not heresy, it's indifference. And the opposite of life is not death, it's indifference.\", 'Curiosity is one of the most permanent and certain characteristics of a vigorous intellect.', 'Leaders must be close enough to relate to others, but far enough ahead to motivate them.', 'Regret for the things we did can be tempered by time; it is regret for the things we did not do that is inconsolable.', 'America... just a nation of two hundred million used car salesmen with all the money we need to buy guns and no qualms about killing anybody else in the world who tries to make us uncomfortable.', 'For every disciplined effort there is a multiple reward.', \"The spiritual journey is individual, highly personal. It can't be organized or regulated. It isn't true that everyone should follow one path. Listen to your own truth.\", 'The mind is not a vessel to be filled but a fire to be kindled.', 'Courage is the price that life exacts for granting peace.', 'The worst evils which mankind has ever had to endure were inflicted by bad governments.', 'The moment we begin to fear the opinions of others and hesitate to tell the truth that is in us, and from motives of policy are silent when we should speak, the divine floods of light and life no longer flow into our souls.', 'Trust yourself, you know more than you think you do.', 'Some people want it to happen, some wish it would happen, others make it happen.', 'High achievement always takes place in the framework of high expectation.', 'The body is your temple. Keep it pure and clean for the soul to reside in.', 'Be like a duck. Calm on the surface, but always paddling like the dickens underneath.', 'Tears shed for self are tears of weakness, but tears shed for others are a sign of strength.', 'Success is neither magical nor mysterious. Success is the natural consequence of consistently applying the basic fundamentals.', 'It is wise to direct your anger towards problems - not people; to focus your energies on answers - not excuses.', 'If we did all the things we are capable of doing, we would literally astound ourselves.', 'Love is our true destiny. We do not find the meaning of life by ourselves alone - we find it with another.', 'I ask, sir, what is the militia? It is the whole people except for a few public officials.', \"As long as there's pasta and Chinese food in the world, I'm okay.\", 'The few who do are the envy of the many who only watch.', \"Don't brood. Get on with living and loving. You don't have forever.\", \"Tricks and treachery are the practice of fools, that don't have brains enough to be honest.\", 'The Marines have landed and the situation is well in hand.', \"Life is one big road with lots of signs,\\nSo when you riding through the ruts,\\nDon't you complicate your mind\\nFlee from hate, mischief and jealousy\\nDon't bury your thoughts; put your vision to reality.\", 'There is always some madness in love. But there is also always some reason in madness.', 'For peace of mind, we need to resign as general manager of the universe.', 'I am free, no matter what rules surround me. If I find them tolerable, I tolerate them; if I find them too obnoxious, I break them. I am free because I know that I alone am morally responsible for everything I do.', 'Only put off until tomorrow what you are willing to die having left undone.', 'The will to win, the desire to succeed, the urge to reach your full potential... these are the keys that will unlock the door to personal excellence.', 'Difficulties are meant to rouse, not discourage. The human spirit is to grow strong by conflict.', \"It's very hard in the beginning to understand that the whole idea is not to beat the other runners. Eventually you learn that the competition is against the little voice inside you that wants you to quit.\", 'A well-developed sense of humor is the pole that adds balance to your steps as you walk the tightrope of life.', 'We relish news of our heroes, forgetting that we are extraordinary to somebody too.', 'It takes less time to do a thing right, than it does to explain why you did it wrong.', \"It isn't the mountain ahead that wears you out; it's the grain of sand in your shoe.\", 'Empty your mind, be formless. Shapeless, like water. If you put water into a cup, it becomes the cup. You put water into a bottle and it becomes the bottle. You put it in a teapot it becomes the teapot. Now, water can flow or it can crash. Be water, my friend.', 'The longer we dwell on our misfortunes, the greater is their power to harm us', \"Sometimes I've believed as many as six impossible things before breakfast.\", 'Do not fear mistakes. There are none.', 'Expose yourself to your deepest fear; after that, fear has no power, and the fear of freedom shrinks and vanishes. You are free.', 'Anger is an acid that can do more harm to the vessel in which it is stored than to anything on which it is poured.', 'Failure is success if we learn from it.', 'You are here to enable the divine purpose of the Universe to unfold. That is how important you are!', 'People like us, who believe in physics, know that the distinction between past, present, and future is only a stubbornly persistent illusion.', 'I still need Marines who can shoot and salute. But I need Marines who can fix jet engines and man sophisticated radar sets, as well.', \"You can't expect to hit the jackpot if you don't put a few nickels in the machine.\", 'One of the penalties for refusing to participate in politics is that you end up being governed by your inferiors.', 'It is what we know already that often prevents us from learning.', 'The only limit to our realization of tomorrow will be our doubts of today.', \"I've learned that making a 'living' is not the same thing as 'making a life'.\", 'Every time you smile at someone, it is an action of love, a gift to that person, a beautiful thing.', 'The spirit, the will to win, and the will to excel are the things that endure. These qualities are so much more important than the events that occur.', 'When I started counting my blessings, my whole life turned around.', 'Ninety-nine percent of the failures come from people who have the habit of making excuses.', 'Everything comes to us that belongs to us if we create the capacity to receive it.', \"What doesn't kill you makes you smaller\", 'The difficulties you meet will resolve themselves as you advance. Proceed, and light will dawn, and shine with increasing clearness on your path.', \"It's not what's happening to you now or what has happened in your past that determines who you become. Rather, it's your decisions about what to focus on, what things mean to you, and what you're going to do about them that will determine your ultimate destiny.\", 'Live your life and forget your age.', 'We may not be able to prepare the future for our children, but we can at least prepare our children for the future.', 'Men occasionally stumble over the truth, but most of them pick themselves up and hurry off as if nothing had happened.', \"That's been one of my mantras - focus and simplicity. Simple can be harder than complex: You have to work hard to get your thinking clean to make it simple. But it's worth it in the end because once you get there, you can move mountains.\", 'The trouble with most of us is that we would rather be ruined by praise than saved by criticism.', 'The smallest deed is better than the greatest intention.', \"Only two things are infinite, the universe and human stupidity, and I'm not sure about the former.\", 'A nation of sheep will beget a government of wolves.', \"Nothing else can quite substitute for a few well-chosen,\\nwell-timed, sincere words of praise.\\nThey're absolutely free and worth a fortune\", \"There is nothing in a caterpillar that tells you it's going to be a butterfly.\", \"A charming woman... doesn't follow the crowd. She is herself.\", \"You don't understand anything until you learn it more than one way.\", 'Doubt yourself and you doubt everything you see. Judge yourself and you see judges everywhere. But if you listen to the sound of your own voice, you can rise above doubt and judgment. And you can see forever.', \"Find the good. It's all around you. Find it, showcase it and you'll start believing in it.\", 'Happiness in marriage is entirely a matter of chance.', 'The difference between a mountain and a molehill is your perspective.', 'It is best to act with confidence, no matter how little right you have to it.', \"People usually consider walking on water or in thin air a miracle. But I think the real miracle is not to walk either on water or in thin air, but to walk on earth. Every day we are engaged in a miracle which we don't even recognize: a blue sky, white clouds, green leaves, the black, curious eyes of a child -- our own two eyes. All is a miracle.\", 'Freedom means the opportunity to be what we never thought we would be.', 'For it was not into my ear you whispered, but into my heart. It was not my lips you kissed, but my soul.', 'I will love the light for it shows me the way, yet I will endure the darkness because it shows me the stars.', \"If you run, you are a runner. It doesn't matter how fast or how far. It doesn't matter if today is your first day or if you've been running for twenty years. There is no test to pass, no license to earn, no membership card to get. You just run.\", \"The world is a dangerous place to live; not because of the people who are evil, but because of the people who don't do anything about it.\", 'The deepest principle in human nature is the craving to be appreciated.', \"About all you can do in life is be who you are. Some people will love you for you. Most will love you for what you can do for them, and some won't like you at all.\", 'To find out what one is fitted to do, and to secure an opportunity to do it, is the key to happiness.', 'Forgiveness says you are given another chance to make a new beginning.', 'What is success? I think it is a mixture of having a flair for the thing that you are doing; knowing that it is not enough, that you have got to have hard work and a certain sense of purpose.', 'The past has no power over the present moment.', \"Do not let your fire go out, spark by irreplaceable spark in the hopeless swamps of the not-quite, the not-yet, and the not-at-all. Do not let the hero in your soul perish in lonely frustration for the life you deserved and have never been able to reach. The world you desire can be won. It exists.. it is real.. it is possible.. it's yours.\", 'No person was ever honored for what he received. Honor has been the reward for what he gave.', 'Love yourself-accept yourself-forgive yourself-and be good to yourself, because without you the rest of us are without a source of many wonderful things.', 'Wherever you are, and whatever you do, be in love.', 'Whenever you find yourself on the side of the majority, it is time to pause and reflect.', 'And those who were seen dancing were thought to be insane by those who could not hear the music.', \"I love things that age well - things that don't date, that stand the test of time and that become living examples of the absolute best.\", 'Better be wise by the misfortunes of others than by your own.', 'The person, be it gentleman or lady, who has not pleasure in a good novel, must be intolerably stupid.', \"The opposite of love is not hate, it's indifference. The opposite of art is not ugliness, it's indifference. The opposite of faith is not heresy, it's indifference. And the opposite of life is not death, it's indifference.\", 'Curiosity is one of the most permanent and certain characteristics of a vigorous intellect.', 'Leaders must be close enough to relate to others, but far enough ahead to motivate them.', 'Regret for the things we did can be tempered by time; it is regret for the things we did not do that is inconsolable.', 'America... just a nation of two hundred million used car salesmen with all the money we need to buy guns and no qualms about killing anybody else in the world who tries to make us uncomfortable.', 'For every disciplined effort there is a multiple reward.', \"The spiritual journey is individual, highly personal. It can't be organized or regulated. It isn't true that everyone should follow one path. Listen to your own truth.\", 'The mind is not a vessel to be filled but a fire to be kindled.', 'Courage is the price that life exacts for granting peace.', 'The worst evils which mankind has ever had to endure were inflicted by bad governments.', 'The moment we begin to fear the opinions of others and hesitate to tell the truth that is in us, and from motives of policy are silent when we should speak, the divine floods of light and life no longer flow into our souls.', 'Trust yourself, you know more than you think you do.', 'Some people want it to happen, some wish it would happen, others make it happen.', 'High achievement always takes place in the framework of high expectation.', 'The body is your temple. Keep it pure and clean for the soul to reside in.', 'Be like a duck. Calm on the surface, but always paddling like the dickens underneath.', 'Tears shed for self are tears of weakness, but tears shed for others are a sign of strength.', 'Success is neither magical nor mysterious. Success is the natural consequence of consistently applying the basic fundamentals.', 'It is wise to direct your anger towards problems - not people; to focus your energies on answers - not excuses.', 'If we did all the things we are capable of doing, we would literally astound ourselves.', 'Love is our true destiny. We do not find the meaning of life by ourselves alone - we find it with another.', 'I ask, sir, what is the militia? It is the whole people except for a few public officials.', \"As long as there's pasta and Chinese food in the world, I'm okay.\", 'The few who do are the envy of the many who only watch.', \"Don't brood. Get on with living and loving. You don't have forever.\", \"Tricks and treachery are the practice of fools, that don't have brains enough to be honest.\", 'The Marines have landed and the situation is well in hand.', \"Life is one big road with lots of signs,\\nSo when you riding through the ruts,\\nDon't you complicate your mind\\nFlee from hate, mischief and jealousy\\nDon't bury your thoughts; put your vision to reality.\", 'There is always some madness in love. But there is also always some reason in madness.', 'For peace of mind, we need to resign as general manager of the universe.', 'I am free, no matter what rules surround me. If I find them tolerable, I tolerate them; if I find them too obnoxious, I break them. I am free because I know that I alone am morally responsible for everything I do.', 'Only put off until tomorrow what you are willing to die having left undone.', 'The will to win, the desire to succeed, the urge to reach your full potential... these are the keys that will unlock the door to personal excellence.', 'Difficulties are meant to rouse, not discourage. The human spirit is to grow strong by conflict.', \"It's very hard in the beginning to understand that the whole idea is not to beat the other runners. Eventually you learn that the competition is against the little voice inside you that wants you to quit.\", 'A well-developed sense of humor is the pole that adds balance to your steps as you walk the tightrope of life.', 'We relish news of our heroes, forgetting that we are extraordinary to somebody too.', 'It takes less time to do a thing right, than it does to explain why you did it wrong.', \"It isn't the mountain ahead that wears you out; it's the grain of sand in your shoe.\", 'Empty your mind, be formless. Shapeless, like water. If you put water into a cup, it becomes the cup. You put water into a bottle and it becomes the bottle. You put it in a teapot it becomes the teapot. Now, water can flow or it can crash. Be water, my friend.', 'The longer we dwell on our misfortunes, the greater is their power to harm us', \"Sometimes I've believed as many as six impossible things before breakfast.\", 'Do not fear mistakes. There are none.', 'Expose yourself to your deepest fear; after that, fear has no power, and the fear of freedom shrinks and vanishes. You are free.', 'Anger is an acid that can do more harm to the vessel in which it is stored than to anything on which it is poured.', 'Failure is success if we learn from it.', 'You are here to enable the divine purpose of the Universe to unfold. That is how important you are!', 'People like us, who believe in physics, know that the distinction between past, present, and future is only a stubbornly persistent illusion.', 'I still need Marines who can shoot and salute. But I need Marines who can fix jet engines and man sophisticated radar sets, as well.', \"You can't expect to hit the jackpot if you don't put a few nickels in the machine.\", 'One of the penalties for refusing to participate in politics is that you end up being governed by your inferiors.', 'It is what we know already that often prevents us from learning.', 'The only limit to our realization of tomorrow will be our doubts of today.', \"I've learned that making a 'living' is not the same thing as 'making a life'.\", 'Every time you smile at someone, it is an action of love, a gift to that person, a beautiful thing.', 'The spirit, the will to win, and the will to excel are the things that endure. These qualities are so much more important than the events that occur.', 'When I started counting my blessings, my whole life turned around.', 'Ninety-nine percent of the failures come from people who have the habit of making excuses.', 'Everything comes to us that belongs to us if we create the capacity to receive it.', \"What doesn't kill you makes you smaller\", 'The difficulties you meet will resolve themselves as you advance. Proceed, and light will dawn, and shine with increasing clearness on your path.', \"It's not what's happening to you now or what has happened in your past that determines who you become. Rather, it's your decisions about what to focus on, what things mean to you, and what you're going to do about them that will determine your ultimate destiny.\", 'Live your life and forget your age.', 'We may not be able to prepare the future for our children, but we can at least prepare our children for the future.', 'Men occasionally stumble over the truth, but most of them pick themselves up and hurry off as if nothing had happened.', \"That's been one of my mantras - focus and simplicity. Simple can be harder than complex: You have to work hard to get your thinking clean to make it simple. But it's worth it in the end because once you get there, you can move mountains.\", 'The trouble with most of us is that we would rather be ruined by praise than saved by criticism.', 'The smallest deed is better than the greatest intention.', \"Only two things are infinite, the universe and human stupidity, and I'm not sure about the former.\", 'A nation of sheep will beget a government of wolves.', \"Nothing else can quite substitute for a few well-chosen,\\nwell-timed, sincere words of praise.\\nThey're absolutely free and worth a fortune\", \"There is nothing in a caterpillar that tells you it's going to be a butterfly.\", \"A charming woman... doesn't follow the crowd. She is herself.\", \"You don't understand anything until you learn it more than one way.\", 'Doubt yourself and you doubt everything you see. Judge yourself and you see judges everywhere. But if you listen to the sound of your own voice, you can rise above doubt and judgment. And you can see forever.', \"Find the good. It's all around you. Find it, showcase it and you'll start believing in it.\", 'Happiness in marriage is entirely a matter of chance.', 'The difference between a mountain and a molehill is your perspective.', 'It is best to act with confidence, no matter how little right you have to it.', \"People usually consider walking on water or in thin air a miracle. But I think the real miracle is not to walk either on water or in thin air, but to walk on earth. Every day we are engaged in a miracle which we don't even recognize: a blue sky, white clouds, green leaves, the black, curious eyes of a child -- our own two eyes. All is a miracle.\", 'Freedom means the opportunity to be what we never thought we would be.', 'For it was not into my ear you whispered, but into my heart. It was not my lips you kissed, but my soul.', 'I will love the light for it shows me the way, yet I will endure the darkness because it shows me the stars.', \"If you run, you are a runner. It doesn't matter how fast or how far. It doesn't matter if today is your first day or if you've been running for twenty years. There is no test to pass, no license to earn, no membership card to get. You just run.\", \"The world is a dangerous place to live; not because of the people who are evil, but because of the people who don't do anything about it.\", 'The deepest principle in human nature is the craving to be appreciated.', \"About all you can do in life is be who you are. Some people will love you for you. Most will love you for what you can do for them, and some won't like you at all.\", 'To find out what one is fitted to do, and to secure an opportunity to do it, is the key to happiness.', 'Forgiveness says you are given another chance to make a new beginning.', 'What is success? I think it is a mixture of having a flair for the thing that you are doing; knowing that it is not enough, that you have got to have hard work and a certain sense of purpose.', 'The past has no power over the present moment.', \"Do not let your fire go out, spark by irreplaceable spark in the hopeless swamps of the not-quite, the not-yet, and the not-at-all. Do not let the hero in your soul perish in lonely frustration for the life you deserved and have never been able to reach. The world you desire can be won. It exists.. it is real.. it is possible.. it's yours.\", 'No person was ever honored for what he received. Honor has been the reward for what he gave.', 'Love yourself-accept yourself-forgive yourself-and be good to yourself, because without you the rest of us are without a source of many wonderful things.', 'Wherever you are, and whatever you do, be in love.', 'Whenever you find yourself on the side of the majority, it is time to pause and reflect.', 'And those who were seen dancing were thought to be insane by those who could not hear the music.', \"I love things that age well - things that don't date, that stand the test of time and that become living examples of the absolute best.\", 'Better be wise by the misfortunes of others than by your own.', 'The person, be it gentleman or lady, who has not pleasure in a good novel, must be intolerably stupid.', \"The opposite of love is not hate, it's indifference. The opposite of art is not ugliness, it's indifference. The opposite of faith is not heresy, it's indifference. And the opposite of life is not death, it's indifference.\", 'Curiosity is one of the most permanent and certain characteristics of a vigorous intellect.', 'Leaders must be close enough to relate to others, but far enough ahead to motivate them.', 'Regret for the things we did can be tempered by time; it is regret for the things we did not do that is inconsolable.', 'America... just a nation of two hundred million used car salesmen with all the money we need to buy guns and no qualms about killing anybody else in the world who tries to make us uncomfortable.', 'For every disciplined effort there is a multiple reward.', \"The spiritual journey is individual, highly personal. It can't be organized or regulated. It isn't true that everyone should follow one path. Listen to your own truth.\", 'The mind is not a vessel to be filled but a fire to be kindled.', 'The essence of strategy is choosing what not to do.', 'One cannot and must not try to erase the past merely because it does not fit the present.', 'Patriotism means to stand by the country. It does not mean to stand by the president.', 'Death is something inevitable. When a man has done what he considers to be his duty to his people and his country, he can rest in peace. I believe I have made that effort and that is, therefore, why I will sleep for the eternity.', 'You have to love a nation that celebrates its independence every July 4, not with a parade of guns, tanks, and soldiers who file by the White House in a show of strength and muscle, but with family picnics where kids throw Frisbees, the potato salad gets iffy, and the flies die from happiness. You may think you have overeaten, but it is patriotism.', 'Be more concerned with your character than your reputation, because your character is what you really are, while your reputation is merely what others think you are.', 'Weak people revenge. Strong people forgive. Intelligent People Ignore.', \"A mind is like a parachute. It doesn't work if it is not open.\", 'Never be afraid to raise your voice for honesty and truth and compassion against injustice and lying and greed. If people all over the world...would do this, it would change the earth.', 'There are three kinds of men. The one that learns by reading. The few who learn by observation. The rest of them have to pee on the electric fence for themselves.', \"A strong nation, like a strong person, can afford to be gentle, firm, thoughtful, and restrained. It can afford to extend a helping hand to others. It's a weak nation, like a weak person, that must behave with bluster and boasting and rashness and other signs of insecurity.\", 'The difference between stupidity and genius is that genius has its limits.', 'We the people are the rightful masters of both Congress and the courts, not to overthrow the Constitution but to overthrow the men who pervert the Constitution.', 'With or without religion, you would have good people doing good things and evil people doing evil things. But for good people to do evil things, that takes religion.', 'Human kindness has never weakened the stamina or softened the fiber of a free people. A nation does not have to be cruel to be tough.', 'A person who never made a mistake never tried anything new.', 'My mission in life is not merely to survive, but to thrive; and to do so with some passion, some compassion, some humor, and some style', 'Life is short, Break the Rules. Forgive quickly, Kiss slowly. Love truly. Laugh uncontrollably And never regret ANYTHING That makes you smile.', 'This country will not be a good place for any of us to live in unless we make it a good place for all of us to live in.', 'In a world filled with hate, we must still dare to hope. In a world filled with anger, we must still dare to comfort. In a world filled with despair, we must still dare to dream. And in a world filled with distrust, we must still dare to believe.', 'Darkness cannot drive out darkness; only light can do that. Hate cannot drive out hate; only love can do that.', 'To be a Christian means to forgive the inexcusable because God has forgiven the inexcusable in you.', 'A man who is good enough to shed his blood for the country is good enough to be given a square deal afterwards.', 'Kindness is the language which the deaf can hear and the blind can see.', 'Most folks are as happy as they make up their minds to be.', 'A happy marriage is the union of two good forgivers.', 'I believe in Christianity as I believe that the sun has risen: not only because I see it, but because by it I see everything else.', 'Politics is the art of looking for trouble, finding it everywhere, diagnosing it incorrectly and applying the wrong remedies.', \"I believe in everything until it's disproved. So I believe in fairies, the myths, dragons. It all exists, even if it's in your mind. Who's to say that dreams and nightmares aren't as real as the here and now?\", 'At the end of your life, you will never regret not having passed one more test, not winning one more verdict or not closing one more deal. You will regret time not spent with a husband, a friend, a child, or a parent.', 'I never think of the future - it comes soon enough.', \"Our greatest fear should not be of failure but of succeeding at things in life that don't really matter.\", 'Failure is simply the opportunity to begin again, this time more intelligently.', 'Music expresses that which cannot be put into words.', 'Good actions are a guard against the blows of adversity.', 'Positive thinking will let you do everything better than negative thinking will.', \"You have enemies? Good. That means you've stood up for something, sometime in your life.\", \"You don't have to be great to start, but you have to start to be great\", 'Let every nation know, whether it wishes us well or ill, that we shall pay any price, bear any burden, meet any hardship, support any friend, oppose any foe to assure the survival and the success of liberty.', \"If you want total security, go to prison. There you're fed, clothed, given medical care and so on. The only thing lacking... is freedom.\", 'Socialism is a philosophy of failure, the creed of ignorance, and the gospel of envy, its inherent virtue is the equal sharing of misery.', 'It is the supreme art of the teacher to awaken joy in creative expression and knowledge.', \"Once you replace negative thoughts with positive ones, you'll start having positive results.\", \"You build on failure. You use it as a stepping stone. Close the door on the past. You don't try to forget the mistakes, but you don't dwell on it. You don't let it have any of your energy, or any of your time, or any of your space.\", 'All my life through, the new sights of Nature made me rejoice like a child.', \"I've learned that people will forget what you said, people will forget what you did, but people will never forget how you made them feel.\", 'Marriage is not a ritual or an end. It is a long, intricate, intimate dance together and nothing matters more than your own sense of balance and your choice of partner.', 'When obstacles arise, you change your direction to reach your goal; you do not change your decision to get there.', 'Time you enjoy wasting, was not wasted.', 'The next time some academics tell you how important diversity is, ask how many Republicans there are in their sociology department.', 'Faith is not the belief that God will do what you want. It is the belief that God will do what is right.', \"If you can't fly then run, if you can't run then walk, if you can't walk then crawl, but whatever you do you have to keep moving forward.\", 'It is hard to imagine a more stupid or more dangerous way of making decisions than by putting those decisions in the hands of people who pay no price for being wrong.', 'I say that the most liberating thing about beauty is realizing that you are the beholder.', 'The ultimate measure of a man is not where he stands in moments of comfort and convenience, but where he stands at times of challenge and controversy.', 'The soldier, above all other people, prays for peace, for he must suffer and bear the deepest wounds and scars of war.', 'A true leader has the confidence to stand alone, the courage to make tough decisions, and the compassion to listen to the needs of others. He does not set out to be a leader, but becomes one by the equality of his actions and the integrity of his intent.', 'I am a Soldier, I fight where I am told, and I win where I fight.', \"Trying to do the Lord's work in your own strength is the most confusing, exhausting, and tedious of all work. But when you are filled with the Holy Spirit, then the ministry of Jesus just flows out of you.\", \"Sports for me is when a guy walks off the court, and you really can't tell whether he won or lost, when he carries himself with pride either way.\", 'Expect the best. Prepare for the worst. Capitalize on what comes.', 'I became insane, with long intervals of horrible sanity.', 'Failure is a detour, not a dead-end street.', 'I am not a product of my circumstances. I am a product of my decisions.', 'You can cut all the flowers but you cannot keep spring from coming.', \"Life doesn't run away from nobody. Life runs at people.\", 'In order to succeed, your desire for success should be greater than your fear of failure.', \"It's difficult to think anything but pleasant thoughts while eating a homegrown tomato.\", 'Too many of us are not living our dreams because we are living our fears.', 'If the only prayer you ever say in your entire life is thank you, it will be enough.', \"It's just a job. Grass grows, birds fly, waves pound the sand. I beat people up.\", 'A man must be big enough to admit his mistakes, smart enough to profit from them, and strong enough to correct them.', 'Our greatest weakness lies in giving up. The most certain way to succeed is always to try just one more time.', 'This is one small step for a man, one giant leap for mankind.', \"It has been said, 'time heals all wounds.' I do not agree. The wounds remain. In time, the mind, protecting its sanity, covers them with scar tissue and the pain lessens. But it is never gone.\", \"I have held many things in my hands, and I have lost them all; but whatever I have placed in God's hands, that I still possess.\", \"Welfare's purpose should be to eliminate, as far as possible, the need for its own existence.\", 'Each time, before you intercede, be quiet first, and worship God in His glory. Think of what He can do, and how He delights to hear the prayers of His redeemed people. Think of your place and privilege in Christ, and expect great things!', \"Failure is not the opposite of success; it's part of success.\", 'No one has ever become poor by giving.', 'It is not my ability, but my response to God’s ability, that counts.', 'No one is born hating another person because of the color of his skin, or his background, or his religion. People must learn to hate, and if they can learn to hate, they can be taught to love, for love comes more naturally to the human heart than its opposite.', 'No matter what people tell you, words and ideas can change the world.', 'A man should never neglect his family for business.', 'Those who dare to fail miserably can achieve greatly.', 'The two most important days in your life are the day you are born and the day you find out why.', 'We must be global Christians with a global vision because our God is a global God.', 'With everything that has happened to you, you can either feel sorry for yourself or treat what has happened as a gift. Everything is either an opportunity to grow or an obstacle to keep you from growing. You get to choose.', 'Don’t let the noise of others’ opinions drown out your own inner voice.', 'History, despite its wrenching pain, cannot be unlived, but if faced with courage, need not be lived again.', \"How old would you be if you didn't know how old you are?\", 'Leadership is a privilege to better the lives of others. It is not an opportunity to satisfy personal greed.', 'If you have good thoughts they will shine out of your face like sunbeams and you will always look lovely.', 'Never cut a tree down in the wintertime. Never make a negative decision in the low time. Never make your most important decisions when you are in your worst moods. Wait. Be patient. The storm will pass. The spring will come.', 'An optimist stays up until midnight to see the new year in. A pessimist stays up to make sure the old year leaves.', 'When the going gets weird, the weird turn pro.', \"When a train goes through a tunnel and it gets dark, you don't throw away the ticket and jump off. You sit still and trust the engineer.\", 'If you think you are too small to make a difference, try sleeping with a mosquito.', \"God doesn't require us to succeed, he only requires that you try.\", 'Change your thoughts and you change your world.', 'Can words describe the fragrance of the very breath of spring?', 'Faith is to believe what you do not see; the reward of this faith is to see what you believe.', 'When everything seems to be going against you, remember that the airplane takes off against the wind, not with it.', 'I have found that if you love life, life will love you back.', 'To disarm the people... was the best and most effectual way to enslave them.', 'Today a reader, tomorrow a leader.', \"A dream doesn't become reality through magic; it takes sweat, determination and hard work.\", 'Whoever would overthrow the liberty of a nation must begin by subduing the freeness of speech.', \"It's better to be a lion for a day than a sheep all your life.\", 'Resolution One: I will live for God. Resolution Two: If no one else does, I still will.', 'Tell me and I forget. Teach me and I remember. Involve me and I learn.', 'Fear is the main source of superstition, and one of the main sources of cruelty. To conquer fear is the beginning of wisdom.', 'Do not be embarrassed by your failures, learn from them and start again.', 'Everyone should be respected as an individual, but no one idolized.', \"Our worst days are never so bad that you are beyond the reach of God's grace. And your best days are never so good that you are beyond the need of God's grace.\", 'The more you like yourself, the less you are like anyone else, which makes you unique.', 'If there is no struggle, there is no progress.', 'If more of us valued food and cheer and song above hoarded gold, it would be a merrier world.', 'Success consists of going from failure to failure without loss of enthusiasm.', \"Don't aim for success if you want it; just do what you love and believe in, and it will come naturally.\", \"You know why there's a Second Amendment? In case the government fails to follow the first one.\", 'Nothing will work unless you do.', 'There are no secrets to success. It is the result of preparation, hard work, and learning from failure.', 'The hunger for love is much more difficult to remove than the hunger for bread.', 'Love yourself. It is important to stay positive because beauty comes from the inside out.', \"Life's most persistent and urgent question is, 'What are you doing for others?'\", 'Be faithful in small things because it is in them that your strength lies.', 'There is no greater happiness for a man than approaching a door at the end of a day knowing someone on the other side of that door is waiting for the sound of his footsteps.', 'Underlying most arguments against the free market is a lack of belief in freedom itself.', 'I hear and I forget. I see and I remember. I do and I understand.', \"It happens to everyone as they grow up. You find out who you are and what you want, and then you realize that people you've known forever don't see things the way you do. So you keep the wonderful memories, but find yourself moving on.\", 'I have a dream that my four little children will one day live in a nation where they will not be judged by the color of their skin, but by the content of their character.', 'An intelligent hell would be better than a stupid paradise.', 'Never worry about numbers. Help one person at a time and always start with the person nearest you.', 'Run when you can, walk if you have to, crawl if you must; just never give up.', 'If you want others to be happy, practice compassion. If you want to be happy, practice compassion.', \"You are responsible for your life. You can't keep blaming somebody else for your dysfunction. Life is really about moving on.\", \"Don't limit yourself. Many people limit themselves to what they think they can do. You can go as far as your mind lets you. What you believe, remember, you can achieve.\", 'When we lose one blessing, another is often most unexpectedly given in its place.', 'I only regret that I have but one life to lose for my country.', 'The only place success comes before work is in the dictionary.', 'Music was my refuge. I could crawl into the space between the notes and curl my back to loneliness.', 'The greatest enemy to human souls is the self-righteous spirit which makes men look to themselves for salvation.', 'My religion is very simple. My religion is kindness.', 'The Marines I have seen around the world have the cleanest bodies, the filthiest minds, the highest morale, and the lowest morals of any group of animals I have ever seen. Thank God for the United States Marine Corps!', 'With God in charge, I believe everything will work out for the best in the end.', 'A government that robs Peter to pay Paul can always depend on the support of Paul.', \"We can't help everyone, but everyone can help someone.\", \"Tolerance implies no lack of commitment to one's own beliefs. Rather it condemns the oppression or persecution of others.\", 'Worry does not empty tomorrow of its sorrow. It empties today of its strength.', 'Luck is predictable; the harder you work, the luckier you get.', 'Beware of false knowledge; it is more dangerous than ignorance.', 'A successful man is one who can lay a firm foundation with the bricks others have thrown at him.', 'There is no substitute for hard work.', \"When you have a dream, you've got to grab it and never let go.\", 'Whoever said the pen is mightier than the sword obviously never encountered automatic weapons.', 'He is happiest, be he king or peasant, who finds peace in his home.', 'The greatest discovery of all time is that a person can change his future by merely changing his attitude.', 'The size of your success is measured by the strength of your desire; the size of your dream; and how you handle disappointment along the way.', \"The dog is a gentleman; I hope to go to his heaven not man's.\", \"Don't judge each day by the harvest you reap but by the seeds that you plant.\", 'I can be changed by what happens to me. But I refuse to be reduced by it.', 'To acquire knowledge, one must study; but to acquire wisdom, one must observe.', 'No person is your friend who demands your silence, or denies your right to grow.', \"If you can't make it good, at least make it look good.\", 'Love begins by taking care of the closest ones - the ones at home.', 'Our death is not an end if we can live on in our children and the younger generation. For they are us; our bodies are only wilted leaves on the tree of life.', 'All great change in America begins at the dinner table.', 'Winning takes talent; to repeat takes character.', \"Humility is not thinking less of yourself, it's thinking of yourself less.\", 'You are always a student, never a master. You have to keep moving forward.', \"That's the real trouble with the world, too many people grow up.\", 'If we want to find safe alternatives to obstetrics, we must rediscover midwifery. To rediscover midwifery is the same as giving back childbirth to women. And imagine the future if surgical teams were at the service of the midwives and the women instead of controlling them.', 'Women are made to be loved, not understood.', \"Don't wait. The time will never be just right.\", 'One of the greatest diseases is to be nobody to anybody.', 'Real loss is only possible when you love something more than you love yourself.', 'Opportunity is missed by most people because it is dressed in overalls and looks like work.', \"A mother's love for her child is like nothing else in the world. It knows no law, no pity, it dares all things and crushes down remorselessly all that stands in its path.\", 'When a woman becomes her own best friend life is easier.', 'One of the most tragic things I know about human nature is that all of us tend to put off living. We are all dreaming of some magical rose garden over the horizon instead of enjoying the roses that are blooming outside our windows today.', 'If your actions inspire others to dream more, learn more, do more and become more, you are a leader.', 'Children learn more from what you are than what you teach.', 'Optimism is a happiness magnet. If you stay positive, good things and good people will be drawn to you.', \"We cannot be both the world's leading champion of peace and the world's leading supplier of the weapons of war.\", \"Life isn't about finding yourself. Life is about creating yourself.\", 'The only thing worse than being blind is having sight but no vision.', \"I'd rather attempt to do something great and fail than to attempt to do nothing and succeed.\", 'Keep your dreams alive. Understand to achieve anything requires faith and belief in yourself, vision, hard work, determination, and dedication. Remember all things are possible for those who believe.', 'Whatever you want in life, other people are going to want it too. Believe in yourself enough to accept the idea that you have an equal right to it.', 'Even if I knew that tomorrow the world would go to pieces, I would still plant my apple tree.', 'Disciplining yourself to do what you know is right and important, although difficult, is the highroad to pride, self-esteem, and personal satisfaction.', 'All great achievements require time.', 'Success is not the key to happiness. Happiness is the key to success. If you love what you are doing, you will be successful.', 'When one door closes, another opens; but we often look so long and so regretfully upon the closed door that we do not see the one which has opened for us.', 'Discipline is the bridge between goals and accomplishment.', \"Don't find fault, find a remedy.\", \"I used to think the worst thing in life was to end up all alone. It's not. The worst thing in life is to end up with people who make you feel all alone.\", \"Friends and good manners will carry you where money won't go.\", 'If you want to make a permanent change, stop focusing on the size of your problems and start focusing on the size of you!', 'Courage is the price that life exacts for granting peace.', 'The worst evils which mankind has ever had to endure were inflicted by bad governments.', 'The moment we begin to fear the opinions of others and hesitate to tell the truth that is in us, and from motives of policy are silent when we should speak, the divine floods of light and life no longer flow into our souls.', 'Trust yourself, you know more than you think you do.', 'Some people want it to happen, some wish it would happen, others make it happen.', 'High achievement always takes place in the framework of high expectation.', 'The body is your temple. Keep it pure and clean for the soul to reside in.', 'Be like a duck. Calm on the surface, but always paddling like the dickens underneath.', 'Tears shed for self are tears of weakness, but tears shed for others are a sign of strength.', 'Success is neither magical nor mysterious. Success is the natural consequence of consistently applying the basic fundamentals.', 'It is wise to direct your anger towards problems - not people; to focus your energies on answers - not excuses.', 'If we did all the things we are capable of doing, we would literally astound ourselves.', 'Love is our true destiny. We do not find the meaning of life by ourselves alone - we find it with another.', 'I ask, sir, what is the militia? It is the whole people except for a few public officials.', \"As long as there's pasta and Chinese food in the world, I'm okay.\", 'The few who do are the envy of the many who only watch.', \"Don't brood. Get on with living and loving. You don't have forever.\", \"Tricks and treachery are the practice of fools, that don't have brains enough to be honest.\", 'The Marines have landed and the situation is well in hand.', \"Life is one big road with lots of signs,\\nSo when you riding through the ruts,\\nDon't you complicate your mind\\nFlee from hate, mischief and jealousy\\nDon't bury your thoughts; put your vision to reality.\", 'There is always some madness in love. But there is also always some reason in madness.', 'For peace of mind, we need to resign as general manager of the universe.', 'I am free, no matter what rules surround me. If I find them tolerable, I tolerate them; if I find them too obnoxious, I break them. I am free because I know that I alone am morally responsible for everything I do.', 'Only put off until tomorrow what you are willing to die having left undone.', 'The will to win, the desire to succeed, the urge to reach your full potential... these are the keys that will unlock the door to personal excellence.', 'Difficulties are meant to rouse, not discourage. The human spirit is to grow strong by conflict.', \"It's very hard in the beginning to understand that the whole idea is not to beat the other runners. Eventually you learn that the competition is against the little voice inside you that wants you to quit.\", 'A well-developed sense of humor is the pole that adds balance to your steps as you walk the tightrope of life.', 'We relish news of our heroes, forgetting that we are extraordinary to somebody too.', 'It takes less time to do a thing right, than it does to explain why you did it wrong.', \"It isn't the mountain ahead that wears you out; it's the grain of sand in your shoe.\", 'Empty your mind, be formless. Shapeless, like water. If you put water into a cup, it becomes the cup. You put water into a bottle and it becomes the bottle. You put it in a teapot it becomes the teapot. Now, water can flow or it can crash. Be water, my friend.', 'The longer we dwell on our misfortunes, the greater is their power to harm us', \"Sometimes I've believed as many as six impossible things before breakfast.\", 'Do not fear mistakes. There are none.', 'Expose yourself to your deepest fear; after that, fear has no power, and the fear of freedom shrinks and vanishes. You are free.', 'Anger is an acid that can do more harm to the vessel in which it is stored than to anything on which it is poured.', 'Failure is success if we learn from it.', 'You are here to enable the divine purpose of the Universe to unfold. That is how important you are!', 'People like us, who believe in physics, know that the distinction between past, present, and future is only a stubbornly persistent illusion.', 'I still need Marines who can shoot and salute. But I need Marines who can fix jet engines and man sophisticated radar sets, as well.', \"You can't expect to hit the jackpot if you don't put a few nickels in the machine.\", 'One of the penalties for refusing to participate in politics is that you end up being governed by your inferiors.', 'It is what we know already that often prevents us from learning.', 'The only limit to our realization of tomorrow will be our doubts of today.', \"I've learned that making a 'living' is not the same thing as 'making a life'.\", 'Every time you smile at someone, it is an action of love, a gift to that person, a beautiful thing.', 'The spirit, the will to win, and the will to excel are the things that endure. These qualities are so much more important than the events that occur.', 'When I started counting my blessings, my whole life turned around.', 'Ninety-nine percent of the failures come from people who have the habit of making excuses.', 'Everything comes to us that belongs to us if we create the capacity to receive it.', \"What doesn't kill you makes you smaller\", 'The difficulties you meet will resolve themselves as you advance. Proceed, and light will dawn, and shine with increasing clearness on your path.', \"It's not what's happening to you now or what has happened in your past that determines who you become. Rather, it's your decisions about what to focus on, what things mean to you, and what you're going to do about them that will determine your ultimate destiny.\", 'Live your life and forget your age.', 'We may not be able to prepare the future for our children, but we can at least prepare our children for the future.', 'Men occasionally stumble over the truth, but most of them pick themselves up and hurry off as if nothing had happened.', \"That's been one of my mantras - focus and simplicity. Simple can be harder than complex: You have to work hard to get your thinking clean to make it simple. But it's worth it in the end because once you get there, you can move mountains.\", 'The trouble with most of us is that we would rather be ruined by praise than saved by criticism.', 'The smallest deed is better than the greatest intention.', \"Only two things are infinite, the universe and human stupidity, and I'm not sure about the former.\", 'A nation of sheep will beget a government of wolves.', \"Nothing else can quite substitute for a few well-chosen,\\nwell-timed, sincere words of praise.\\nThey're absolutely free and worth a fortune\", \"There is nothing in a caterpillar that tells you it's going to be a butterfly.\", \"A charming woman... doesn't follow the crowd. She is herself.\", \"You don't understand anything until you learn it more than one way.\", 'Doubt yourself and you doubt everything you see. Judge yourself and you see judges everywhere. But if you listen to the sound of your own voice, you can rise above doubt and judgment. And you can see forever.', \"Find the good. It's all around you. Find it, showcase it and you'll start believing in it.\", 'Happiness in marriage is entirely a matter of chance.', 'The difference between a mountain and a molehill is your perspective.', 'It is best to act with confidence, no matter how little right you have to it.', \"People usually consider walking on water or in thin air a miracle. But I think the real miracle is not to walk either on water or in thin air, but to walk on earth. Every day we are engaged in a miracle which we don't even recognize: a blue sky, white clouds, green leaves, the black, curious eyes of a child -- our own two eyes. All is a miracle.\", 'Freedom means the opportunity to be what we never thought we would be.', 'For it was not into my ear you whispered, but into my heart. It was not my lips you kissed, but my soul.', 'I will love the light for it shows me the way, yet I will endure the darkness because it shows me the stars.', \"If you run, you are a runner. It doesn't matter how fast or how far. It doesn't matter if today is your first day or if you've been running for twenty years. There is no test to pass, no license to earn, no membership card to get. You just run.\", \"The world is a dangerous place to live; not because of the people who are evil, but because of the people who don't do anything about it.\", 'The deepest principle in human nature is the craving to be appreciated.', \"About all you can do in life is be who you are. Some people will love you for you. Most will love you for what you can do for them, and some won't like you at all.\", 'To find out what one is fitted to do, and to secure an opportunity to do it, is the key to happiness.', 'Forgiveness says you are given another chance to make a new beginning.', 'What is success? I think it is a mixture of having a flair for the thing that you are doing; knowing that it is not enough, that you have got to have hard work and a certain sense of purpose.', 'The past has no power over the present moment.', \"Do not let your fire go out, spark by irreplaceable spark in the hopeless swamps of the not-quite, the not-yet, and the not-at-all. Do not let the hero in your soul perish in lonely frustration for the life you deserved and have never been able to reach. The world you desire can be won. It exists.. it is real.. it is possible.. it's yours.\", 'No person was ever honored for what he received. Honor has been the reward for what he gave.', 'Love yourself-accept yourself-forgive yourself-and be good to yourself, because without you the rest of us are without a source of many wonderful things.', 'Wherever you are, and whatever you do, be in love.', 'Whenever you find yourself on the side of the majority, it is time to pause and reflect.', 'And those who were seen dancing were thought to be insane by those who could not hear the music.', \"I love things that age well - things that don't date, that stand the test of time and that become living examples of the absolute best.\", 'Better be wise by the misfortunes of others than by your own.', 'The person, be it gentleman or lady, who has not pleasure in a good novel, must be intolerably stupid.', \"The opposite of love is not hate, it's indifference. The opposite of art is not ugliness, it's indifference. The opposite of faith is not heresy, it's indifference. And the opposite of life is not death, it's indifference.\", 'Curiosity is one of the most permanent and certain characteristics of a vigorous intellect.', 'Leaders must be close enough to relate to others, but far enough ahead to motivate them.', 'Regret for the things we did can be tempered by time; it is regret for the things we did not do that is inconsolable.', 'America... just a nation of two hundred million used car salesmen with all the money we need to buy guns and no qualms about killing anybody else in the world who tries to make us uncomfortable.', 'For every disciplined effort there is a multiple reward.', \"The spiritual journey is individual, highly personal. It can't be organized or regulated. It isn't true that everyone should follow one path. Listen to your own truth.\", 'The mind is not a vessel to be filled but a fire to be kindled.', 'Courage is the price that life exacts for granting peace.', 'The worst evils which mankind has ever had to endure were inflicted by bad governments.', 'The moment we begin to fear the opinions of others and hesitate to tell the truth that is in us, and from motives of policy are silent when we should speak, the divine floods of light and life no longer flow into our souls.', 'Trust yourself, you know more than you think you do.', 'Some people want it to happen, some wish it would happen, others make it happen.', 'High achievement always takes place in the framework of high expectation.', 'The body is your temple. Keep it pure and clean for the soul to reside in.', 'Be like a duck. Calm on the surface, but always paddling like the dickens underneath.', 'Tears shed for self are tears of weakness, but tears shed for others are a sign of strength.', 'Success is neither magical nor mysterious. Success is the natural consequence of consistently applying the basic fundamentals.', 'It is wise to direct your anger towards problems - not people; to focus your energies on answers - not excuses.', 'If we did all the things we are capable of doing, we would literally astound ourselves.', 'Love is our true destiny. We do not find the meaning of life by ourselves alone - we find it with another.', 'I ask, sir, what is the militia? It is the whole people except for a few public officials.', \"As long as there's pasta and Chinese food in the world, I'm okay.\", 'The few who do are the envy of the many who only watch.', \"Don't brood. Get on with living and loving. You don't have forever.\", \"Tricks and treachery are the practice of fools, that don't have brains enough to be honest.\", 'The Marines have landed and the situation is well in hand.', \"Life is one big road with lots of signs,\\nSo when you riding through the ruts,\\nDon't you complicate your mind\\nFlee from hate, mischief and jealousy\\nDon't bury your thoughts; put your vision to reality.\", 'There is always some madness in love. But there is also always some reason in madness.', 'For peace of mind, we need to resign as general manager of the universe.', 'I am free, no matter what rules surround me. If I find them tolerable, I tolerate them; if I find them too obnoxious, I break them. I am free because I know that I alone am morally responsible for everything I do.', 'Only put off until tomorrow what you are willing to die having left undone.', 'The will to win, the desire to succeed, the urge to reach your full potential... these are the keys that will unlock the door to personal excellence.', 'Difficulties are meant to rouse, not discourage. The human spirit is to grow strong by conflict.', \"It's very hard in the beginning to understand that the whole idea is not to beat the other runners. Eventually you learn that the competition is against the little voice inside you that wants you to quit.\", 'A well-developed sense of humor is the pole that adds balance to your steps as you walk the tightrope of life.', 'We relish news of our heroes, forgetting that we are extraordinary to somebody too.', 'It takes less time to do a thing right, than it does to explain why you did it wrong.', \"It isn't the mountain ahead that wears you out; it's the grain of sand in your shoe.\", 'Empty your mind, be formless. Shapeless, like water. If you put water into a cup, it becomes the cup. You put water into a bottle and it becomes the bottle. You put it in a teapot it becomes the teapot. Now, water can flow or it can crash. Be water, my friend.', 'The longer we dwell on our misfortunes, the greater is their power to harm us', \"Sometimes I've believed as many as six impossible things before breakfast.\", 'Do not fear mistakes. There are none.', 'Expose yourself to your deepest fear; after that, fear has no power, and the fear of freedom shrinks and vanishes. You are free.', 'Anger is an acid that can do more harm to the vessel in which it is stored than to anything on which it is poured.', 'Failure is success if we learn from it.', 'You are here to enable the divine purpose of the Universe to unfold. That is how important you are!', 'People like us, who believe in physics, know that the distinction between past, present, and future is only a stubbornly persistent illusion.', 'I still need Marines who can shoot and salute. But I need Marines who can fix jet engines and man sophisticated radar sets, as well.', \"You can't expect to hit the jackpot if you don't put a few nickels in the machine.\", 'One of the penalties for refusing to participate in politics is that you end up being governed by your inferiors.', 'It is what we know already that often prevents us from learning.', 'The only limit to our realization of tomorrow will be our doubts of today.', \"I've learned that making a 'living' is not the same thing as 'making a life'.\", 'Every time you smile at someone, it is an action of love, a gift to that person, a beautiful thing.', 'The spirit, the will to win, and the will to excel are the things that endure. These qualities are so much more important than the events that occur.', 'When I started counting my blessings, my whole life turned around.', 'Ninety-nine percent of the failures come from people who have the habit of making excuses.', 'Everything comes to us that belongs to us if we create the capacity to receive it.', \"What doesn't kill you makes you smaller\", 'The difficulties you meet will resolve themselves as you advance. Proceed, and light will dawn, and shine with increasing clearness on your path.', \"It's not what's happening to you now or what has happened in your past that determines who you become. Rather, it's your decisions about what to focus on, what things mean to you, and what you're going to do about them that will determine your ultimate destiny.\", 'Live your life and forget your age.', 'We may not be able to prepare the future for our children, but we can at least prepare our children for the future.', 'Men occasionally stumble over the truth, but most of them pick themselves up and hurry off as if nothing had happened.', \"That's been one of my mantras - focus and simplicity. Simple can be harder than complex: You have to work hard to get your thinking clean to make it simple. But it's worth it in the end because once you get there, you can move mountains.\", 'The trouble with most of us is that we would rather be ruined by praise than saved by criticism.', 'The smallest deed is better than the greatest intention.', \"Only two things are infinite, the universe and human stupidity, and I'm not sure about the former.\", 'A nation of sheep will beget a government of wolves.', \"Nothing else can quite substitute for a few well-chosen,\\nwell-timed, sincere words of praise.\\nThey're absolutely free and worth a fortune\", \"There is nothing in a caterpillar that tells you it's going to be a butterfly.\", \"A charming woman... doesn't follow the crowd. She is herself.\", \"You don't understand anything until you learn it more than one way.\", 'Doubt yourself and you doubt everything you see. Judge yourself and you see judges everywhere. But if you listen to the sound of your own voice, you can rise above doubt and judgment. And you can see forever.', \"Find the good. It's all around you. Find it, showcase it and you'll start believing in it.\", 'Happiness in marriage is entirely a matter of chance.', 'The difference between a mountain and a molehill is your perspective.', 'It is best to act with confidence, no matter how little right you have to it.', \"People usually consider walking on water or in thin air a miracle. But I think the real miracle is not to walk either on water or in thin air, but to walk on earth. Every day we are engaged in a miracle which we don't even recognize: a blue sky, white clouds, green leaves, the black, curious eyes of a child -- our own two eyes. All is a miracle.\", 'Freedom means the opportunity to be what we never thought we would be.', 'For it was not into my ear you whispered, but into my heart. It was not my lips you kissed, but my soul.', 'I will love the light for it shows me the way, yet I will endure the darkness because it shows me the stars.', \"If you run, you are a runner. It doesn't matter how fast or how far. It doesn't matter if today is your first day or if you've been running for twenty years. There is no test to pass, no license to earn, no membership card to get. You just run.\", \"The world is a dangerous place to live; not because of the people who are evil, but because of the people who don't do anything about it.\", 'The deepest principle in human nature is the craving to be appreciated.', \"About all you can do in life is be who you are. Some people will love you for you. Most will love you for what you can do for them, and some won't like you at all.\", 'To find out what one is fitted to do, and to secure an opportunity to do it, is the key to happiness.', 'Forgiveness says you are given another chance to make a new beginning.', 'What is success? I think it is a mixture of having a flair for the thing that you are doing; knowing that it is not enough, that you have got to have hard work and a certain sense of purpose.', 'The past has no power over the present moment.', \"Do not let your fire go out, spark by irreplaceable spark in the hopeless swamps of the not-quite, the not-yet, and the not-at-all. Do not let the hero in your soul perish in lonely frustration for the life you deserved and have never been able to reach. The world you desire can be won. It exists.. it is real.. it is possible.. it's yours.\", 'No person was ever honored for what he received. Honor has been the reward for what he gave.', 'Love yourself-accept yourself-forgive yourself-and be good to yourself, because without you the rest of us are without a source of many wonderful things.', 'Wherever you are, and whatever you do, be in love.', 'Whenever you find yourself on the side of the majority, it is time to pause and reflect.', 'And those who were seen dancing were thought to be insane by those who could not hear the music.', \"I love things that age well - things that don't date, that stand the test of time and that become living examples of the absolute best.\", 'Better be wise by the misfortunes of others than by your own.', 'The person, be it gentleman or lady, who has not pleasure in a good novel, must be intolerably stupid.', \"The opposite of love is not hate, it's indifference. The opposite of art is not ugliness, it's indifference. The opposite of faith is not heresy, it's indifference. And the opposite of life is not death, it's indifference.\", 'Curiosity is one of the most permanent and certain characteristics of a vigorous intellect.', 'Leaders must be close enough to relate to others, but far enough ahead to motivate them.', 'Regret for the things we did can be tempered by time; it is regret for the things we did not do that is inconsolable.', 'America... just a nation of two hundred million used car salesmen with all the money we need to buy guns and no qualms about killing anybody else in the world who tries to make us uncomfortable.', 'For every disciplined effort there is a multiple reward.', \"The spiritual journey is individual, highly personal. It can't be organized or regulated. It isn't true that everyone should follow one path. Listen to your own truth.\", 'The mind is not a vessel to be filled but a fire to be kindled.', 'Courage is the price that life exacts for granting peace.', 'The worst evils which mankind has ever had to endure were inflicted by bad governments.', 'The moment we begin to fear the opinions of others and hesitate to tell the truth that is in us, and from motives of policy are silent when we should speak, the divine floods of light and life no longer flow into our souls.', 'Trust yourself, you know more than you think you do.', 'Some people want it to happen, some wish it would happen, others make it happen.', 'High achievement always takes place in the framework of high expectation.', 'The body is your temple. Keep it pure and clean for the soul to reside in.', 'Be like a duck. Calm on the surface, but always paddling like the dickens underneath.', 'Tears shed for self are tears of weakness, but tears shed for others are a sign of strength.', 'Success is neither magical nor mysterious. Success is the natural consequence of consistently applying the basic fundamentals.', 'It is wise to direct your anger towards problems - not people; to focus your energies on answers - not excuses.', 'If we did all the things we are capable of doing, we would literally astound ourselves.', 'Love is our true destiny. We do not find the meaning of life by ourselves alone - we find it with another.', 'I ask, sir, what is the militia? It is the whole people except for a few public officials.', \"As long as there's pasta and Chinese food in the world, I'm okay.\", 'The few who do are the envy of the many who only watch.', \"Don't brood. Get on with living and loving. You don't have forever.\", \"Tricks and treachery are the practice of fools, that don't have brains enough to be honest.\", 'The Marines have landed and the situation is well in hand.', \"Life is one big road with lots of signs,\\nSo when you riding through the ruts,\\nDon't you complicate your mind\\nFlee from hate, mischief and jealousy\\nDon't bury your thoughts; put your vision to reality.\", 'There is always some madness in love. But there is also always some reason in madness.', 'For peace of mind, we need to resign as general manager of the universe.', 'I am free, no matter what rules surround me. If I find them tolerable, I tolerate them; if I find them too obnoxious, I break them. I am free because I know that I alone am morally responsible for everything I do.', 'Only put off until tomorrow what you are willing to die having left undone.', 'The will to win, the desire to succeed, the urge to reach your full potential... these are the keys that will unlock the door to personal excellence.', 'Difficulties are meant to rouse, not discourage. The human spirit is to grow strong by conflict.', \"It's very hard in the beginning to understand that the whole idea is not to beat the other runners. Eventually you learn that the competition is against the little voice inside you that wants you to quit.\", 'A well-developed sense of humor is the pole that adds balance to your steps as you walk the tightrope of life.', 'We relish news of our heroes, forgetting that we are extraordinary to somebody too.', 'It takes less time to do a thing right, than it does to explain why you did it wrong.', \"It isn't the mountain ahead that wears you out; it's the grain of sand in your shoe.\", 'Empty your mind, be formless. Shapeless, like water. If you put water into a cup, it becomes the cup. You put water into a bottle and it becomes the bottle. You put it in a teapot it becomes the teapot. Now, water can flow or it can crash. Be water, my friend.', 'The longer we dwell on our misfortunes, the greater is their power to harm us', \"Sometimes I've believed as many as six impossible things before breakfast.\", 'Do not fear mistakes. There are none.', 'Expose yourself to your deepest fear; after that, fear has no power, and the fear of freedom shrinks and vanishes. You are free.', 'Anger is an acid that can do more harm to the vessel in which it is stored than to anything on which it is poured.', 'Failure is success if we learn from it.', 'You are here to enable the divine purpose of the Universe to unfold. That is how important you are!', 'People like us, who believe in physics, know that the distinction between past, present, and future is only a stubbornly persistent illusion.', 'I still need Marines who can shoot and salute. But I need Marines who can fix jet engines and man sophisticated radar sets, as well.', \"You can't expect to hit the jackpot if you don't put a few nickels in the machine.\", 'One of the penalties for refusing to participate in politics is that you end up being governed by your inferiors.', 'It is what we know already that often prevents us from learning.', 'The only limit to our realization of tomorrow will be our doubts of today.', \"I've learned that making a 'living' is not the same thing as 'making a life'.\", 'Every time you smile at someone, it is an action of love, a gift to that person, a beautiful thing.', 'The spirit, the will to win, and the will to excel are the things that endure. These qualities are so much more important than the events that occur.', 'When I started counting my blessings, my whole life turned around.', 'Ninety-nine percent of the failures come from people who have the habit of making excuses.', 'Everything comes to us that belongs to us if we create the capacity to receive it.', \"What doesn't kill you makes you smaller\", 'The difficulties you meet will resolve themselves as you advance. Proceed, and light will dawn, and shine with increasing clearness on your path.', \"It's not what's happening to you now or what has happened in your past that determines who you become. Rather, it's your decisions about what to focus on, what things mean to you, and what you're going to do about them that will determine your ultimate destiny.\", 'Live your life and forget your age.', 'We may not be able to prepare the future for our children, but we can at least prepare our children for the future.', 'Men occasionally stumble over the truth, but most of them pick themselves up and hurry off as if nothing had happened.', \"That's been one of my mantras - focus and simplicity. Simple can be harder than complex: You have to work hard to get your thinking clean to make it simple. But it's worth it in the end because once you get there, you can move mountains.\", 'The trouble with most of us is that we would rather be ruined by praise than saved by criticism.', 'The smallest deed is better than the greatest intention.', \"Only two things are infinite, the universe and human stupidity, and I'm not sure about the former.\", 'A nation of sheep will beget a government of wolves.', \"Nothing else can quite substitute for a few well-chosen,\\nwell-timed, sincere words of praise.\\nThey're absolutely free and worth a fortune\", \"There is nothing in a caterpillar that tells you it's going to be a butterfly.\", \"A charming woman... doesn't follow the crowd. She is herself.\", \"You don't understand anything until you learn it more than one way.\", 'Doubt yourself and you doubt everything you see. Judge yourself and you see judges everywhere. But if you listen to the sound of your own voice, you can rise above doubt and judgment. And you can see forever.', \"Find the good. It's all around you. Find it, showcase it and you'll start believing in it.\", 'Happiness in marriage is entirely a matter of chance.', 'The difference between a mountain and a molehill is your perspective.', 'It is best to act with confidence, no matter how little right you have to it.', \"People usually consider walking on water or in thin air a miracle. But I think the real miracle is not to walk either on water or in thin air, but to walk on earth. Every day we are engaged in a miracle which we don't even recognize: a blue sky, white clouds, green leaves, the black, curious eyes of a child -- our own two eyes. All is a miracle.\", 'Freedom means the opportunity to be what we never thought we would be.', 'For it was not into my ear you whispered, but into my heart. It was not my lips you kissed, but my soul.', 'I will love the light for it shows me the way, yet I will endure the darkness because it shows me the stars.', \"If you run, you are a runner. It doesn't matter how fast or how far. It doesn't matter if today is your first day or if you've been running for twenty years. There is no test to pass, no license to earn, no membership card to get. You just run.\", \"The world is a dangerous place to live; not because of the people who are evil, but because of the people who don't do anything about it.\", 'The deepest principle in human nature is the craving to be appreciated.', \"About all you can do in life is be who you are. Some people will love you for you. Most will love you for what you can do for them, and some won't like you at all.\", 'To find out what one is fitted to do, and to secure an opportunity to do it, is the key to happiness.', 'Forgiveness says you are given another chance to make a new beginning.', 'What is success? I think it is a mixture of having a flair for the thing that you are doing; knowing that it is not enough, that you have got to have hard work and a certain sense of purpose.', 'The past has no power over the present moment.', \"Do not let your fire go out, spark by irreplaceable spark in the hopeless swamps of the not-quite, the not-yet, and the not-at-all. Do not let the hero in your soul perish in lonely frustration for the life you deserved and have never been able to reach. The world you desire can be won. It exists.. it is real.. it is possible.. it's yours.\", 'No person was ever honored for what he received. Honor has been the reward for what he gave.', 'Love yourself-accept yourself-forgive yourself-and be good to yourself, because without you the rest of us are without a source of many wonderful things.', 'Wherever you are, and whatever you do, be in love.', 'Whenever you find yourself on the side of the majority, it is time to pause and reflect.', 'And those who were seen dancing were thought to be insane by those who could not hear the music.', \"I love things that age well - things that don't date, that stand the test of time and that become living examples of the absolute best.\", 'Better be wise by the misfortunes of others than by your own.', 'The person, be it gentleman or lady, who has not pleasure in a good novel, must be intolerably stupid.', \"The opposite of love is not hate, it's indifference. The opposite of art is not ugliness, it's indifference. The opposite of faith is not heresy, it's indifference. And the opposite of life is not death, it's indifference.\", 'Curiosity is one of the most permanent and certain characteristics of a vigorous intellect.', 'Leaders must be close enough to relate to others, but far enough ahead to motivate them.', 'Regret for the things we did can be tempered by time; it is regret for the things we did not do that is inconsolable.', 'America... just a nation of two hundred million used car salesmen with all the money we need to buy guns and no qualms about killing anybody else in the world who tries to make us uncomfortable.', 'For every disciplined effort there is a multiple reward.', \"The spiritual journey is individual, highly personal. It can't be organized or regulated. It isn't true that everyone should follow one path. Listen to your own truth.\", 'The mind is not a vessel to be filled but a fire to be kindled.', 'Courage is the price that life exacts for granting peace.', 'The worst evils which mankind has ever had to endure were inflicted by bad governments.', 'The moment we begin to fear the opinions of others and hesitate to tell the truth that is in us, and from motives of policy are silent when we should speak, the divine floods of light and life no longer flow into our souls.', 'Trust yourself, you know more than you think you do.', 'Some people want it to happen, some wish it would happen, others make it happen.', 'High achievement always takes place in the framework of high expectation.', 'The body is your temple. Keep it pure and clean for the soul to reside in.', 'Be like a duck. Calm on the surface, but always paddling like the dickens underneath.', 'Tears shed for self are tears of weakness, but tears shed for others are a sign of strength.', 'Success is neither magical nor mysterious. Success is the natural consequence of consistently applying the basic fundamentals.', 'It is wise to direct your anger towards problems - not people; to focus your energies on answers - not excuses.', 'If we did all the things we are capable of doing, we would literally astound ourselves.', 'Love is our true destiny. We do not find the meaning of life by ourselves alone - we find it with another.', 'I ask, sir, what is the militia? It is the whole people except for a few public officials.', \"As long as there's pasta and Chinese food in the world, I'm okay.\", 'The few who do are the envy of the many who only watch.', \"Don't brood. Get on with living and loving. You don't have forever.\", \"Tricks and treachery are the practice of fools, that don't have brains enough to be honest.\", 'The Marines have landed and the situation is well in hand.', \"Life is one big road with lots of signs,\\nSo when you riding through the ruts,\\nDon't you complicate your mind\\nFlee from hate, mischief and jealousy\\nDon't bury your thoughts; put your vision to reality.\", 'There is always some madness in love. But there is also always some reason in madness.', 'For peace of mind, we need to resign as general manager of the universe.', 'I am free, no matter what rules surround me. If I find them tolerable, I tolerate them; if I find them too obnoxious, I break them. I am free because I know that I alone am morally responsible for everything I do.', 'Only put off until tomorrow what you are willing to die having left undone.', 'The will to win, the desire to succeed, the urge to reach your full potential... these are the keys that will unlock the door to personal excellence.', 'Difficulties are meant to rouse, not discourage. The human spirit is to grow strong by conflict.', \"It's very hard in the beginning to understand that the whole idea is not to beat the other runners. Eventually you learn that the competition is against the little voice inside you that wants you to quit.\", 'A well-developed sense of humor is the pole that adds balance to your steps as you walk the tightrope of life.', 'We relish news of our heroes, forgetting that we are extraordinary to somebody too.', 'It takes less time to do a thing right, than it does to explain why you did it wrong.', \"It isn't the mountain ahead that wears you out; it's the grain of sand in your shoe.\", 'Empty your mind, be formless. Shapeless, like water. If you put water into a cup, it becomes the cup. You put water into a bottle and it becomes the bottle. You put it in a teapot it becomes the teapot. Now, water can flow or it can crash. Be water, my friend.', 'The longer we dwell on our misfortunes, the greater is their power to harm us', \"Sometimes I've believed as many as six impossible things before breakfast.\", 'Do not fear mistakes. There are none.', 'Expose yourself to your deepest fear; after that, fear has no power, and the fear of freedom shrinks and vanishes. You are free.', 'Anger is an acid that can do more harm to the vessel in which it is stored than to anything on which it is poured.', 'Failure is success if we learn from it.', 'You are here to enable the divine purpose of the Universe to unfold. That is how important you are!', 'People like us, who believe in physics, know that the distinction between past, present, and future is only a stubbornly persistent illusion.', 'I still need Marines who can shoot and salute. But I need Marines who can fix jet engines and man sophisticated radar sets, as well.', \"You can't expect to hit the jackpot if you don't put a few nickels in the machine.\", 'One of the penalties for refusing to participate in politics is that you end up being governed by your inferiors.', 'It is what we know already that often prevents us from learning.', 'The only limit to our realization of tomorrow will be our doubts of today.', \"I've learned that making a 'living' is not the same thing as 'making a life'.\", 'Every time you smile at someone, it is an action of love, a gift to that person, a beautiful thing.', 'The spirit, the will to win, and the will to excel are the things that endure. These qualities are so much more important than the events that occur.', 'When I started counting my blessings, my whole life turned around.', 'Ninety-nine percent of the failures come from people who have the habit of making excuses.', 'Everything comes to us that belongs to us if we create the capacity to receive it.', \"What doesn't kill you makes you smaller\", 'The difficulties you meet will resolve themselves as you advance. Proceed, and light will dawn, and shine with increasing clearness on your path.', \"It's not what's happening to you now or what has happened in your past that determines who you become. Rather, it's your decisions about what to focus on, what things mean to you, and what you're going to do about them that will determine your ultimate destiny.\", 'Live your life and forget your age.', 'We may not be able to prepare the future for our children, but we can at least prepare our children for the future.', 'Men occasionally stumble over the truth, but most of them pick themselves up and hurry off as if nothing had happened.', \"That's been one of my mantras - focus and simplicity. Simple can be harder than complex: You have to work hard to get your thinking clean to make it simple. But it's worth it in the end because once you get there, you can move mountains.\", 'The trouble with most of us is that we would rather be ruined by praise than saved by criticism.', 'The smallest deed is better than the greatest intention.', \"Only two things are infinite, the universe and human stupidity, and I'm not sure about the former.\", 'A nation of sheep will beget a government of wolves.', \"Nothing else can quite substitute for a few well-chosen,\\nwell-timed, sincere words of praise.\\nThey're absolutely free and worth a fortune\", \"There is nothing in a caterpillar that tells you it's going to be a butterfly.\", \"A charming woman... doesn't follow the crowd. She is herself.\", \"You don't understand anything until you learn it more than one way.\", 'Doubt yourself and you doubt everything you see. Judge yourself and you see judges everywhere. But if you listen to the sound of your own voice, you can rise above doubt and judgment. And you can see forever.', \"Find the good. It's all around you. Find it, showcase it and you'll start believing in it.\", 'Happiness in marriage is entirely a matter of chance.', 'The difference between a mountain and a molehill is your perspective.', 'It is best to act with confidence, no matter how little right you have to it.', \"People usually consider walking on water or in thin air a miracle. But I think the real miracle is not to walk either on water or in thin air, but to walk on earth. Every day we are engaged in a miracle which we don't even recognize: a blue sky, white clouds, green leaves, the black, curious eyes of a child -- our own two eyes. All is a miracle.\", 'Freedom means the opportunity to be what we never thought we would be.', 'For it was not into my ear you whispered, but into my heart. It was not my lips you kissed, but my soul.', 'I will love the light for it shows me the way, yet I will endure the darkness because it shows me the stars.', \"If you run, you are a runner. It doesn't matter how fast or how far. It doesn't matter if today is your first day or if you've been running for twenty years. There is no test to pass, no license to earn, no membership card to get. You just run.\", \"The world is a dangerous place to live; not because of the people who are evil, but because of the people who don't do anything about it.\", 'The deepest principle in human nature is the craving to be appreciated.', \"About all you can do in life is be who you are. Some people will love you for you. Most will love you for what you can do for them, and some won't like you at all.\", 'To find out what one is fitted to do, and to secure an opportunity to do it, is the key to happiness.', 'Forgiveness says you are given another chance to make a new beginning.', 'What is success? I think it is a mixture of having a flair for the thing that you are doing; knowing that it is not enough, that you have got to have hard work and a certain sense of purpose.', 'The past has no power over the present moment.', \"Do not let your fire go out, spark by irreplaceable spark in the hopeless swamps of the not-quite, the not-yet, and the not-at-all. Do not let the hero in your soul perish in lonely frustration for the life you deserved and have never been able to reach. The world you desire can be won. It exists.. it is real.. it is possible.. it's yours.\", 'No person was ever honored for what he received. Honor has been the reward for what he gave.', 'Love yourself-accept yourself-forgive yourself-and be good to yourself, because without you the rest of us are without a source of many wonderful things.', 'Wherever you are, and whatever you do, be in love.', 'Whenever you find yourself on the side of the majority, it is time to pause and reflect.', 'And those who were seen dancing were thought to be insane by those who could not hear the music.', \"I love things that age well - things that don't date, that stand the test of time and that become living examples of the absolute best.\", 'Better be wise by the misfortunes of others than by your own.', 'The person, be it gentleman or lady, who has not pleasure in a good novel, must be intolerably stupid.', \"The opposite of love is not hate, it's indifference. The opposite of art is not ugliness, it's indifference. The opposite of faith is not heresy, it's indifference. And the opposite of life is not death, it's indifference.\", 'Curiosity is one of the most permanent and certain characteristics of a vigorous intellect.', 'Leaders must be close enough to relate to others, but far enough ahead to motivate them.', 'Regret for the things we did can be tempered by time; it is regret for the things we did not do that is inconsolable.', 'America... just a nation of two hundred million used car salesmen with all the money we need to buy guns and no qualms about killing anybody else in the world who tries to make us uncomfortable.', 'For every disciplined effort there is a multiple reward.', \"The spiritual journey is individual, highly personal. It can't be organized or regulated. It isn't true that everyone should follow one path. Listen to your own truth.\", 'The mind is not a vessel to be filled but a fire to be kindled.', 'Courage is the price that life exacts for granting peace.', 'The worst evils which mankind has ever had to endure were inflicted by bad governments.', 'The moment we begin to fear the opinions of others and hesitate to tell the truth that is in us, and from motives of policy are silent when we should speak, the divine floods of light and life no longer flow into our souls.', 'Trust yourself, you know more than you think you do.', 'Some people want it to happen, some wish it would happen, others make it happen.', 'High achievement always takes place in the framework of high expectation.', 'The body is your temple. Keep it pure and clean for the soul to reside in.', 'Be like a duck. Calm on the surface, but always paddling like the dickens underneath.', 'Tears shed for self are tears of weakness, but tears shed for others are a sign of strength.', 'Success is neither magical nor mysterious. Success is the natural consequence of consistently applying the basic fundamentals.', 'It is wise to direct your anger towards problems - not people; to focus your energies on answers - not excuses.', 'If we did all the things we are capable of doing, we would literally astound ourselves.', 'Love is our true destiny. We do not find the meaning of life by ourselves alone - we find it with another.', 'I ask, sir, what is the militia? It is the whole people except for a few public officials.', \"As long as there's pasta and Chinese food in the world, I'm okay.\", 'The few who do are the envy of the many who only watch.', \"Don't brood. Get on with living and loving. You don't have forever.\", \"Tricks and treachery are the practice of fools, that don't have brains enough to be honest.\", 'The Marines have landed and the situation is well in hand.', \"Life is one big road with lots of signs,\\nSo when you riding through the ruts,\\nDon't you complicate your mind\\nFlee from hate, mischief and jealousy\\nDon't bury your thoughts; put your vision to reality.\", 'There is always some madness in love. But there is also always some reason in madness.', 'For peace of mind, we need to resign as general manager of the universe.', 'I am free, no matter what rules surround me. If I find them tolerable, I tolerate them; if I find them too obnoxious, I break them. I am free because I know that I alone am morally responsible for everything I do.', 'Only put off until tomorrow what you are willing to die having left undone.', 'The will to win, the desire to succeed, the urge to reach your full potential... these are the keys that will unlock the door to personal excellence.', 'Difficulties are meant to rouse, not discourage. The human spirit is to grow strong by conflict.', \"It's very hard in the beginning to understand that the whole idea is not to beat the other runners. Eventually you learn that the competition is against the little voice inside you that wants you to quit.\", 'A well-developed sense of humor is the pole that adds balance to your steps as you walk the tightrope of life.', 'We relish news of our heroes, forgetting that we are extraordinary to somebody too.', 'It takes less time to do a thing right, than it does to explain why you did it wrong.', \"It isn't the mountain ahead that wears you out; it's the grain of sand in your shoe.\", 'Empty your mind, be formless. Shapeless, like water. If you put water into a cup, it becomes the cup. You put water into a bottle and it becomes the bottle. You put it in a teapot it becomes the teapot. Now, water can flow or it can crash. Be water, my friend.', 'The longer we dwell on our misfortunes, the greater is their power to harm us', \"Sometimes I've believed as many as six impossible things before breakfast.\", 'Do not fear mistakes. There are none.', 'Expose yourself to your deepest fear; after that, fear has no power, and the fear of freedom shrinks and vanishes. You are free.', 'Anger is an acid that can do more harm to the vessel in which it is stored than to anything on which it is poured.', 'Failure is success if we learn from it.', 'You are here to enable the divine purpose of the Universe to unfold. That is how important you are!', 'People like us, who believe in physics, know that the distinction between past, present, and future is only a stubbornly persistent illusion.', 'I still need Marines who can shoot and salute. But I need Marines who can fix jet engines and man sophisticated radar sets, as well.', \"You can't expect to hit the jackpot if you don't put a few nickels in the machine.\", 'One of the penalties for refusing to participate in politics is that you end up being governed by your inferiors.', 'It is what we know already that often prevents us from learning.', 'The only limit to our realization of tomorrow will be our doubts of today.', \"I've learned that making a 'living' is not the same thing as 'making a life'.\", 'Every time you smile at someone, it is an action of love, a gift to that person, a beautiful thing.', 'The spirit, the will to win, and the will to excel are the things that endure. These qualities are so much more important than the events that occur.', 'When I started counting my blessings, my whole life turned around.', 'Ninety-nine percent of the failures come from people who have the habit of making excuses.', 'Everything comes to us that belongs to us if we create the capacity to receive it.', \"What doesn't kill you makes you smaller\", 'The difficulties you meet will resolve themselves as you advance. Proceed, and light will dawn, and shine with increasing clearness on your path.', \"It's not what's happening to you now or what has happened in your past that determines who you become. Rather, it's your decisions about what to focus on, what things mean to you, and what you're going to do about them that will determine your ultimate destiny.\", 'Live your life and forget your age.', 'We may not be able to prepare the future for our children, but we can at least prepare our children for the future.', 'Men occasionally stumble over the truth, but most of them pick themselves up and hurry off as if nothing had happened.', \"That's been one of my mantras - focus and simplicity. Simple can be harder than complex: You have to work hard to get your thinking clean to make it simple. But it's worth it in the end because once you get there, you can move mountains.\", 'The trouble with most of us is that we would rather be ruined by praise than saved by criticism.', 'The smallest deed is better than the greatest intention.', \"Only two things are infinite, the universe and human stupidity, and I'm not sure about the former.\", 'A nation of sheep will beget a government of wolves.', \"Nothing else can quite substitute for a few well-chosen,\\nwell-timed, sincere words of praise.\\nThey're absolutely free and worth a fortune\", \"There is nothing in a caterpillar that tells you it's going to be a butterfly.\", \"A charming woman... doesn't follow the crowd. She is herself.\", \"You don't understand anything until you learn it more than one way.\", 'Doubt yourself and you doubt everything you see. Judge yourself and you see judges everywhere. But if you listen to the sound of your own voice, you can rise above doubt and judgment. And you can see forever.', \"Find the good. It's all around you. Find it, showcase it and you'll start believing in it.\", 'Happiness in marriage is entirely a matter of chance.', 'The difference between a mountain and a molehill is your perspective.', 'It is best to act with confidence, no matter how little right you have to it.', \"People usually consider walking on water or in thin air a miracle. But I think the real miracle is not to walk either on water or in thin air, but to walk on earth. Every day we are engaged in a miracle which we don't even recognize: a blue sky, white clouds, green leaves, the black, curious eyes of a child -- our own two eyes. All is a miracle.\", 'Freedom means the opportunity to be what we never thought we would be.', 'For it was not into my ear you whispered, but into my heart. It was not my lips you kissed, but my soul.', 'I will love the light for it shows me the way, yet I will endure the darkness because it shows me the stars.', \"If you run, you are a runner. It doesn't matter how fast or how far. It doesn't matter if today is your first day or if you've been running for twenty years. There is no test to pass, no license to earn, no membership card to get. You just run.\", \"The world is a dangerous place to live; not because of the people who are evil, but because of the people who don't do anything about it.\", 'The deepest principle in human nature is the craving to be appreciated.', \"About all you can do in life is be who you are. Some people will love you for you. Most will love you for what you can do for them, and some won't like you at all.\", 'To find out what one is fitted to do, and to secure an opportunity to do it, is the key to happiness.', 'Forgiveness says you are given another chance to make a new beginning.', 'What is success? I think it is a mixture of having a flair for the thing that you are doing; knowing that it is not enough, that you have got to have hard work and a certain sense of purpose.', 'The past has no power over the present moment.', \"Do not let your fire go out, spark by irreplaceable spark in the hopeless swamps of the not-quite, the not-yet, and the not-at-all. Do not let the hero in your soul perish in lonely frustration for the life you deserved and have never been able to reach. The world you desire can be won. It exists.. it is real.. it is possible.. it's yours.\", 'No person was ever honored for what he received. Honor has been the reward for what he gave.', 'Love yourself-accept yourself-forgive yourself-and be good to yourself, because without you the rest of us are without a source of many wonderful things.', 'Wherever you are, and whatever you do, be in love.', 'Whenever you find yourself on the side of the majority, it is time to pause and reflect.', 'And those who were seen dancing were thought to be insane by those who could not hear the music.', \"I love things that age well - things that don't date, that stand the test of time and that become living examples of the absolute best.\", 'Better be wise by the misfortunes of others than by your own.', 'The person, be it gentleman or lady, who has not pleasure in a good novel, must be intolerably stupid.', \"The opposite of love is not hate, it's indifference. The opposite of art is not ugliness, it's indifference. The opposite of faith is not heresy, it's indifference. And the opposite of life is not death, it's indifference.\", 'Curiosity is one of the most permanent and certain characteristics of a vigorous intellect.', 'Leaders must be close enough to relate to others, but far enough ahead to motivate them.', 'Regret for the things we did can be tempered by time; it is regret for the things we did not do that is inconsolable.', 'America... just a nation of two hundred million used car salesmen with all the money we need to buy guns and no qualms about killing anybody else in the world who tries to make us uncomfortable.', 'For every disciplined effort there is a multiple reward.', \"The spiritual journey is individual, highly personal. It can't be organized or regulated. It isn't true that everyone should follow one path. Listen to your own truth.\", 'The mind is not a vessel to be filled but a fire to be kindled.']\n"
     ]
    }
   ],
   "source": [
    "start = 0\n",
    "end = 7\n",
    "for page in range(start, end):\n",
    "    quotes = driver_5.find_elements(By.XPATH, '//a[@class=\"title\"]')\n",
    "    for quote in quotes:\n",
    "        QuotE.append(quote.text)\n",
    "    \n",
    "    \n",
    "    try:\n",
    "        next_button_5 = driver_5.find_element(By.XPATH, '/html/body/div[1]/div[2]/div/div/div/div[1]/div/div[3]/li[12]/a')\n",
    "        next_button_5.click()\n",
    "        time.sleep(3)\n",
    "    except NoSuchElementException:\n",
    "        break  \n",
    "print(QuotE)"
   ]
  },
  {
   "cell_type": "code",
   "execution_count": 21,
   "id": "f24b1dba",
   "metadata": {},
   "outputs": [],
   "source": [
    "AuthoR =[]"
   ]
  },
  {
   "cell_type": "code",
   "execution_count": 22,
   "id": "bc0c59c7",
   "metadata": {},
   "outputs": [
    {
     "name": "stdout",
     "output_type": "stream",
     "text": [
      "['Amelia Earhart', 'Ludwig von Mises', 'Elizabeth Cady Stanton', 'Benjamin Spock', 'Michael Jordan', 'Charles Kettering', 'B.K.S. Iyengar', 'Michael Caine', 'Billy Graham', 'Jim Rohn', 'William Arthur Ward', 'Thomas A. Edison', 'Thomas Merton', 'George Mason', 'Michael Chang', 'Jim Rohn', 'Leo Buscaglia', 'Benjamin Franklin', 'Richard Harding Davis', 'Bob Marley', 'Friedrich Nietzsche', 'Larry Eisenberg', 'Robert A. Heinlein', 'Pablo Picasso', 'Confucius', 'William Ellery Channing', 'George A. Sheehan', 'William Arthur Ward', 'Helen Hayes', 'Henry Wadsworth Longfellow', 'Robert W. Service', 'Bruce Lee', 'Voltaire', 'Lewis Carroll', 'Miles Davis', 'Jim Morrison', 'Mark Twain', 'Malcolm Forbes', 'Eckhart Tolle', 'Albert Einstein', 'Robert E. Cushman, Jr.', 'Flip Wilson', 'Plato', 'Claude Bernard', 'Franklin D. Roosevelt', 'Maya Angelou', 'Mother Teresa', 'Vince Lombardi', 'Willie Nelson', 'George Washington Carver', 'Rabindranath Tagore', 'Mario', 'Jim Rohn', 'Tony Robbins', 'Norman Vincent Peale', 'Franklin D. Roosevelt', 'Winston Churchill', 'Steve Jobs', 'Norman Vincent Peale', 'John Burroughs', 'Albert Einstein', 'Edward R. Murrow', 'Sam Walton', 'R. Buckminster Fuller', 'Loretta Young', 'Marvin Minsky', 'Nancy Lopez', 'Jesse Owens', 'Jane Austen', 'Al Neuharth', 'Lillian Hellman', 'Nhat Hanh', 'Daniel J. Boorstin', 'Judy Garland', 'Og Mandino', 'John Bingham', 'Albert Einstein', 'William James', 'Rita Mae Brown', 'John Dewey', 'Desmond Tutu', 'Margaret Thatcher', 'Eckhart Tolle', 'Ayn Rand', 'Calvin Coolidge', 'Leo Buscaglia', 'Rumi', 'Mark Twain', 'Friedrich Nietzsche', 'Giorgio Armani', 'Aesop', 'Jane Austen', 'Elie Wiesel', 'Samuel Johnson', 'John C. Maxwell', 'Sydney J. Harris', 'Hunter S. Thompson', 'Jim Rohn', 'Ram Dass', 'Plutarch', 'Amelia Earhart', 'Ludwig von Mises', 'Elizabeth Cady Stanton', 'Benjamin Spock', 'Michael Jordan', 'Charles Kettering', 'B.K.S. Iyengar', 'Michael Caine', 'Billy Graham', 'Jim Rohn', 'William Arthur Ward', 'Thomas A. Edison', 'Thomas Merton', 'George Mason', 'Michael Chang', 'Jim Rohn', 'Leo Buscaglia', 'Benjamin Franklin', 'Richard Harding Davis', 'Bob Marley', 'Friedrich Nietzsche', 'Larry Eisenberg', 'Robert A. Heinlein', 'Pablo Picasso', 'Confucius', 'William Ellery Channing', 'George A. Sheehan', 'William Arthur Ward', 'Helen Hayes', 'Henry Wadsworth Longfellow', 'Robert W. Service', 'Bruce Lee', 'Voltaire', 'Lewis Carroll', 'Miles Davis', 'Jim Morrison', 'Mark Twain', 'Malcolm Forbes', 'Eckhart Tolle', 'Albert Einstein', 'Robert E. Cushman, Jr.', 'Flip Wilson', 'Plato', 'Claude Bernard', 'Franklin D. Roosevelt', 'Maya Angelou', 'Mother Teresa', 'Vince Lombardi', 'Willie Nelson', 'George Washington Carver', 'Rabindranath Tagore', 'Mario', 'Jim Rohn', 'Tony Robbins', 'Norman Vincent Peale', 'Franklin D. Roosevelt', 'Winston Churchill', 'Steve Jobs', 'Norman Vincent Peale', 'John Burroughs', 'Albert Einstein', 'Edward R. Murrow', 'Sam Walton', 'R. Buckminster Fuller', 'Loretta Young', 'Marvin Minsky', 'Nancy Lopez', 'Jesse Owens', 'Jane Austen', 'Al Neuharth', 'Lillian Hellman', 'Nhat Hanh', 'Daniel J. Boorstin', 'Judy Garland', 'Og Mandino', 'John Bingham', 'Albert Einstein', 'William James', 'Rita Mae Brown', 'John Dewey', 'Desmond Tutu', 'Margaret Thatcher', 'Eckhart Tolle', 'Ayn Rand', 'Calvin Coolidge', 'Leo Buscaglia', 'Rumi', 'Mark Twain', 'Friedrich Nietzsche', 'Giorgio Armani', 'Aesop', 'Jane Austen', 'Elie Wiesel', 'Samuel Johnson', 'John C. Maxwell', 'Sydney J. Harris', 'Hunter S. Thompson', 'Jim Rohn', 'Ram Dass', 'Plutarch', 'Amelia Earhart', 'Ludwig von Mises', 'Elizabeth Cady Stanton', 'Benjamin Spock', 'Michael Jordan', 'Charles Kettering', 'B.K.S. Iyengar', 'Michael Caine', 'Billy Graham', 'Jim Rohn', 'William Arthur Ward', 'Thomas A. Edison', 'Thomas Merton', 'George Mason', 'Michael Chang', 'Jim Rohn', 'Leo Buscaglia', 'Benjamin Franklin', 'Richard Harding Davis', 'Bob Marley', 'Friedrich Nietzsche', 'Larry Eisenberg', 'Robert A. Heinlein', 'Pablo Picasso', 'Confucius', 'William Ellery Channing', 'George A. Sheehan', 'William Arthur Ward', 'Helen Hayes', 'Henry Wadsworth Longfellow', 'Robert W. Service', 'Bruce Lee', 'Voltaire', 'Lewis Carroll', 'Miles Davis', 'Jim Morrison', 'Mark Twain', 'Malcolm Forbes', 'Eckhart Tolle', 'Albert Einstein', 'Robert E. Cushman, Jr.', 'Flip Wilson', 'Plato', 'Claude Bernard', 'Franklin D. Roosevelt', 'Maya Angelou', 'Mother Teresa', 'Vince Lombardi', 'Willie Nelson', 'George Washington Carver', 'Rabindranath Tagore', 'Mario', 'Jim Rohn', 'Tony Robbins', 'Norman Vincent Peale', 'Franklin D. Roosevelt', 'Winston Churchill', 'Steve Jobs', 'Norman Vincent Peale', 'John Burroughs', 'Albert Einstein', 'Edward R. Murrow', 'Sam Walton', 'R. Buckminster Fuller', 'Loretta Young', 'Marvin Minsky', 'Nancy Lopez', 'Jesse Owens', 'Jane Austen', 'Al Neuharth', 'Lillian Hellman', 'Nhat Hanh', 'Daniel J. Boorstin', 'Judy Garland', 'Og Mandino', 'John Bingham', 'Albert Einstein', 'William James', 'Rita Mae Brown', 'John Dewey', 'Desmond Tutu', 'Margaret Thatcher', 'Eckhart Tolle', 'Ayn Rand', 'Calvin Coolidge', 'Leo Buscaglia', 'Rumi', 'Mark Twain', 'Friedrich Nietzsche', 'Giorgio Armani', 'Aesop', 'Jane Austen', 'Elie Wiesel', 'Samuel Johnson', 'John C. Maxwell', 'Sydney J. Harris', 'Hunter S. Thompson', 'Jim Rohn', 'Ram Dass', 'Plutarch', 'Amelia Earhart', 'Ludwig von Mises', 'Elizabeth Cady Stanton', 'Benjamin Spock', 'Michael Jordan', 'Charles Kettering', 'B.K.S. Iyengar', 'Michael Caine', 'Billy Graham', 'Jim Rohn', 'William Arthur Ward', 'Thomas A. Edison', 'Thomas Merton', 'George Mason', 'Michael Chang', 'Jim Rohn', 'Leo Buscaglia', 'Benjamin Franklin', 'Richard Harding Davis', 'Bob Marley', 'Friedrich Nietzsche', 'Larry Eisenberg', 'Robert A. Heinlein', 'Pablo Picasso', 'Confucius', 'William Ellery Channing', 'George A. Sheehan', 'William Arthur Ward', 'Helen Hayes', 'Henry Wadsworth Longfellow', 'Robert W. Service', 'Bruce Lee', 'Voltaire', 'Lewis Carroll', 'Miles Davis', 'Jim Morrison', 'Mark Twain', 'Malcolm Forbes', 'Eckhart Tolle', 'Albert Einstein', 'Robert E. Cushman, Jr.', 'Flip Wilson', 'Plato', 'Claude Bernard', 'Franklin D. Roosevelt', 'Maya Angelou', 'Mother Teresa', 'Vince Lombardi', 'Willie Nelson', 'George Washington Carver', 'Rabindranath Tagore', 'Mario', 'Jim Rohn', 'Tony Robbins', 'Norman Vincent Peale', 'Franklin D. Roosevelt', 'Winston Churchill', 'Steve Jobs', 'Norman Vincent Peale', 'John Burroughs', 'Albert Einstein', 'Edward R. Murrow', 'Sam Walton', 'R. Buckminster Fuller', 'Loretta Young', 'Marvin Minsky', 'Nancy Lopez', 'Jesse Owens', 'Jane Austen', 'Al Neuharth', 'Lillian Hellman', 'Nhat Hanh', 'Daniel J. Boorstin', 'Judy Garland', 'Og Mandino', 'John Bingham', 'Albert Einstein', 'William James', 'Rita Mae Brown', 'John Dewey', 'Desmond Tutu', 'Margaret Thatcher', 'Eckhart Tolle', 'Ayn Rand', 'Calvin Coolidge', 'Leo Buscaglia', 'Rumi', 'Mark Twain', 'Friedrich Nietzsche', 'Giorgio Armani', 'Aesop', 'Jane Austen', 'Elie Wiesel', 'Samuel Johnson', 'John C. Maxwell', 'Sydney J. Harris', 'Hunter S. Thompson', 'Jim Rohn', 'Ram Dass', 'Plutarch', 'Amelia Earhart', 'Ludwig von Mises', 'Elizabeth Cady Stanton', 'Benjamin Spock', 'Michael Jordan', 'Charles Kettering', 'B.K.S. Iyengar', 'Michael Caine', 'Billy Graham', 'Jim Rohn', 'William Arthur Ward', 'Thomas A. Edison', 'Thomas Merton', 'George Mason', 'Michael Chang', 'Jim Rohn', 'Leo Buscaglia', 'Benjamin Franklin', 'Richard Harding Davis', 'Bob Marley', 'Friedrich Nietzsche', 'Larry Eisenberg', 'Robert A. Heinlein', 'Pablo Picasso', 'Confucius', 'William Ellery Channing', 'George A. Sheehan', 'William Arthur Ward', 'Helen Hayes', 'Henry Wadsworth Longfellow', 'Robert W. Service', 'Bruce Lee', 'Voltaire', 'Lewis Carroll', 'Miles Davis', 'Jim Morrison', 'Mark Twain', 'Malcolm Forbes', 'Eckhart Tolle', 'Albert Einstein', 'Robert E. Cushman, Jr.', 'Flip Wilson', 'Plato', 'Claude Bernard', 'Franklin D. Roosevelt', 'Maya Angelou', 'Mother Teresa', 'Vince Lombardi', 'Willie Nelson', 'George Washington Carver', 'Rabindranath Tagore', 'Mario', 'Jim Rohn', 'Tony Robbins', 'Norman Vincent Peale', 'Franklin D. Roosevelt', 'Winston Churchill', 'Steve Jobs', 'Norman Vincent Peale', 'John Burroughs', 'Albert Einstein', 'Edward R. Murrow', 'Sam Walton', 'R. Buckminster Fuller', 'Loretta Young', 'Marvin Minsky', 'Nancy Lopez', 'Jesse Owens', 'Jane Austen', 'Al Neuharth', 'Lillian Hellman', 'Nhat Hanh', 'Daniel J. Boorstin', 'Judy Garland', 'Og Mandino', 'John Bingham', 'Albert Einstein', 'William James', 'Rita Mae Brown', 'John Dewey', 'Desmond Tutu', 'Margaret Thatcher', 'Eckhart Tolle', 'Ayn Rand', 'Calvin Coolidge', 'Leo Buscaglia', 'Rumi', 'Mark Twain', 'Friedrich Nietzsche', 'Giorgio Armani', 'Aesop', 'Jane Austen', 'Elie Wiesel', 'Samuel Johnson', 'John C. Maxwell', 'Sydney J. Harris', 'Hunter S. Thompson', 'Jim Rohn', 'Ram Dass', 'Plutarch', 'Amelia Earhart', 'Ludwig von Mises', 'Elizabeth Cady Stanton', 'Benjamin Spock', 'Michael Jordan', 'Charles Kettering', 'B.K.S. Iyengar', 'Michael Caine', 'Billy Graham', 'Jim Rohn', 'William Arthur Ward', 'Thomas A. Edison', 'Thomas Merton', 'George Mason', 'Michael Chang', 'Jim Rohn', 'Leo Buscaglia', 'Benjamin Franklin', 'Richard Harding Davis', 'Bob Marley', 'Friedrich Nietzsche', 'Larry Eisenberg', 'Robert A. Heinlein', 'Pablo Picasso', 'Confucius', 'William Ellery Channing', 'George A. Sheehan', 'William Arthur Ward', 'Helen Hayes', 'Henry Wadsworth Longfellow', 'Robert W. Service', 'Bruce Lee', 'Voltaire', 'Lewis Carroll', 'Miles Davis', 'Jim Morrison', 'Mark Twain', 'Malcolm Forbes', 'Eckhart Tolle', 'Albert Einstein', 'Robert E. Cushman, Jr.', 'Flip Wilson', 'Plato', 'Claude Bernard', 'Franklin D. Roosevelt', 'Maya Angelou', 'Mother Teresa', 'Vince Lombardi', 'Willie Nelson', 'George Washington Carver', 'Rabindranath Tagore', 'Mario', 'Jim Rohn', 'Tony Robbins', 'Norman Vincent Peale', 'Franklin D. Roosevelt', 'Winston Churchill', 'Steve Jobs', 'Norman Vincent Peale', 'John Burroughs', 'Albert Einstein', 'Edward R. Murrow', 'Sam Walton', 'R. Buckminster Fuller', 'Loretta Young', 'Marvin Minsky', 'Nancy Lopez', 'Jesse Owens', 'Jane Austen', 'Al Neuharth', 'Lillian Hellman', 'Nhat Hanh', 'Daniel J. Boorstin', 'Judy Garland', 'Og Mandino', 'John Bingham', 'Albert Einstein', 'William James', 'Rita Mae Brown', 'John Dewey', 'Desmond Tutu', 'Margaret Thatcher', 'Eckhart Tolle', 'Ayn Rand', 'Calvin Coolidge', 'Leo Buscaglia', 'Rumi', 'Mark Twain', 'Friedrich Nietzsche', 'Giorgio Armani', 'Aesop', 'Jane Austen', 'Elie Wiesel', 'Samuel Johnson', 'John C. Maxwell', 'Sydney J. Harris', 'Hunter S. Thompson', 'Jim Rohn', 'Ram Dass', 'Plutarch', 'Amelia Earhart', 'Ludwig von Mises', 'Elizabeth Cady Stanton', 'Benjamin Spock', 'Michael Jordan', 'Charles Kettering', 'B.K.S. Iyengar', 'Michael Caine', 'Billy Graham', 'Jim Rohn', 'William Arthur Ward', 'Thomas A. Edison', 'Thomas Merton', 'George Mason', 'Michael Chang', 'Jim Rohn', 'Leo Buscaglia', 'Benjamin Franklin', 'Richard Harding Davis', 'Bob Marley', 'Friedrich Nietzsche', 'Larry Eisenberg', 'Robert A. Heinlein', 'Pablo Picasso', 'Confucius', 'William Ellery Channing', 'George A. Sheehan', 'William Arthur Ward', 'Helen Hayes', 'Henry Wadsworth Longfellow', 'Robert W. Service', 'Bruce Lee', 'Voltaire', 'Lewis Carroll', 'Miles Davis', 'Jim Morrison', 'Mark Twain', 'Malcolm Forbes', 'Eckhart Tolle', 'Albert Einstein', 'Robert E. Cushman, Jr.', 'Flip Wilson', 'Plato', 'Claude Bernard', 'Franklin D. Roosevelt', 'Maya Angelou', 'Mother Teresa', 'Vince Lombardi', 'Willie Nelson', 'George Washington Carver', 'Rabindranath Tagore', 'Mario', 'Jim Rohn', 'Tony Robbins', 'Norman Vincent Peale', 'Franklin D. Roosevelt', 'Winston Churchill', 'Steve Jobs', 'Norman Vincent Peale', 'John Burroughs', 'Albert Einstein', 'Edward R. Murrow', 'Sam Walton', 'R. Buckminster Fuller', 'Loretta Young', 'Marvin Minsky', 'Nancy Lopez', 'Jesse Owens', 'Jane Austen', 'Al Neuharth', 'Lillian Hellman', 'Nhat Hanh', 'Daniel J. Boorstin', 'Judy Garland', 'Og Mandino', 'John Bingham', 'Albert Einstein', 'William James', 'Rita Mae Brown', 'John Dewey', 'Desmond Tutu', 'Margaret Thatcher', 'Eckhart Tolle', 'Ayn Rand', 'Calvin Coolidge', 'Leo Buscaglia', 'Rumi', 'Mark Twain', 'Friedrich Nietzsche', 'Giorgio Armani', 'Aesop', 'Jane Austen', 'Elie Wiesel', 'Samuel Johnson', 'John C. Maxwell', 'Sydney J. Harris', 'Hunter S. Thompson', 'Jim Rohn', 'Ram Dass', 'Plutarch']\n"
     ]
    }
   ],
   "source": [
    "start = 0\n",
    "end = 7\n",
    "for page in range(start,end):\n",
    "    authors = driver_5.find_elements(By.XPATH, '//div[@class=\"author\"]')\n",
    "    for i in authors:\n",
    "        AuthoR.append(i.text)\n",
    "        \n",
    "    try:\n",
    "        next_button_5 = driver_5.find_element(By.XPATH, '/html/body/div[1]/div[2]/div/div/div/div[1]/div/div[3]/li[12]/a')\n",
    "        next_button_5.click()\n",
    "        time.sleep(3)\n",
    "    except NoSuchElementException:\n",
    "        break  \n",
    "print(AuthoR)        "
   ]
  },
  {
   "cell_type": "code",
   "execution_count": 23,
   "id": "69779b79",
   "metadata": {},
   "outputs": [],
   "source": [
    "Quote_Type = []"
   ]
  },
  {
   "cell_type": "code",
   "execution_count": 24,
   "id": "19a35561",
   "metadata": {},
   "outputs": [
    {
     "name": "stdout",
     "output_type": "stream",
     "text": [
      "['Inspirational, Life, Success', 'Peace, War, Government', 'Life, Strength, Courage', 'Positive, Family, Trust', 'Inspirational, Life, Motivational', 'Inspirational, Motivational, Teacher', 'Success, Spiritual, Wisdom', 'Inspiring, Encouragement, Bad Day', 'Strength, Christian, Self', 'Life, Motivational, Success', 'Inspirational, Success, Basketball', 'Inspirational, Motivational, Positive', 'Love, Valentines Day, Fate', 'Gun, People, Second Amendment', 'Long, Chinese, World', 'Inspirational, Greatness, Envy', 'Love, Inspiring, Positivity', 'Practice, Political, Deception', 'Military, Marine, Hands', 'Inspirational, Life, Motivational', 'Love, Life, Crush', 'Inspirational, Motivational, Peace', 'Inspirational, Freedom, Responsibility', 'Inspirational, Life, Motivational', 'Inspirational, Positive, Success', 'Inspirational, God, Stay Strong', 'Motivational, Running, Ideas', 'Inspirational, Life, Happiness', 'Sports, Hero, News', 'Inspirational, Funny, Positive', 'Anger, Adversity, Climbing', 'Inspirational, Inspiring, Friends', 'Motivational, Inspiration, Adversity', 'Children, Creativity, Ignorance', 'Life, Music, Beautiful', 'Inspirational, Positive, Freedom', 'Inspirational, Life, Bullying', 'Inspirational, Motivational, Success', 'Inspirational, Inspiring, Beauty', 'Witty, Attitude, Freedom', 'Military, Marine, Men', 'Motivational, Success, Positivity', 'Plato, War, Government', 'Inspirational, Educational, Learning', 'Inspirational, Motivational, Success', 'Inspirational, Life, Second Chance', 'Love, Happiness, Smile', 'Motivational, Sports, Football', 'Thanksgiving, Thankful, Gratitude', 'Inspirational, Motivational, Badass', 'Life, Inspiring, Encouragement', 'Funny, Humorous, Character', 'Moving On, Famous Inspirational, Greatness', 'Motivational, Happiness, Mean', 'Life, Birthday, Inspiring', 'Children, Educational, Future', 'Inspirational, Funny, Life', 'Change, Inspiring, Life Changing', 'Inspirational, Integrity, Yoga', 'Inspirational, Positive, Wisdom', 'Funny, Hilarious, Education', 'Sheep, Government, Political', 'Leadership, Appreciation, Team Building', 'Inspirational, Change, Success', 'Empowerment, Crowds, Empowering Women', 'Education, Learning, Knowledge', 'Fear, Positivity, Doubting Everything', 'Inspirational, Motivational, Sports', 'Happiness, Inspiring, Happy', 'Funny, Attitude, Climbing', 'Confidence, Littles, Matter', 'Motivational, Buddhist, Children', 'Mean, Opportunity, Nerd', 'Love, Funny, Romantic', 'Inspirational, Positive, Stars', 'Running, Years, Tests', 'Peace, Integrity, Patriotic', 'Inspirational, Motivational, Relationship', 'Love, Life, Being Yourself', 'Happiness, Work, Opportunity', 'Inspiring, Forgiveness, New Beginnings', 'Motivational, Success, Work', 'Positive, Wisdom, Philosophical', 'Inspirational, Life, Motivational', 'Life, Leadership, Motivational Sports', 'Love, Confidence, Forgiving', 'Spiritual, Sufi, Wherever You Are', 'Inspirational, Motivational, Change', 'Inspirational, Life, Music', 'Artist, Age, Example', 'Inspirational, Motivational, Wise', 'Inspirational, Funny, Stupid', 'Love, Inspirational, Life', 'Education, Curiosity, Genius', 'Motivational, Inspiring, Leadership', 'Love, Inspirational, Motivational', 'Gun, Two, Qualms About', 'Inspirational, Greatness, Best Effort', 'Spiritual, Truth, Yoga', 'Inspirational, Leadership, Education', 'Inspirational, Life, Success', 'Peace, War, Government', 'Life, Strength, Courage', 'Positive, Family, Trust', 'Inspirational, Life, Motivational', 'Inspirational, Motivational, Teacher', 'Success, Spiritual, Wisdom', 'Inspiring, Encouragement, Bad Day', 'Strength, Christian, Self', 'Life, Motivational, Success', 'Inspirational, Success, Basketball', 'Inspirational, Motivational, Positive', 'Love, Valentines Day, Fate', 'Gun, People, Second Amendment', 'Long, Chinese, World', 'Inspirational, Greatness, Envy', 'Love, Inspiring, Positivity', 'Practice, Political, Deception', 'Military, Marine, Hands', 'Inspirational, Life, Motivational', 'Love, Life, Crush', 'Inspirational, Motivational, Peace', 'Inspirational, Freedom, Responsibility', 'Inspirational, Life, Motivational', 'Inspirational, Positive, Success', 'Inspirational, God, Stay Strong', 'Motivational, Running, Ideas', 'Inspirational, Life, Happiness', 'Sports, Hero, News', 'Inspirational, Funny, Positive', 'Anger, Adversity, Climbing', 'Inspirational, Inspiring, Friends', 'Motivational, Inspiration, Adversity', 'Children, Creativity, Ignorance', 'Life, Music, Beautiful', 'Inspirational, Positive, Freedom', 'Inspirational, Life, Bullying', 'Inspirational, Motivational, Success', 'Inspirational, Inspiring, Beauty', 'Witty, Attitude, Freedom', 'Military, Marine, Men', 'Motivational, Success, Positivity', 'Plato, War, Government', 'Inspirational, Educational, Learning', 'Inspirational, Motivational, Success', 'Inspirational, Life, Second Chance', 'Love, Happiness, Smile', 'Motivational, Sports, Football', 'Thanksgiving, Thankful, Gratitude', 'Inspirational, Motivational, Badass', 'Life, Inspiring, Encouragement', 'Funny, Humorous, Character', 'Moving On, Famous Inspirational, Greatness', 'Motivational, Happiness, Mean', 'Life, Birthday, Inspiring', 'Children, Educational, Future', 'Inspirational, Funny, Life', 'Change, Inspiring, Life Changing', 'Inspirational, Integrity, Yoga', 'Inspirational, Positive, Wisdom', 'Funny, Hilarious, Education', 'Sheep, Government, Political', 'Leadership, Appreciation, Team Building', 'Inspirational, Change, Success', 'Empowerment, Crowds, Empowering Women', 'Education, Learning, Knowledge', 'Fear, Positivity, Doubting Everything', 'Inspirational, Motivational, Sports', 'Happiness, Inspiring, Happy', 'Funny, Attitude, Climbing', 'Confidence, Littles, Matter', 'Motivational, Buddhist, Children', 'Mean, Opportunity, Nerd', 'Love, Funny, Romantic', 'Inspirational, Positive, Stars', 'Running, Years, Tests', 'Peace, Integrity, Patriotic', 'Inspirational, Motivational, Relationship', 'Love, Life, Being Yourself', 'Happiness, Work, Opportunity', 'Inspiring, Forgiveness, New Beginnings', 'Motivational, Success, Work', 'Positive, Wisdom, Philosophical', 'Inspirational, Life, Motivational', 'Life, Leadership, Motivational Sports', 'Love, Confidence, Forgiving', 'Spiritual, Sufi, Wherever You Are', 'Inspirational, Motivational, Change', 'Inspirational, Life, Music', 'Artist, Age, Example', 'Inspirational, Motivational, Wise', 'Inspirational, Funny, Stupid', 'Love, Inspirational, Life', 'Education, Curiosity, Genius', 'Motivational, Inspiring, Leadership', 'Love, Inspirational, Motivational', 'Gun, Two, Qualms About', 'Inspirational, Greatness, Best Effort', 'Spiritual, Truth, Yoga', 'Inspirational, Leadership, Education', 'Inspirational, Life, Success', 'Peace, War, Government', 'Life, Strength, Courage', 'Positive, Family, Trust', 'Inspirational, Life, Motivational', 'Inspirational, Motivational, Teacher', 'Success, Spiritual, Wisdom', 'Inspiring, Encouragement, Bad Day', 'Strength, Christian, Self', 'Life, Motivational, Success', 'Inspirational, Success, Basketball', 'Inspirational, Motivational, Positive', 'Love, Valentines Day, Fate', 'Gun, People, Second Amendment', 'Long, Chinese, World', 'Inspirational, Greatness, Envy', 'Love, Inspiring, Positivity', 'Practice, Political, Deception', 'Military, Marine, Hands', 'Inspirational, Life, Motivational', 'Love, Life, Crush', 'Inspirational, Motivational, Peace', 'Inspirational, Freedom, Responsibility', 'Inspirational, Life, Motivational', 'Inspirational, Positive, Success', 'Inspirational, God, Stay Strong', 'Motivational, Running, Ideas', 'Inspirational, Life, Happiness', 'Sports, Hero, News', 'Inspirational, Funny, Positive', 'Anger, Adversity, Climbing', 'Inspirational, Inspiring, Friends', 'Motivational, Inspiration, Adversity', 'Children, Creativity, Ignorance', 'Life, Music, Beautiful', 'Inspirational, Positive, Freedom', 'Inspirational, Life, Bullying', 'Inspirational, Motivational, Success', 'Inspirational, Inspiring, Beauty', 'Witty, Attitude, Freedom', 'Military, Marine, Men', 'Motivational, Success, Positivity', 'Plato, War, Government', 'Inspirational, Educational, Learning', 'Inspirational, Motivational, Success', 'Inspirational, Life, Second Chance', 'Love, Happiness, Smile', 'Motivational, Sports, Football', 'Thanksgiving, Thankful, Gratitude', 'Inspirational, Motivational, Badass', 'Life, Inspiring, Encouragement', 'Funny, Humorous, Character', 'Moving On, Famous Inspirational, Greatness', 'Motivational, Happiness, Mean', 'Life, Birthday, Inspiring', 'Children, Educational, Future', 'Inspirational, Funny, Life', 'Change, Inspiring, Life Changing', 'Inspirational, Integrity, Yoga', 'Inspirational, Positive, Wisdom', 'Funny, Hilarious, Education', 'Sheep, Government, Political', 'Leadership, Appreciation, Team Building', 'Inspirational, Change, Success', 'Empowerment, Crowds, Empowering Women', 'Education, Learning, Knowledge', 'Fear, Positivity, Doubting Everything', 'Inspirational, Motivational, Sports', 'Happiness, Inspiring, Happy', 'Funny, Attitude, Climbing', 'Confidence, Littles, Matter', 'Motivational, Buddhist, Children', 'Mean, Opportunity, Nerd', 'Love, Funny, Romantic', 'Inspirational, Positive, Stars', 'Running, Years, Tests', 'Peace, Integrity, Patriotic', 'Inspirational, Motivational, Relationship', 'Love, Life, Being Yourself', 'Happiness, Work, Opportunity', 'Inspiring, Forgiveness, New Beginnings', 'Motivational, Success, Work', 'Positive, Wisdom, Philosophical', 'Inspirational, Life, Motivational', 'Life, Leadership, Motivational Sports', 'Love, Confidence, Forgiving', 'Spiritual, Sufi, Wherever You Are', 'Inspirational, Motivational, Change', 'Inspirational, Life, Music', 'Artist, Age, Example', 'Inspirational, Motivational, Wise', 'Inspirational, Funny, Stupid', 'Love, Inspirational, Life', 'Education, Curiosity, Genius', 'Motivational, Inspiring, Leadership', 'Love, Inspirational, Motivational', 'Gun, Two, Qualms About', 'Inspirational, Greatness, Best Effort', 'Spiritual, Truth, Yoga', 'Inspirational, Leadership, Education', 'Inspirational, Life, Success', 'Peace, War, Government', 'Life, Strength, Courage', 'Positive, Family, Trust', 'Inspirational, Life, Motivational', 'Inspirational, Motivational, Teacher', 'Success, Spiritual, Wisdom', 'Inspiring, Encouragement, Bad Day', 'Strength, Christian, Self', 'Life, Motivational, Success', 'Inspirational, Success, Basketball', 'Inspirational, Motivational, Positive', 'Love, Valentines Day, Fate', 'Gun, People, Second Amendment', 'Long, Chinese, World', 'Inspirational, Greatness, Envy', 'Love, Inspiring, Positivity', 'Practice, Political, Deception', 'Military, Marine, Hands', 'Inspirational, Life, Motivational', 'Love, Life, Crush', 'Inspirational, Motivational, Peace', 'Inspirational, Freedom, Responsibility', 'Inspirational, Life, Motivational', 'Inspirational, Positive, Success', 'Inspirational, God, Stay Strong', 'Motivational, Running, Ideas', 'Inspirational, Life, Happiness', 'Sports, Hero, News', 'Inspirational, Funny, Positive', 'Anger, Adversity, Climbing', 'Inspirational, Inspiring, Friends', 'Motivational, Inspiration, Adversity', 'Children, Creativity, Ignorance', 'Life, Music, Beautiful', 'Inspirational, Positive, Freedom', 'Inspirational, Life, Bullying', 'Inspirational, Motivational, Success', 'Inspirational, Inspiring, Beauty', 'Witty, Attitude, Freedom', 'Military, Marine, Men', 'Motivational, Success, Positivity', 'Plato, War, Government', 'Inspirational, Educational, Learning', 'Inspirational, Motivational, Success', 'Inspirational, Life, Second Chance', 'Love, Happiness, Smile', 'Motivational, Sports, Football', 'Thanksgiving, Thankful, Gratitude', 'Inspirational, Motivational, Badass', 'Life, Inspiring, Encouragement', 'Funny, Humorous, Character', 'Moving On, Famous Inspirational, Greatness', 'Motivational, Happiness, Mean', 'Life, Birthday, Inspiring', 'Children, Educational, Future', 'Inspirational, Funny, Life', 'Change, Inspiring, Life Changing', 'Inspirational, Integrity, Yoga', 'Inspirational, Positive, Wisdom', 'Funny, Hilarious, Education', 'Sheep, Government, Political', 'Leadership, Appreciation, Team Building', 'Inspirational, Change, Success', 'Empowerment, Crowds, Empowering Women', 'Education, Learning, Knowledge', 'Fear, Positivity, Doubting Everything', 'Inspirational, Motivational, Sports', 'Happiness, Inspiring, Happy', 'Funny, Attitude, Climbing', 'Confidence, Littles, Matter', 'Motivational, Buddhist, Children', 'Mean, Opportunity, Nerd', 'Love, Funny, Romantic', 'Inspirational, Positive, Stars', 'Running, Years, Tests', 'Peace, Integrity, Patriotic', 'Inspirational, Motivational, Relationship', 'Love, Life, Being Yourself', 'Happiness, Work, Opportunity', 'Inspiring, Forgiveness, New Beginnings', 'Motivational, Success, Work', 'Positive, Wisdom, Philosophical', 'Inspirational, Life, Motivational', 'Life, Leadership, Motivational Sports', 'Love, Confidence, Forgiving', 'Spiritual, Sufi, Wherever You Are', 'Inspirational, Motivational, Change', 'Inspirational, Life, Music', 'Artist, Age, Example', 'Inspirational, Motivational, Wise', 'Inspirational, Funny, Stupid', 'Love, Inspirational, Life', 'Education, Curiosity, Genius', 'Motivational, Inspiring, Leadership', 'Love, Inspirational, Motivational', 'Gun, Two, Qualms About', 'Inspirational, Greatness, Best Effort', 'Spiritual, Truth, Yoga', 'Inspirational, Leadership, Education', 'Inspirational, Life, Success', 'Peace, War, Government', 'Life, Strength, Courage', 'Positive, Family, Trust', 'Inspirational, Life, Motivational', 'Inspirational, Motivational, Teacher', 'Success, Spiritual, Wisdom', 'Inspiring, Encouragement, Bad Day', 'Strength, Christian, Self', 'Life, Motivational, Success', 'Inspirational, Success, Basketball', 'Inspirational, Motivational, Positive', 'Love, Valentines Day, Fate', 'Gun, People, Second Amendment', 'Long, Chinese, World', 'Inspirational, Greatness, Envy', 'Love, Inspiring, Positivity', 'Practice, Political, Deception', 'Military, Marine, Hands', 'Inspirational, Life, Motivational', 'Love, Life, Crush', 'Inspirational, Motivational, Peace', 'Inspirational, Freedom, Responsibility', 'Inspirational, Life, Motivational', 'Inspirational, Positive, Success', 'Inspirational, God, Stay Strong', 'Motivational, Running, Ideas', 'Inspirational, Life, Happiness', 'Sports, Hero, News', 'Inspirational, Funny, Positive', 'Anger, Adversity, Climbing', 'Inspirational, Inspiring, Friends', 'Motivational, Inspiration, Adversity', 'Children, Creativity, Ignorance', 'Life, Music, Beautiful', 'Inspirational, Positive, Freedom', 'Inspirational, Life, Bullying', 'Inspirational, Motivational, Success', 'Inspirational, Inspiring, Beauty', 'Witty, Attitude, Freedom', 'Military, Marine, Men', 'Motivational, Success, Positivity', 'Plato, War, Government', 'Inspirational, Educational, Learning', 'Inspirational, Motivational, Success', 'Inspirational, Life, Second Chance', 'Love, Happiness, Smile', 'Motivational, Sports, Football', 'Thanksgiving, Thankful, Gratitude', 'Inspirational, Motivational, Badass', 'Life, Inspiring, Encouragement', 'Funny, Humorous, Character', 'Moving On, Famous Inspirational, Greatness', 'Motivational, Happiness, Mean', 'Life, Birthday, Inspiring', 'Children, Educational, Future', 'Inspirational, Funny, Life', 'Change, Inspiring, Life Changing', 'Inspirational, Integrity, Yoga', 'Inspirational, Positive, Wisdom', 'Funny, Hilarious, Education', 'Sheep, Government, Political', 'Leadership, Appreciation, Team Building', 'Inspirational, Change, Success', 'Empowerment, Crowds, Empowering Women', 'Education, Learning, Knowledge', 'Fear, Positivity, Doubting Everything', 'Inspirational, Motivational, Sports', 'Happiness, Inspiring, Happy', 'Funny, Attitude, Climbing', 'Confidence, Littles, Matter', 'Motivational, Buddhist, Children', 'Mean, Opportunity, Nerd', 'Love, Funny, Romantic', 'Inspirational, Positive, Stars', 'Running, Years, Tests', 'Peace, Integrity, Patriotic', 'Inspirational, Motivational, Relationship', 'Love, Life, Being Yourself', 'Happiness, Work, Opportunity', 'Inspiring, Forgiveness, New Beginnings', 'Motivational, Success, Work', 'Positive, Wisdom, Philosophical', 'Inspirational, Life, Motivational', 'Life, Leadership, Motivational Sports', 'Love, Confidence, Forgiving', 'Spiritual, Sufi, Wherever You Are', 'Inspirational, Motivational, Change', 'Inspirational, Life, Music', 'Artist, Age, Example', 'Inspirational, Motivational, Wise', 'Inspirational, Funny, Stupid', 'Love, Inspirational, Life', 'Education, Curiosity, Genius', 'Motivational, Inspiring, Leadership', 'Love, Inspirational, Motivational', 'Gun, Two, Qualms About', 'Inspirational, Greatness, Best Effort', 'Spiritual, Truth, Yoga', 'Inspirational, Leadership, Education', 'Inspirational, Life, Success', 'Peace, War, Government', 'Life, Strength, Courage', 'Positive, Family, Trust', 'Inspirational, Life, Motivational', 'Inspirational, Motivational, Teacher', 'Success, Spiritual, Wisdom', 'Inspiring, Encouragement, Bad Day', 'Strength, Christian, Self', 'Life, Motivational, Success', 'Inspirational, Success, Basketball', 'Inspirational, Motivational, Positive', 'Love, Valentines Day, Fate', 'Gun, People, Second Amendment', 'Long, Chinese, World', 'Inspirational, Greatness, Envy', 'Love, Inspiring, Positivity', 'Practice, Political, Deception', 'Military, Marine, Hands', 'Inspirational, Life, Motivational', 'Love, Life, Crush', 'Inspirational, Motivational, Peace', 'Inspirational, Freedom, Responsibility', 'Inspirational, Life, Motivational', 'Inspirational, Positive, Success', 'Inspirational, God, Stay Strong', 'Motivational, Running, Ideas', 'Inspirational, Life, Happiness', 'Sports, Hero, News', 'Inspirational, Funny, Positive', 'Anger, Adversity, Climbing', 'Inspirational, Inspiring, Friends', 'Motivational, Inspiration, Adversity', 'Children, Creativity, Ignorance', 'Life, Music, Beautiful', 'Inspirational, Positive, Freedom', 'Inspirational, Life, Bullying', 'Inspirational, Motivational, Success', 'Inspirational, Inspiring, Beauty', 'Witty, Attitude, Freedom', 'Military, Marine, Men', 'Motivational, Success, Positivity', 'Plato, War, Government', 'Inspirational, Educational, Learning', 'Inspirational, Motivational, Success', 'Inspirational, Life, Second Chance', 'Love, Happiness, Smile', 'Motivational, Sports, Football', 'Thanksgiving, Thankful, Gratitude', 'Inspirational, Motivational, Badass', 'Life, Inspiring, Encouragement', 'Funny, Humorous, Character', 'Moving On, Famous Inspirational, Greatness', 'Motivational, Happiness, Mean', 'Life, Birthday, Inspiring', 'Children, Educational, Future', 'Inspirational, Funny, Life', 'Change, Inspiring, Life Changing', 'Inspirational, Integrity, Yoga', 'Inspirational, Positive, Wisdom', 'Funny, Hilarious, Education', 'Sheep, Government, Political', 'Leadership, Appreciation, Team Building', 'Inspirational, Change, Success', 'Empowerment, Crowds, Empowering Women', 'Education, Learning, Knowledge', 'Fear, Positivity, Doubting Everything', 'Inspirational, Motivational, Sports', 'Happiness, Inspiring, Happy', 'Funny, Attitude, Climbing', 'Confidence, Littles, Matter', 'Motivational, Buddhist, Children', 'Mean, Opportunity, Nerd', 'Love, Funny, Romantic', 'Inspirational, Positive, Stars', 'Running, Years, Tests', 'Peace, Integrity, Patriotic', 'Inspirational, Motivational, Relationship', 'Love, Life, Being Yourself', 'Happiness, Work, Opportunity', 'Inspiring, Forgiveness, New Beginnings', 'Motivational, Success, Work', 'Positive, Wisdom, Philosophical', 'Inspirational, Life, Motivational', 'Life, Leadership, Motivational Sports', 'Love, Confidence, Forgiving', 'Spiritual, Sufi, Wherever You Are', 'Inspirational, Motivational, Change', 'Inspirational, Life, Music', 'Artist, Age, Example', 'Inspirational, Motivational, Wise', 'Inspirational, Funny, Stupid', 'Love, Inspirational, Life', 'Education, Curiosity, Genius', 'Motivational, Inspiring, Leadership', 'Love, Inspirational, Motivational', 'Gun, Two, Qualms About', 'Inspirational, Greatness, Best Effort', 'Spiritual, Truth, Yoga', 'Inspirational, Leadership, Education', 'Inspirational, Life, Success', 'Peace, War, Government', 'Life, Strength, Courage', 'Positive, Family, Trust', 'Inspirational, Life, Motivational', 'Inspirational, Motivational, Teacher', 'Success, Spiritual, Wisdom', 'Inspiring, Encouragement, Bad Day', 'Strength, Christian, Self', 'Life, Motivational, Success', 'Inspirational, Success, Basketball', 'Inspirational, Motivational, Positive', 'Love, Valentines Day, Fate', 'Gun, People, Second Amendment', 'Long, Chinese, World', 'Inspirational, Greatness, Envy', 'Love, Inspiring, Positivity', 'Practice, Political, Deception', 'Military, Marine, Hands', 'Inspirational, Life, Motivational', 'Love, Life, Crush', 'Inspirational, Motivational, Peace', 'Inspirational, Freedom, Responsibility', 'Inspirational, Life, Motivational', 'Inspirational, Positive, Success', 'Inspirational, God, Stay Strong', 'Motivational, Running, Ideas', 'Inspirational, Life, Happiness', 'Sports, Hero, News', 'Inspirational, Funny, Positive', 'Anger, Adversity, Climbing', 'Inspirational, Inspiring, Friends', 'Motivational, Inspiration, Adversity', 'Children, Creativity, Ignorance', 'Life, Music, Beautiful', 'Inspirational, Positive, Freedom', 'Inspirational, Life, Bullying', 'Inspirational, Motivational, Success', 'Inspirational, Inspiring, Beauty', 'Witty, Attitude, Freedom', 'Military, Marine, Men', 'Motivational, Success, Positivity', 'Plato, War, Government', 'Inspirational, Educational, Learning', 'Inspirational, Motivational, Success', 'Inspirational, Life, Second Chance', 'Love, Happiness, Smile', 'Motivational, Sports, Football', 'Thanksgiving, Thankful, Gratitude', 'Inspirational, Motivational, Badass', 'Life, Inspiring, Encouragement', 'Funny, Humorous, Character', 'Moving On, Famous Inspirational, Greatness', 'Motivational, Happiness, Mean', 'Life, Birthday, Inspiring', 'Children, Educational, Future', 'Inspirational, Funny, Life', 'Change, Inspiring, Life Changing', 'Inspirational, Integrity, Yoga', 'Inspirational, Positive, Wisdom', 'Funny, Hilarious, Education', 'Sheep, Government, Political', 'Leadership, Appreciation, Team Building', 'Inspirational, Change, Success', 'Empowerment, Crowds, Empowering Women', 'Education, Learning, Knowledge', 'Fear, Positivity, Doubting Everything', 'Inspirational, Motivational, Sports', 'Happiness, Inspiring, Happy', 'Funny, Attitude, Climbing', 'Confidence, Littles, Matter', 'Motivational, Buddhist, Children', 'Mean, Opportunity, Nerd', 'Love, Funny, Romantic', 'Inspirational, Positive, Stars', 'Running, Years, Tests', 'Peace, Integrity, Patriotic', 'Inspirational, Motivational, Relationship', 'Love, Life, Being Yourself', 'Happiness, Work, Opportunity', 'Inspiring, Forgiveness, New Beginnings', 'Motivational, Success, Work', 'Positive, Wisdom, Philosophical', 'Inspirational, Life, Motivational', 'Life, Leadership, Motivational Sports', 'Love, Confidence, Forgiving', 'Spiritual, Sufi, Wherever You Are', 'Inspirational, Motivational, Change', 'Inspirational, Life, Music', 'Artist, Age, Example', 'Inspirational, Motivational, Wise', 'Inspirational, Funny, Stupid', 'Love, Inspirational, Life', 'Education, Curiosity, Genius', 'Motivational, Inspiring, Leadership', 'Love, Inspirational, Motivational', 'Gun, Two, Qualms About', 'Inspirational, Greatness, Best Effort', 'Spiritual, Truth, Yoga', 'Inspirational, Leadership, Education']\n"
     ]
    }
   ],
   "source": [
    "start = 0\n",
    "end = 7\n",
    "for page in range(start,end):\n",
    "    quote_types = driver_5.find_elements(By.XPATH,'//div[@class=\"tags\"]')\n",
    "    for i in quote_types:\n",
    "        Quote_Type.append(i.text)\n",
    "        \n",
    "    try:\n",
    "        next_button_5 = driver_5.find_element(By.XPATH, '/html/body/div[1]/div[2]/div/div/div/div[1]/div/div[3]/li[12]/a')\n",
    "        next_button_5.click()\n",
    "        time.sleep(3)\n",
    "    except NoSuchElementException:\n",
    "        break\n",
    "print(Quote_Type)        "
   ]
  },
  {
   "cell_type": "code",
   "execution_count": null,
   "id": "3a783847",
   "metadata": {},
   "outputs": [],
   "source": []
  },
  {
   "cell_type": "code",
   "execution_count": 14,
   "id": "5b0d4961",
   "metadata": {},
   "outputs": [],
   "source": [
    "# Question - 5 :\n",
    "driver_3 = webdriver.Chrome()"
   ]
  },
  {
   "cell_type": "code",
   "execution_count": 15,
   "id": "963aff69",
   "metadata": {},
   "outputs": [],
   "source": [
    "driver_3.get('https://www.flipkart.com/apple-iphone-11-black-64-gb/product-reviews/itm4e5041ba101fd?pid=MOBFWQ6BXGJCEYNY&lid=LSTMOBFWQ6BXGJCEYNYZXSHRJ')"
   ]
  },
  {
   "cell_type": "code",
   "execution_count": 16,
   "id": "66d9fd73",
   "metadata": {},
   "outputs": [],
   "source": [
    "Rating = []\n",
    "Review_Summary = []\n",
    "Full_Review = []"
   ]
  },
  {
   "cell_type": "code",
   "execution_count": 17,
   "id": "860c9838",
   "metadata": {},
   "outputs": [],
   "source": [
    "rating_tags=driver_3.find_elements(By.XPATH,'//div[@class=\"col _2wzgFH K0kLPL\"]/div[1]/div[1]')\n",
    "for i in rating_tags:\n",
    "    rating=i.text\n",
    "    Rating.append(rating)"
   ]
  },
  {
   "cell_type": "code",
   "execution_count": 18,
   "id": "9affc889",
   "metadata": {},
   "outputs": [],
   "source": [
    "rev_summ_tags=driver_3.find_elements(By.XPATH,'//p[@class=\"_2-N8zT\"]')\n",
    "for i in rev_summ_tags:\n",
    "    rev_sum=i.text\n",
    "    Review_Summary.append(rev_sum)"
   ]
  },
  {
   "cell_type": "code",
   "execution_count": 19,
   "id": "b343410e",
   "metadata": {},
   "outputs": [],
   "source": [
    "full_rev_tags=driver_3.find_elements(By.XPATH,'//div[@class=\"t-ZTKy\"]/div/div')\n",
    "for i in full_rev_tags:\n",
    "    full_rev= i.text\n",
    "    Full_Review.append(full_rev)"
   ]
  },
  {
   "cell_type": "code",
   "execution_count": 20,
   "id": "c036d701",
   "metadata": {},
   "outputs": [
    {
     "name": "stdout",
     "output_type": "stream",
     "text": [
      "10 10 10\n"
     ]
    }
   ],
   "source": [
    "print(len(Rating), len(Review_Summary), len(Full_Review))"
   ]
  },
  {
   "cell_type": "code",
   "execution_count": 21,
   "id": "46fb7ec5",
   "metadata": {},
   "outputs": [],
   "source": [
    "Ratin_G = []"
   ]
  },
  {
   "cell_type": "code",
   "execution_count": 25,
   "id": "bb081125",
   "metadata": {},
   "outputs": [
    {
     "name": "stdout",
     "output_type": "stream",
     "text": [
      "['5', '5', '5', '5', '5', '5', '5', '5', '5', '5', '5', '5', '5', '5', '5', '5', '5', '5', '5', '5', '5', '5', '5', '5', '5', '5', '5', '5', '5', '5', '5', '5', '5', '5', '5', '5', '5', '5', '5', '5', '5', '5', '5', '5', '5', '5', '5', '5', '5', '5', '5', '5', '5', '5', '5', '5', '5', '5', '5', '5', '5', '5', '5', '5', '5', '5', '5', '5', '5', '5', '5', '5', '5', '5', '5', '5', '5', '5', '5', '5', '5', '5', '5', '5', '5', '5', '5', '5', '5', '5', '5', '5', '5', '5', '5', '5', '5', '4', '5', '5', '5', '5', '5', '5', '5', '5', '5', '5', '5', '5', '5', '5', '5', '5', '5', '5', '5', '5', '5', '5', '5', '5', '5', '5', '5', '5', '5', '5', '5', '5', '5', '5', '5', '5', '5', '5', '5', '5', '5', '5', '5', '5', '5', '5', '5', '5', '5', '5', '5', '5', '5', '5', '5', '5', '5', '5', '5', '5', '5', '5', '5', '5', '5', '5', '5', '5', '5', '5', '5', '5', '5', '5', '5', '5', '5', '5', '5', '5', '5', '5', '5', '5', '5', '5', '5', '5', '5', '5', '5', '5', '5', '5', '5', '5', '5', '5', '5']\n"
     ]
    }
   ],
   "source": [
    "start = 0\n",
    "end = 7\n",
    "for page in range(start,end):\n",
    "    rat_g = driver_3.find_elements(By.XPATH,'//div[@class=\"col _2wzgFH K0kLPL\"]/div[1]/div[1]')\n",
    "    for i in rat_g:\n",
    "        Ratin_G.append(i.text)\n",
    "        \n",
    "        \n",
    "    try:\n",
    "        next_button_3 = driver_3.find_element(By.XPATH,'//a[@class=\"_1LKTO3\"]/span')\n",
    "        next_button_3.click()\n",
    "        time.sleep(3)\n",
    "    except NoSuchElementException:\n",
    "        break\n",
    "print(Ratin_G)        "
   ]
  },
  {
   "cell_type": "code",
   "execution_count": 26,
   "id": "c179483c",
   "metadata": {},
   "outputs": [],
   "source": [
    "Rev_Summary = []"
   ]
  },
  {
   "cell_type": "code",
   "execution_count": 27,
   "id": "65b6bcc6",
   "metadata": {},
   "outputs": [
    {
     "name": "stdout",
     "output_type": "stream",
     "text": [
      "['Perfect product!', 'Awesome', 'Wonderful', 'Classy product', 'Terrific', 'Best in the market!', 'Worth every penny', 'Perfect product!', 'Terrific purchase', 'Just wow!', 'Must buy!', 'Brilliant', 'Brilliant', 'Awesome', 'Excellent', 'Fabulous!', 'Terrific purchase', 'Must buy!', 'Super!', 'Simply awesome', 'Perfect product!', 'Awesome', 'Wonderful', 'Classy product', 'Terrific', 'Best in the market!', 'Worth every penny', 'Perfect product!', 'Terrific purchase', 'Just wow!', 'Must buy!', 'Brilliant', 'Brilliant', 'Awesome', 'Excellent', 'Fabulous!', 'Terrific purchase', 'Must buy!', 'Super!', 'Simply awesome', 'Perfect product!', 'Awesome', 'Wonderful', 'Classy product', 'Terrific', 'Best in the market!', 'Worth every penny', 'Perfect product!', 'Terrific purchase', 'Just wow!', 'Must buy!', 'Brilliant', 'Brilliant', 'Awesome', 'Excellent', 'Fabulous!', 'Terrific purchase', 'Must buy!', 'Super!', 'Simply awesome', 'Perfect product!', 'Awesome', 'Wonderful', 'Classy product', 'Terrific', 'Best in the market!', 'Worth every penny', 'Perfect product!', 'Terrific purchase', 'Just wow!']\n"
     ]
    }
   ],
   "source": [
    "start = 0\n",
    "end = 7\n",
    "for page in range(start,end):\n",
    "    revi_sum=driver_3.find_elements(By.XPATH,'//p[@class=\"_2-N8zT\"]')\n",
    "    for i in revi_sum:\n",
    "        Rev_Summary.append(i.text)\n",
    "        \n",
    "        \n",
    "    try:\n",
    "        next_button_3 = driver_3.find_element(By.XPATH,'//a[@class=\"_1LKTO3\"]/span')\n",
    "        next_button_3.click()\n",
    "        time.sleep(3)\n",
    "    except NoSuchElementException:\n",
    "        break\n",
    "print(Rev_Summary)        "
   ]
  },
  {
   "cell_type": "code",
   "execution_count": 28,
   "id": "e58758b8",
   "metadata": {},
   "outputs": [],
   "source": [
    "Full_Revi_ = []"
   ]
  },
  {
   "cell_type": "code",
   "execution_count": 31,
   "id": "a61cfabd",
   "metadata": {},
   "outputs": [
    {
     "name": "stdout",
     "output_type": "stream",
     "text": [
      "['It’s really awesome', 'Excellent Phone.', 'very good camera quality', 'iPhone 11 is a good phone. Not a very big difference between 12 except for the OLED screen and a very minor camera improvement which is you cant make a difference. If you are planning for a iPhone and you have budget you definitely can go for this without second thoughts.\\nNow some people are complaining and giving review 0 or so because there is no charger and headphones, but thats been already mentioned so I assume they are illiterate. Its not that Flipkart is removing them duh. Anyways bee...', 'NYC', 'It’s very good battery life and display and video quality and ther performance of iPhone.....🔥🔥🌈', 'Value for money 🖤🖤', 'Go for iPhone 11 , if confused between iPhone 11 or iPhone 12 mini.Battery Life is enhanced , it worked for complete 2 days without charging it. Explored new features of taking screenshot by clicking on apple logo by Haptic Touch , Portrait mode with stage effect enhanced & slow motion selfie.', 'Good product 👌I love iPhone', 'Really satisfied with the Product I received... It’s totally genuine and the packaging was also really good so if ur planning to buy just go for it.', 'V Good all', 'iPhone 11 is a good phone. Not a very big difference between 12 except for the OLED screen and a very minor camera improvement which is you cant make a difference. If you are planning for a iPhone and you have budget you definitely can go for this without second thoughts.\\nNow some people are complaining and giving review 0 or so because there is no charger and headphones, but thats been already mentioned so I assume they are illiterate. Its not that Flipkart is removing them duh. Anyways bee...', 'This is amazing at all', 'Camera is awesome\\nBest battery backup\\nA performer 👌🏻\\nIt will be a real value for money if they provide charger and earphone inbox!', 'Very very good', 'Good Camera', 'Feeling awesome after getting the delivery of my phone. Dual speakers makes the sound quality very loud. Amazing!!', 'Photos super', 'Value for money 😍', 'Perfect Product!!', 'It’s really awesome', 'Excellent Phone.', 'very good camera quality', 'iPhone 11 is a good phone. Not a very big difference between 12 except for the OLED screen and a very minor camera improvement which is you cant make a difference. If you are planning for a iPhone and you have budget you definitely can go for this without second thoughts.\\nNow some people are complaining and giving review 0 or so because there is no charger and headphones, but thats been already mentioned so I assume they are illiterate. Its not that Flipkart is removing them duh. Anyways bee...', 'NYC', 'It’s very good battery life and display and video quality and ther performance of iPhone.....🔥🔥🌈', 'Value for money 🖤🖤', 'Go for iPhone 11 , if confused between iPhone 11 or iPhone 12 mini.Battery Life is enhanced , it worked for complete 2 days without charging it. Explored new features of taking screenshot by clicking on apple logo by Haptic Touch , Portrait mode with stage effect enhanced & slow motion selfie.', 'Good product 👌I love iPhone', 'Really satisfied with the Product I received... It’s totally genuine and the packaging was also really good so if ur planning to buy just go for it.', 'V Good all', 'iPhone 11 is a good phone. Not a very big difference between 12 except for the OLED screen and a very minor camera improvement which is you cant make a difference. If you are planning for a iPhone and you have budget you definitely can go for this without second thoughts.\\nNow some people are complaining and giving review 0 or so because there is no charger and headphones, but thats been already mentioned so I assume they are illiterate. Its not that Flipkart is removing them duh. Anyways bee...', 'This is amazing at all', 'Camera is awesome\\nBest battery backup\\nA performer 👌🏻\\nIt will be a real value for money if they provide charger and earphone inbox!', 'Very very good', 'Good Camera', 'Feeling awesome after getting the delivery of my phone. Dual speakers makes the sound quality very loud. Amazing!!', 'Photos super', 'Value for money 😍', 'Perfect Product!!', 'It’s really awesome', 'Excellent Phone.', 'very good camera quality', 'iPhone 11 is a good phone. Not a very big difference between 12 except for the OLED screen and a very minor camera improvement which is you cant make a difference. If you are planning for a iPhone and you have budget you definitely can go for this without second thoughts.\\nNow some people are complaining and giving review 0 or so because there is no charger and headphones, but thats been already mentioned so I assume they are illiterate. Its not that Flipkart is removing them duh. Anyways bee...', 'NYC', 'It’s very good battery life and display and video quality and ther performance of iPhone.....🔥🔥🌈', 'Value for money 🖤🖤', 'Go for iPhone 11 , if confused between iPhone 11 or iPhone 12 mini.Battery Life is enhanced , it worked for complete 2 days without charging it. Explored new features of taking screenshot by clicking on apple logo by Haptic Touch , Portrait mode with stage effect enhanced & slow motion selfie.', 'Good product 👌I love iPhone', 'Really satisfied with the Product I received... It’s totally genuine and the packaging was also really good so if ur planning to buy just go for it.', 'V Good all', 'iPhone 11 is a good phone. Not a very big difference between 12 except for the OLED screen and a very minor camera improvement which is you cant make a difference. If you are planning for a iPhone and you have budget you definitely can go for this without second thoughts.\\nNow some people are complaining and giving review 0 or so because there is no charger and headphones, but thats been already mentioned so I assume they are illiterate. Its not that Flipkart is removing them duh. Anyways bee...', 'This is amazing at all', 'Camera is awesome\\nBest battery backup\\nA performer 👌🏻\\nIt will be a real value for money if they provide charger and earphone inbox!', 'Very very good', 'Good Camera', 'Feeling awesome after getting the delivery of my phone. Dual speakers makes the sound quality very loud. Amazing!!', 'Photos super', 'Value for money 😍', 'Perfect Product!!', 'It’s really awesome', 'Excellent Phone.', 'very good camera quality', 'iPhone 11 is a good phone. Not a very big difference between 12 except for the OLED screen and a very minor camera improvement which is you cant make a difference. If you are planning for a iPhone and you have budget you definitely can go for this without second thoughts.\\nNow some people are complaining and giving review 0 or so because there is no charger and headphones, but thats been already mentioned so I assume they are illiterate. Its not that Flipkart is removing them duh. Anyways bee...', 'NYC', 'It’s very good battery life and display and video quality and ther performance of iPhone.....🔥🔥🌈', 'Value for money 🖤🖤', 'Go for iPhone 11 , if confused between iPhone 11 or iPhone 12 mini.Battery Life is enhanced , it worked for complete 2 days without charging it. Explored new features of taking screenshot by clicking on apple logo by Haptic Touch , Portrait mode with stage effect enhanced & slow motion selfie.', 'Good product 👌I love iPhone', 'Really satisfied with the Product I received... It’s totally genuine and the packaging was also really good so if ur planning to buy just go for it.', 'V Good all', 'iPhone 11 is a good phone. Not a very big difference between 12 except for the OLED screen and a very minor camera improvement which is you cant make a difference. If you are planning for a iPhone and you have budget you definitely can go for this without second thoughts.\\nNow some people are complaining and giving review 0 or so because there is no charger and headphones, but thats been already mentioned so I assume they are illiterate. Its not that Flipkart is removing them duh. Anyways bee...', 'This is amazing at all', 'Camera is awesome\\nBest battery backup\\nA performer 👌🏻\\nIt will be a real value for money if they provide charger and earphone inbox!', 'Very very good', 'Good Camera', 'Feeling awesome after getting the delivery of my phone. Dual speakers makes the sound quality very loud. Amazing!!', 'Photos super', 'Value for money 😍', 'Perfect Product!!', 'It’s really awesome', 'Excellent Phone.', 'very good camera quality', 'iPhone 11 is a good phone. Not a very big difference between 12 except for the OLED screen and a very minor camera improvement which is you cant make a difference. If you are planning for a iPhone and you have budget you definitely can go for this without second thoughts.\\nNow some people are complaining and giving review 0 or so because there is no charger and headphones, but thats been already mentioned so I assume they are illiterate. Its not that Flipkart is removing them duh. Anyways bee...', 'NYC', 'It’s very good battery life and display and video quality and ther performance of iPhone.....🔥🔥🌈', 'Value for money 🖤🖤', 'Go for iPhone 11 , if confused between iPhone 11 or iPhone 12 mini.Battery Life is enhanced , it worked for complete 2 days without charging it. Explored new features of taking screenshot by clicking on apple logo by Haptic Touch , Portrait mode with stage effect enhanced & slow motion selfie.', 'Good product 👌I love iPhone', 'Really satisfied with the Product I received... It’s totally genuine and the packaging was also really good so if ur planning to buy just go for it.', 'V Good all', 'iPhone 11 is a good phone. Not a very big difference between 12 except for the OLED screen and a very minor camera improvement which is you cant make a difference. If you are planning for a iPhone and you have budget you definitely can go for this without second thoughts.\\nNow some people are complaining and giving review 0 or so because there is no charger and headphones, but thats been already mentioned so I assume they are illiterate. Its not that Flipkart is removing them duh. Anyways bee...', 'This is amazing at all', 'Camera is awesome\\nBest battery backup\\nA performer 👌🏻\\nIt will be a real value for money if they provide charger and earphone inbox!', 'Very very good', 'Good Camera', 'Feeling awesome after getting the delivery of my phone. Dual speakers makes the sound quality very loud. Amazing!!', 'Photos super', 'Value for money 😍', 'Perfect Product!!', 'It’s really awesome', 'Excellent Phone.', 'very good camera quality', 'iPhone 11 is a good phone. Not a very big difference between 12 except for the OLED screen and a very minor camera improvement which is you cant make a difference. If you are planning for a iPhone and you have budget you definitely can go for this without second thoughts.\\nNow some people are complaining and giving review 0 or so because there is no charger and headphones, but thats been already mentioned so I assume they are illiterate. Its not that Flipkart is removing them duh. Anyways bee...', 'NYC', 'It’s very good battery life and display and video quality and ther performance of iPhone.....🔥🔥🌈', 'Value for money 🖤🖤', 'Go for iPhone 11 , if confused between iPhone 11 or iPhone 12 mini.Battery Life is enhanced , it worked for complete 2 days without charging it. Explored new features of taking screenshot by clicking on apple logo by Haptic Touch , Portrait mode with stage effect enhanced & slow motion selfie.', 'Good product 👌I love iPhone', 'Really satisfied with the Product I received... It’s totally genuine and the packaging was also really good so if ur planning to buy just go for it.', 'V Good all', 'iPhone 11 is a good phone. Not a very big difference between 12 except for the OLED screen and a very minor camera improvement which is you cant make a difference. If you are planning for a iPhone and you have budget you definitely can go for this without second thoughts.\\nNow some people are complaining and giving review 0 or so because there is no charger and headphones, but thats been already mentioned so I assume they are illiterate. Its not that Flipkart is removing them duh. Anyways bee...', 'This is amazing at all', 'Camera is awesome\\nBest battery backup\\nA performer 👌🏻\\nIt will be a real value for money if they provide charger and earphone inbox!', 'Very very good', 'Good Camera', 'Feeling awesome after getting the delivery of my phone. Dual speakers makes the sound quality very loud. Amazing!!', 'Photos super', 'Value for money 😍', 'Perfect Product!!', 'It’s really awesome', 'Excellent Phone.', 'very good camera quality', 'iPhone 11 is a good phone. Not a very big difference between 12 except for the OLED screen and a very minor camera improvement which is you cant make a difference. If you are planning for a iPhone and you have budget you definitely can go for this without second thoughts.\\nNow some people are complaining and giving review 0 or so because there is no charger and headphones, but thats been already mentioned so I assume they are illiterate. Its not that Flipkart is removing them duh. Anyways bee...', 'NYC', 'It’s very good battery life and display and video quality and ther performance of iPhone.....🔥🔥🌈', 'Value for money 🖤🖤', 'Go for iPhone 11 , if confused between iPhone 11 or iPhone 12 mini.Battery Life is enhanced , it worked for complete 2 days without charging it. Explored new features of taking screenshot by clicking on apple logo by Haptic Touch , Portrait mode with stage effect enhanced & slow motion selfie.', 'Good product 👌I love iPhone', 'Really satisfied with the Product I received... It’s totally genuine and the packaging was also really good so if ur planning to buy just go for it.', 'V Good all', 'iPhone 11 is a good phone. Not a very big difference between 12 except for the OLED screen and a very minor camera improvement which is you cant make a difference. If you are planning for a iPhone and you have budget you definitely can go for this without second thoughts.\\nNow some people are complaining and giving review 0 or so because there is no charger and headphones, but thats been already mentioned so I assume they are illiterate. Its not that Flipkart is removing them duh. Anyways bee...', 'This is amazing at all', 'Camera is awesome\\nBest battery backup\\nA performer 👌🏻\\nIt will be a real value for money if they provide charger and earphone inbox!', 'Very very good', 'Good Camera', 'Feeling awesome after getting the delivery of my phone. Dual speakers makes the sound quality very loud. Amazing!!', 'Photos super', 'Value for money 😍', 'Perfect Product!!', 'It’s really awesome', 'Excellent Phone.', 'very good camera quality', 'iPhone 11 is a good phone. Not a very big difference between 12 except for the OLED screen and a very minor camera improvement which is you cant make a difference. If you are planning for a iPhone and you have budget you definitely can go for this without second thoughts.\\nNow some people are complaining and giving review 0 or so because there is no charger and headphones, but thats been already mentioned so I assume they are illiterate. Its not that Flipkart is removing them duh. Anyways bee...', 'NYC', 'It’s very good battery life and display and video quality and ther performance of iPhone.....🔥🔥🌈', 'Value for money 🖤🖤', 'Go for iPhone 11 , if confused between iPhone 11 or iPhone 12 mini.Battery Life is enhanced , it worked for complete 2 days without charging it. Explored new features of taking screenshot by clicking on apple logo by Haptic Touch , Portrait mode with stage effect enhanced & slow motion selfie.', 'Good product 👌I love iPhone', 'Really satisfied with the Product I received... It’s totally genuine and the packaging was also really good so if ur planning to buy just go for it.', 'It’s really awesome', 'Excellent Phone.', 'very good camera quality', 'iPhone 11 is a good phone. Not a very big difference between 12 except for the OLED screen and a very minor camera improvement which is you cant make a difference. If you are planning for a iPhone and you have budget you definitely can go for this without second thoughts.\\nNow some people are complaining and giving review 0 or so because there is no charger and headphones, but thats been already mentioned so I assume they are illiterate. Its not that Flipkart is removing them duh. Anyways bee...', 'NYC', 'It’s very good battery life and display and video quality and ther performance of iPhone.....🔥🔥🌈', 'Value for money 🖤🖤', 'Go for iPhone 11 , if confused between iPhone 11 or iPhone 12 mini.Battery Life is enhanced , it worked for complete 2 days without charging it. Explored new features of taking screenshot by clicking on apple logo by Haptic Touch , Portrait mode with stage effect enhanced & slow motion selfie.', 'Good product 👌I love iPhone', 'Really satisfied with the Product I received... It’s totally genuine and the packaging was also really good so if ur planning to buy just go for it.', 'V Good all', 'iPhone 11 is a good phone. Not a very big difference between 12 except for the OLED screen and a very minor camera improvement which is you cant make a difference. If you are planning for a iPhone and you have budget you definitely can go for this without second thoughts.\\nNow some people are complaining and giving review 0 or so because there is no charger and headphones, but thats been already mentioned so I assume they are illiterate. Its not that Flipkart is removing them duh. Anyways bee...', 'This is amazing at all', 'Camera is awesome\\nBest battery backup\\nA performer 👌🏻\\nIt will be a real value for money if they provide charger and earphone inbox!', 'Very very good', 'Good Camera', 'Feeling awesome after getting the delivery of my phone. Dual speakers makes the sound quality very loud. Amazing!!', 'Photos super', 'Value for money 😍', 'Perfect Product!!', 'It’s really awesome', 'Excellent Phone.', 'very good camera quality', 'iPhone 11 is a good phone. Not a very big difference between 12 except for the OLED screen and a very minor camera improvement which is you cant make a difference. If you are planning for a iPhone and you have budget you definitely can go for this without second thoughts.\\nNow some people are complaining and giving review 0 or so because there is no charger and headphones, but thats been already mentioned so I assume they are illiterate. Its not that Flipkart is removing them duh. Anyways bee...', 'NYC', 'It’s very good battery life and display and video quality and ther performance of iPhone.....🔥🔥🌈', 'Value for money 🖤🖤', 'Go for iPhone 11 , if confused between iPhone 11 or iPhone 12 mini.Battery Life is enhanced , it worked for complete 2 days without charging it. Explored new features of taking screenshot by clicking on apple logo by Haptic Touch , Portrait mode with stage effect enhanced & slow motion selfie.', 'Good product 👌I love iPhone', 'Really satisfied with the Product I received... It’s totally genuine and the packaging was also really good so if ur planning to buy just go for it.', 'V Good all', 'iPhone 11 is a good phone. Not a very big difference between 12 except for the OLED screen and a very minor camera improvement which is you cant make a difference. If you are planning for a iPhone and you have budget you definitely can go for this without second thoughts.\\nNow some people are complaining and giving review 0 or so because there is no charger and headphones, but thats been already mentioned so I assume they are illiterate. Its not that Flipkart is removing them duh. Anyways bee...', 'This is amazing at all', 'Camera is awesome\\nBest battery backup\\nA performer 👌🏻\\nIt will be a real value for money if they provide charger and earphone inbox!', 'Very very good', 'Good Camera', 'Feeling awesome after getting the delivery of my phone. Dual speakers makes the sound quality very loud. Amazing!!', 'Photos super', 'Value for money 😍', 'Perfect Product!!', 'It’s really awesome', 'Excellent Phone.', 'very good camera quality', 'iPhone 11 is a good phone. Not a very big difference between 12 except for the OLED screen and a very minor camera improvement which is you cant make a difference. If you are planning for a iPhone and you have budget you definitely can go for this without second thoughts.\\nNow some people are complaining and giving review 0 or so because there is no charger and headphones, but thats been already mentioned so I assume they are illiterate. Its not that Flipkart is removing them duh. Anyways bee...', 'NYC', 'It’s very good battery life and display and video quality and ther performance of iPhone.....🔥🔥🌈', 'Value for money 🖤🖤', 'Go for iPhone 11 , if confused between iPhone 11 or iPhone 12 mini.Battery Life is enhanced , it worked for complete 2 days without charging it. Explored new features of taking screenshot by clicking on apple logo by Haptic Touch , Portrait mode with stage effect enhanced & slow motion selfie.', 'Good product 👌I love iPhone', 'Really satisfied with the Product I received... It’s totally genuine and the packaging was also really good so if ur planning to buy just go for it.', 'V Good all', 'iPhone 11 is a good phone. Not a very big difference between 12 except for the OLED screen and a very minor camera improvement which is you cant make a difference. If you are planning for a iPhone and you have budget you definitely can go for this without second thoughts.\\nNow some people are complaining and giving review 0 or so because there is no charger and headphones, but thats been already mentioned so I assume they are illiterate. Its not that Flipkart is removing them duh. Anyways bee...', 'This is amazing at all', 'Camera is awesome\\nBest battery backup\\nA performer 👌🏻\\nIt will be a real value for money if they provide charger and earphone inbox!', 'Very very good', 'Good Camera', 'Feeling awesome after getting the delivery of my phone. Dual speakers makes the sound quality very loud. Amazing!!', 'Photos super', 'Value for money 😍', 'Perfect Product!!', 'It’s really awesome', 'Excellent Phone.', 'very good camera quality', 'iPhone 11 is a good phone. Not a very big difference between 12 except for the OLED screen and a very minor camera improvement which is you cant make a difference. If you are planning for a iPhone and you have budget you definitely can go for this without second thoughts.\\nNow some people are complaining and giving review 0 or so because there is no charger and headphones, but thats been already mentioned so I assume they are illiterate. Its not that Flipkart is removing them duh. Anyways bee...', 'NYC', 'It’s very good battery life and display and video quality and ther performance of iPhone.....🔥🔥🌈', 'Value for money 🖤🖤', 'Go for iPhone 11 , if confused between iPhone 11 or iPhone 12 mini.Battery Life is enhanced , it worked for complete 2 days without charging it. Explored new features of taking screenshot by clicking on apple logo by Haptic Touch , Portrait mode with stage effect enhanced & slow motion selfie.', 'Good product 👌I love iPhone', 'Really satisfied with the Product I received... It’s totally genuine and the packaging was also really good so if ur planning to buy just go for it.']\n"
     ]
    }
   ],
   "source": [
    "start = 0\n",
    "end = 7\n",
    "for page in range(start,end):\n",
    "    ful_revi=driver_3.find_elements(By.XPATH,'//div[@class=\"t-ZTKy\"]/div/div')\n",
    "    for i in ful_revi:\n",
    "        Full_Revi_.append(i.text)\n",
    "        \n",
    "    try:\n",
    "        next_button_3 = driver_3.find_element(By.XPATH,'//a[@class=\"_1LKTO3\"]/span')\n",
    "        next_button_3.click()\n",
    "        time.sleep(3)\n",
    "    except NoSuchElementException:\n",
    "        break\n",
    "print(Full_Revi_)        "
   ]
  },
  {
   "cell_type": "code",
   "execution_count": 2,
   "id": "fac9aad9",
   "metadata": {},
   "outputs": [],
   "source": [
    "# Question - 6 :\n",
    "driver_6 = webdriver.Chrome()"
   ]
  },
  {
   "cell_type": "code",
   "execution_count": 3,
   "id": "090fb298",
   "metadata": {},
   "outputs": [],
   "source": [
    "driver_6.get('https://www.flipkart.com/')"
   ]
  },
  {
   "cell_type": "code",
   "execution_count": 4,
   "id": "dd3d684c",
   "metadata": {},
   "outputs": [],
   "source": [
    "designation_6=driver_6.find_element(By.CLASS_NAME,'Pke_EE')\n",
    "designation_6.send_keys('sneakers')"
   ]
  },
  {
   "cell_type": "code",
   "execution_count": 5,
   "id": "69a2d542",
   "metadata": {},
   "outputs": [],
   "source": [
    "search_6=driver_6.find_element(By.XPATH,'//div[@class=\"_1sFryS _2alaMB\"]/button')\n",
    "search_6.click()"
   ]
  },
  {
   "cell_type": "code",
   "execution_count": 6,
   "id": "36222574",
   "metadata": {},
   "outputs": [],
   "source": [
    "BRAND = []\n",
    "PRICE = []\n",
    "PROD_DESCP = []"
   ]
  },
  {
   "cell_type": "code",
   "execution_count": 12,
   "id": "a3b4d8d1",
   "metadata": {},
   "outputs": [],
   "source": [
    "brand_tag=driver_6.find_elements(By.XPATH,'//div[@class=\"_2WkVRV\"]')\n",
    "for i in brand_tag:\n",
    "    brand_ =i.text\n",
    "    BRAND.append(brand_)"
   ]
  },
  {
   "cell_type": "code",
   "execution_count": 13,
   "id": "dca19f33",
   "metadata": {},
   "outputs": [],
   "source": [
    "price_tag=driver_6.find_elements(By.XPATH,'//div[@class=\"_30jeq3\"]')\n",
    "for i in price_tag:\n",
    "    price_=i.text\n",
    "    PRICE.append(price_)"
   ]
  },
  {
   "cell_type": "code",
   "execution_count": 14,
   "id": "50b0a637",
   "metadata": {},
   "outputs": [
    {
     "name": "stdout",
     "output_type": "stream",
     "text": [
      "40 40\n"
     ]
    }
   ],
   "source": [
    "print(len(BRAND), len(PRICE))"
   ]
  },
  {
   "cell_type": "code",
   "execution_count": 15,
   "id": "0aa652fe",
   "metadata": {},
   "outputs": [
    {
     "data": {
      "text/plain": [
       "['Combo pack of 2 Trendy Sneaker Shoes Walking Shoes Snea...',\n",
       " 'Ultralightweight Premium Comfort Trendy Outdoor shoes f...',\n",
       " 'Sneakers For Women',\n",
       " 'Trending Stylish Casual Outdoor Shoes Sneakers For Men',\n",
       " 'Casual Sneaker Shoes for Men | Soft Cushioned Insole, S...',\n",
       " 'Casual Sneaker Shoes for Men | Soft Cushioned Insole, S...',\n",
       " 'Sneakers For Women',\n",
       " 'Sneakers For Men',\n",
       " 'Trendy & Stylish Sneakers For Men',\n",
       " 'Trendy & Stylish Sneakers For Men']"
      ]
     },
     "execution_count": 15,
     "metadata": {},
     "output_type": "execute_result"
    }
   ],
   "source": [
    "produ_descp_tag=driver_6.find_elements(By.CLASS_NAME,'IRpwTa')\n",
    "for i in produ_descp_tag:\n",
    "    if i.text is None:\n",
    "        PROD_DESCP.append('Not')\n",
    "    else:\n",
    "        PROD_DESCP.append(i.text)\n",
    "PROD_DESCP[0:10]        "
   ]
  },
  {
   "cell_type": "code",
   "execution_count": 16,
   "id": "8d390778",
   "metadata": {},
   "outputs": [
    {
     "name": "stdout",
     "output_type": "stream",
     "text": [
      "40\n"
     ]
    }
   ],
   "source": [
    "print(len(PROD_DESCP))"
   ]
  },
  {
   "cell_type": "code",
   "execution_count": 17,
   "id": "5c2c1b7d",
   "metadata": {},
   "outputs": [],
   "source": [
    "BRANDS = []"
   ]
  },
  {
   "cell_type": "code",
   "execution_count": 22,
   "id": "057e2d2e",
   "metadata": {},
   "outputs": [],
   "source": [
    "start = 0\n",
    "end = 3\n",
    "for page in range(start,end):\n",
    "    if page >= end:\n",
    "        break\n",
    "    brand_1 = driver_6.find_elements(By.XPATH,'//div[@class=\"_2WkVRV\"]') \n",
    "    for i in brand_1:\n",
    "        BRANDS.append(i.text)\n",
    "    next_button_6 = driver_6.find_element(By.XPATH,'//a[@class=\"_1LKTO3\"]/span')\n",
    "    next_button_6.click()\n",
    "    time.sleep(3)"
   ]
  },
  {
   "cell_type": "code",
   "execution_count": 23,
   "id": "c3a04f40",
   "metadata": {},
   "outputs": [
    {
     "name": "stdout",
     "output_type": "stream",
     "text": [
      "['BRUTON', 'Peelu', 'Deals4you', 'URBANBOX', 'RED TAPE', 'RED TAPE', 'Shoe Lab', 'lejano', 'HOTSTYLE', 'HOTSTYLE', 'TR', 'Layasa', 'RED TAPE', 'RED TAPE', 'HOTSTYLE', 'ATOM', 'BRUTON', 'BRUTON', 'Shoe Lab', 'PUMA', 'BRUTON', 'BRUTON', 'BRUTON', 'RED TAPE', 'RED TAPE', 'RED TAPE', 'BRUTON', 'BRUTON', 'RED TAPE', 'RED TAPE', 'BRUTON', 'BRUTON', 'Layasa', 'RED TAPE', 'Theme United', 'U.S. POLO ASSN.', 'BRUTON', 'BRUTON', 'HOTSTYLE', 'PUMA', 'BRUTON', 'Peelu', 'UNDER ARMOUR', 'Skechers', 'kardam&sons', 'aadi', 'lejano', 'TR', 'RED TAPE', 'RED TAPE', 'Layasa', 'BRUTON', 'HRX by Hrithik Roshan', 'HOTSTYLE', 'RED TAPE', 'aadi', 'BRUTON', 'BRUTON', 'PUMA', 'Robbie jones', 'BRUTON', 'BRUTON', 'RED TAPE', 'RED TAPE', 'RED TAPE', 'RED TAPE', 'BRUTON', 'BRUTON', 'WOODLAND', 'Deals4you', 'BRUTON', 'BRUTON', 'RED TAPE', 'RED TAPE', 'RED TAPE', 'aadi', 'BRUTON', 'BRUTON', 'Abros', 'PUMA', 'BRUTON', 'Peelu', 'Deals4you', 'URBANBOX', 'RED TAPE', 'RED TAPE', 'Shoe Lab', 'lejano', 'HOTSTYLE', 'HOTSTYLE', 'TR', 'Layasa', 'RED TAPE', 'RED TAPE', 'HOTSTYLE', 'ATOM', 'BRUTON', 'BRUTON', 'Shoe Lab', 'PUMA', 'BRUTON', 'BRUTON', 'BRUTON', 'RED TAPE', 'RED TAPE', 'RED TAPE', 'BRUTON', 'BRUTON', 'Layasa', 'RED TAPE', 'BRUTON', 'BRUTON', 'RED TAPE', 'RED TAPE', 'Shoe Lab', 'U.S. POLO ASSN.', 'BRUTON', 'BRUTON', 'HOTSTYLE', 'RED TAPE', 'lejano', 'TR', 'UNDER ARMOUR', 'Skechers', 'kardam&sons', 'aadi', 'Layasa', 'BRUTON', 'RED TAPE', 'RED TAPE', 'BRUTON', 'BRUTON', 'HRX by Hrithik Roshan', 'HOTSTYLE', 'RED TAPE', 'aadi', 'BRUTON', 'BRUTON', 'PUMA', 'Robbie jones', 'BRUTON', 'BRUTON', 'RED TAPE', 'RED TAPE', 'RED TAPE', 'RED TAPE', 'BRUTON', 'BRUTON', 'WOODLAND', 'Deals4you', 'BRUTON', 'BRUTON', 'RED TAPE', 'RED TAPE', 'RED TAPE', 'aadi', 'BRUTON', 'VECHLO', 'Abros', 'PUMA', 'TR', 'Layasa', 'Deals4you', 'URBANBOX', 'RED TAPE', 'RED TAPE', 'Shoe Lab', 'lejano', 'HOTSTYLE', 'HOTSTYLE', 'BRUTON', 'BRUTON', 'RED TAPE', 'RED TAPE', 'HOTSTYLE', 'ATOM', 'BRUTON', 'BRUTON', 'Shoe Lab', 'PUMA', 'BRUTON', 'BRUTON', 'BRUTON', 'RED TAPE', 'RED TAPE', 'RED TAPE', 'BRUTON', 'BRUTON', 'Layasa', 'RED TAPE', 'World Wear Footwear', 'BRUTON', 'RED TAPE', 'RED TAPE', 'Shoe Lab', 'U.S. POLO ASSN.', 'BRUTON', 'BRUTON', 'HOTSTYLE', 'RED TAPE', 'lejano', 'BRUTON', 'UNDER ARMOUR', 'Skechers', 'kardam&sons', 'aadi', 'BRUTON', 'BRUTON', 'RED TAPE', 'RED TAPE', 'BRUTON', 'BRUTON', 'HRX by Hrithik Roshan', 'HOTSTYLE', 'RED TAPE', 'aadi', 'BRUTON', 'BRUTON', 'PUMA', 'Robbie jones', 'BRUTON', 'World Wear Footwear', 'RED TAPE', 'RED TAPE', 'RED TAPE', 'RED TAPE', 'BRUTON', 'BRUTON', 'WOODLAND', 'Deals4you', 'BRUTON', 'VECHLO', 'RED TAPE', 'RED TAPE', 'RED TAPE', 'aadi', 'BRUTON', 'aadi', 'Abros', 'PUMA', 'TR', 'Layasa', 'Deals4you', 'URBANBOX', 'RED TAPE', 'RED TAPE', 'Shoe Lab', 'lejano', 'HOTSTYLE', 'HOTSTYLE', 'BRUTON', 'BRUTON', 'RED TAPE', 'RED TAPE', 'HOTSTYLE', 'ATOM', 'BRUTON', 'BRUTON', 'Shoe Lab', 'PUMA', 'BRUTON', 'BRUTON', 'BRUTON', 'RED TAPE', 'RED TAPE', 'RED TAPE', 'BRUTON', 'BRUTON', 'Layasa', 'RED TAPE', 'World Wear Footwear', 'BRUTON', 'RED TAPE', 'RED TAPE', 'Shoe Lab', 'U.S. POLO ASSN.', 'BRUTON', 'BRUTON', 'HOTSTYLE', 'RED TAPE', 'TR', 'Layasa', 'Deals4you', 'URBANBOX', 'RED TAPE', 'RED TAPE', 'Shoe Lab', 'lejano', 'HOTSTYLE', 'HOTSTYLE', 'BRUTON', 'BRUTON', 'RED TAPE', 'RED TAPE', 'HOTSTYLE', 'ATOM', 'BRUTON', 'BRUTON', 'Shoe Lab', 'PUMA', 'BRUTON', 'BRUTON', 'BRUTON', 'RED TAPE', 'RED TAPE', 'RED TAPE', 'BRUTON', 'BRUTON', 'Layasa', 'RED TAPE', 'World Wear Footwear', 'BRUTON', 'RED TAPE', 'RED TAPE', 'Shoe Lab', 'U.S. POLO ASSN.', 'BRUTON', 'BRUTON', 'HOTSTYLE', 'RED TAPE', 'lejano', 'BRUTON', 'UNDER ARMOUR', 'Skechers', 'kardam&sons', 'aadi', 'BRUTON', 'BRUTON', 'RED TAPE', 'RED TAPE', 'BRUTON', 'BRUTON', 'HRX by Hrithik Roshan', 'HOTSTYLE', 'RED TAPE', 'aadi', 'BRUTON', 'BRUTON', 'PUMA', 'Robbie jones', 'BRUTON', 'World Wear Footwear', 'RED TAPE', 'RED TAPE', 'RED TAPE', 'RED TAPE', 'BRUTON', 'BRUTON', 'WOODLAND', 'Deals4you', 'VECHLO', 'BRUTON', 'RED TAPE', 'RED TAPE', 'RED TAPE', 'aadi', 'BRUTON', 'aadi', 'Abros', 'PUMA', 'TR', 'Layasa', 'Deals4you', 'URBANBOX', 'RED TAPE', 'RED TAPE', 'Shoe Lab', 'lejano', 'HOTSTYLE', 'HOTSTYLE', 'BRUTON', 'BRUTON', 'RED TAPE', 'RED TAPE', 'HOTSTYLE', 'ATOM', 'BRUTON', 'BRUTON', 'Shoe Lab', 'PUMA', 'BRUTON', 'BRUTON', 'BRUTON', 'RED TAPE', 'RED TAPE', 'RED TAPE', 'BRUTON', 'BRUTON', 'Layasa', 'RED TAPE', 'World Wear Footwear', 'BRUTON', 'RED TAPE', 'RED TAPE', 'Shoe Lab', 'U.S. POLO ASSN.', 'BRUTON', 'BRUTON', 'HOTSTYLE', 'RED TAPE']\n"
     ]
    }
   ],
   "source": [
    "print(BRANDS)"
   ]
  },
  {
   "cell_type": "code",
   "execution_count": 24,
   "id": "298cacbc",
   "metadata": {},
   "outputs": [],
   "source": [
    "PRICES = []"
   ]
  },
  {
   "cell_type": "code",
   "execution_count": 25,
   "id": "741ada9b",
   "metadata": {},
   "outputs": [],
   "source": [
    "start = 0\n",
    "end = 3\n",
    "for page in range(start,end):\n",
    "    if page >= end:\n",
    "        break\n",
    "    price_1 = driver_6.find_elements(By.XPATH,'//div[@class=\"_30jeq3\"]')\n",
    "    for i in price_1:\n",
    "        PRICES.append(i.text)\n",
    "    next_button_6 = driver_6.find_element(By.XPATH,'//a[@class=\"_1LKTO3\"]/span')\n",
    "    next_button_6.click()\n",
    "    time.sleep(3)    "
   ]
  },
  {
   "cell_type": "code",
   "execution_count": 26,
   "id": "4680fec4",
   "metadata": {},
   "outputs": [
    {
     "name": "stdout",
     "output_type": "stream",
     "text": [
      "['₹430', '₹445', '₹2,879', '₹3,047', '₹409', '₹299', '₹299', '₹549', '₹1,079', '₹1,209', '₹299', '₹299', '₹1,036', '₹288', '₹1,517', '₹299', '₹549', '₹549', '₹1,569', '₹449', '₹549', '₹299', '₹1,231', '₹1,139', '₹1,429', '₹1,275', '₹549', '₹549', '₹1,639', '₹299', '₹549', '₹567', '₹1,231', '₹1,517', '₹1,517', '₹385', '₹299', '₹384', '₹835', '₹1,934', '₹325', '₹430', '₹299', '₹299', '₹1,737', '₹1,253', '₹399', '₹445', '₹260', '₹260', '₹299', '₹549', '₹1,187', '₹1,517', '₹260', '₹1,108', '₹299', '₹299', '₹399', '₹1,749', '₹549', '₹549', '₹299', '₹1,253', '₹1,079', '₹1,231', '₹549', '₹299', '₹469', '₹1,737', '₹419', '₹549', '₹1,187', '₹1,429', '₹399', '₹1,339', '₹549', '₹549', '₹260', '₹1,429', '₹445', '₹299', '₹2,879', '₹3,047', '₹409', '₹299', '₹549', '₹299', '₹1,079', '₹1,209', '₹299', '₹549', '₹1,036', '₹288', '₹1,517', '₹299', '₹549', '₹549', '₹1,569', '₹449', '₹299', '₹549', '₹1,231', '₹1,139', '₹1,429', '₹1,275', '₹549', '₹567', '₹1,639', '₹299', '₹549', '₹299', '₹1,231', '₹1,517', '₹1,517', '₹385', '₹384', '₹1,099', '₹835', '₹1,934']\n"
     ]
    }
   ],
   "source": [
    "print(PRICES)"
   ]
  },
  {
   "cell_type": "code",
   "execution_count": 27,
   "id": "d9aee85c",
   "metadata": {},
   "outputs": [],
   "source": [
    "PRODUC_DESCPR = []"
   ]
  },
  {
   "cell_type": "code",
   "execution_count": 28,
   "id": "5971455e",
   "metadata": {},
   "outputs": [],
   "source": [
    "start = 0\n",
    "end = 3\n",
    "for page in range(start,end):\n",
    "    if page >= end:\n",
    "        break\n",
    "    prod_desc_1 = driver_6.find_elements(By.CLASS_NAME,'IRpwTa')\n",
    "    for i in prod_desc_1:\n",
    "        PRODUC_DESCPR.append(i.text)\n",
    "    next_button_6 = driver_6.find_element(By.XPATH,'//a[@class=\"_1LKTO3\"]/span')\n",
    "    next_button_6.click()\n",
    "    time.sleep(3)    "
   ]
  },
  {
   "cell_type": "code",
   "execution_count": 29,
   "id": "3982bbf8",
   "metadata": {},
   "outputs": [
    {
     "name": "stdout",
     "output_type": "stream",
     "text": [
      "['Casual Shoes| Caual Sneakers| White Sneakers For Men Sn...', 'Sneakers For Women', 'Sneakers For Women', 'Trending Stylish Casual Outdoor Shoes Sneakers For Men', 'Casual Sneaker Shoes for Men | Soft Cushioned Insole, S...', 'Casual Sneaker Shoes for Men | Soft Cushioned Insole, S...', 'Sneakers For Women', 'Sneakers For Men', 'Trendy & Stylish Sneakers For Men', 'Trendy & Stylish Sneakers For Men', 'Modern Trendy Sneakers Shoes Sneakers For Men', 'Modern Trendy Sneakers Shoes Sneakers For Men', 'Sneaker Casual Shoes For Men | Soft Cushion Insole, Sli...', 'Sneaker Casual Shoes for Men | Soft Cushioned Insole, S...', 'Trendy & Stylish Sneakers For Men', 'Sneakers For Men', 'Combo pack of 2 Trendy Men’s Casual Shoes Sneakers For ...', 'Premium casual Shoes Sneakers For Men', 'Sneakers For Women', 'Shuffle Ultra Sneakers For Men', 'Modern Trendy Sneakers Shoes Sneakers For Men', 'Combo Pack Of 2 Casual Shoes Sneakers For Men', 'Modern Trendy Shoes Sneakers For Men', 'Casual Sneakers For Men | Comfortable, Shock Absorbant ...', 'Casual Sneaker Shoes for Women | Soft Cushioned Insole,...', 'Casual Sneaker Shoes for Men | Soft Cushioned Insole, S...', 'Combo pack of 2 Trendy Men’s Casual Shoes Sneakers For ...', '2 Combo Sneaker Shoes Sneakers For Men', 'Stylish Casual Sports Shoe Sneakers Sneakers For Women', 'Casual Sneaker Shoes for Men | Soft Cushioned Insole, S...', 'Latest Exclusive Affordable Collection of Trendy & Styl...', 'Combo Pack Of 2 Casual Shoes Sneakers For Men', 'Sneakers For Men', 'Casual Sneaker Shoes for Men | Soft Cushioned Insole, S...', 'Sneakers For Women', 'CLARKIN Sneakers For Men', 'Combo pack of 2 Sneakers for Shoes Sneakers For Men', '2 Combo Sneaker Shoes Sneakers For Men', 'Trendy & Stylish Sneakers For Men', 'Sneaker Casual Shoes for Men | Soft Cushioned Insole, S...', 'Sneakers For Men', 'Casual Shoes| Caual Sneakers| White Sneakers For Men Sn...', 'kardam&sons luxury fashionable casual sneaker boots Sne...', 'Sneaker Casual Shoes for Men | Soft Cushioned Insole, S...', 'Casual Sneaker Shoes For Women | Stylish and Comfortabl...', 'Sneakers For Men', 'Modern Trendy Sneakers Shoes Sneakers For Men', 'Combo pack of 2 Trendy Men’s Casual Shoes Sneakers For ...', 'ELITE FLEX Sneakers For Men', 'Sneakers For Men | Comfortable, Shock Absorbant & Slip-...', 'Modern Trendy Sneakers Shoes Sneakers For Men', 'Premium casual Shoes Sneakers For Men', 'Synthetic Leather |Lightweight|Comfort|Summer|Trendy|Wa...', 'Designer Sneakers For Men', 'Casual Sneaker Shoes For Women | Stylish and Comfortabl...', 'Rerooted Classics Sneakers For Men', 'Combo pack of 2 Trendy Men’s Casual Shoes Sneakers For ...', 'Modern Trendy Sneakers Shoes Sneakers For Men', 'Sneaker Casual Shoes for Men | Soft Cushioned Insole, S...', 'Lightweight,Comfort,Summer,Trendy,Walking,Outdoor,Styli...', 'Combo Pack Of 2 Casual Shoes Sneakers For Men', 'Latest Exclusive Affordable Collection of Trendy & Styl...', 'Casual Sneakers Colour Blocked Shoes For Boys And Men S...', 'Casual Sneaker Shoes For Men | Enhanced Comfort with Cu...', \"Sneaker Shoes For Men's - Elevated Comfort, Perfect Cas...\", 'Fire run Running Shoes For Men', '2 Combo Sneaker Shoes Sneakers For Men', 'Combo Pack Of 2 Casual Shoes Sneakers For Men', 'Casual Sneaker Shoes for Men | Soft Cushioned Insole, S...', 'Casual Sneaker Shoes for Men | Shock Absorbant, Slip Re...', 'Combo pack of 2 Sneakers for Shoes Sneakers For Men', 'Trendy | Sport |Fashion Sneaker | Gym | Running Shoe fo...', 'Sneakers For Men', 'Sneaker Casual Shoes for Men | Soft Cushioned Insole, S...', 'Sneakers For Men', 'Ultralightweight | Comfortable | Breathable Walking | O...', '2 Combo Sneaker Shoes Sneakers For Men', 'Sneakers For Men', 'CAVE-O Sneakers For Men', 'ST Runner v3 Mesh Sneakers For Men', 'Casual Shoes| Caual Sneakers| White Sneakers For Men Sn...', 'Sneakers For Women', 'Sneakers For Women', 'Trending Stylish Casual Outdoor Shoes Sneakers For Men', 'Casual Sneaker Shoes for Men | Soft Cushioned Insole, S...', 'Casual Sneaker Shoes for Men | Soft Cushioned Insole, S...', 'Sneakers For Women', 'Sneakers For Men', 'Trendy & Stylish Sneakers For Men', 'Trendy & Stylish Sneakers For Men', 'Modern Trendy Sneakers Shoes Sneakers For Men', 'Combo pack of 2 Trendy Men’s Casual Shoes Sneakers For ...', 'Sneaker Casual Shoes for Men | Soft Cushioned Insole, S...', 'Sneaker Casual Shoes For Men | Soft Cushion Insole, Sli...', 'Trendy & Stylish Sneakers For Men', 'Sneakers For Men', 'Modern Trendy Sneakers Shoes Sneakers For Men', 'Premium casual Shoes Sneakers For Men', 'Sneakers For Women', 'Shuffle Ultra Sneakers For Men', 'Combo pack of 2 Trendy Men’s Casual Shoes Sneakers For ...', 'Modern Trendy Sneakers Shoes Sneakers For Men', 'Modern Trendy Shoes Sneakers For Men', 'Casual Sneaker Shoes for Women | Soft Cushioned Insole,...', 'Casual Sneakers For Men | Comfortable, Shock Absorbant ...', 'Casual Sneaker Shoes for Men | Soft Cushioned Insole, S...', 'Combo Pack Of 2 Casual Shoes Sneakers For Men', 'Latest Exclusive Affordable Collection of Trendy & Styl...', 'Stylish Casual Sports Shoe Sneakers Sneakers For Women', 'Casual Sneaker Shoes for Men | Soft Cushioned Insole, S...', '2 Combo Sneaker Shoes Sneakers For Men', 'BIRDIE Sneakers For Women', 'Sneakers For Men', 'CLARKIN Sneakers For Men', 'Sneakers For Women', 'Casual Sneaker Shoes for Men | Soft Cushioned Insole, S...', 'Combo Pack Of 2 Casual Shoes Sneakers For Men', 'Combo pack of 2 Sneakers for Shoes Sneakers For Men', 'SiennaSoftrideBallerina Sneakers For Women', 'Trendy & Stylish Sneakers For Men']\n"
     ]
    }
   ],
   "source": [
    "print(PRODUC_DESCPR)"
   ]
  },
  {
   "cell_type": "code",
   "execution_count": 30,
   "id": "175379d8",
   "metadata": {},
   "outputs": [],
   "source": [
    "# Question - 10 :\n",
    "driver_10 = webdriver.Chrome()"
   ]
  },
  {
   "cell_type": "code",
   "execution_count": 31,
   "id": "e6728a14",
   "metadata": {},
   "outputs": [],
   "source": [
    "driver_10.get('https://www.motor1.com/')"
   ]
  },
  {
   "cell_type": "code",
   "execution_count": 41,
   "id": "689853e4",
   "metadata": {},
   "outputs": [],
   "source": [
    "designation_10=driver_10.find_element(By.XPATH,'/html/body/div[10]/div[2]/div/div/div[3]/div/div/button')\n",
    "designation_10.click()"
   ]
  },
  {
   "cell_type": "code",
   "execution_count": 44,
   "id": "6adfb2b6",
   "metadata": {},
   "outputs": [],
   "source": [
    "designation_10=driver_10.find_element(By.ID,'search_input')\n",
    "designation_10.send_keys('50 most expensive cars')"
   ]
  },
  {
   "cell_type": "code",
   "execution_count": 45,
   "id": "e8f4409f",
   "metadata": {},
   "outputs": [],
   "source": [
    "designation_10=driver_10.find_element(By.XPATH,'/html/body/div[10]/div[2]/div/div/div[3]/div/div/div/form/button[1]')\n",
    "designation_10.click()"
   ]
  },
  {
   "cell_type": "code",
   "execution_count": 48,
   "id": "c9fdb514",
   "metadata": {},
   "outputs": [],
   "source": [
    "top_50_search=driver_10.find_element(By.XPATH,'/html/body/div[10]/div[9]/div/div[1]/div/div/div[2]/div/div[1]')\n",
    "top_50_search.click()"
   ]
  },
  {
   "cell_type": "code",
   "execution_count": 49,
   "id": "acfc4ea5",
   "metadata": {},
   "outputs": [],
   "source": [
    "Cars_Name = []"
   ]
  },
  {
   "cell_type": "code",
   "execution_count": 51,
   "id": "373e16bd",
   "metadata": {},
   "outputs": [],
   "source": [
    "car_name_tag=driver_10.find_elements(By.XPATH,'//h3[@class=\"subheader\"][position() < 51]')\n",
    "for i in car_name_tag:\n",
    "    car_name_=i.text\n",
    "    Cars_Name.append(car_name_)"
   ]
  },
  {
   "cell_type": "code",
   "execution_count": 52,
   "id": "2d8eeb09",
   "metadata": {},
   "outputs": [
    {
     "name": "stdout",
     "output_type": "stream",
     "text": [
      "['Aston Martin Valour', 'McLaren Elva', 'Czinger 21C', 'Ferrari Monza', 'Gordon Murray T.33', 'Koenigsegg Gemera', 'Zenvo TSR-S', 'Hennessey Venom F5', 'Bentley Bacalar', 'Hispano Suiza Carmen Boulogne', 'Bentley Mulliner Batur', 'Deus Vayanne', 'SSC Tuatara', 'Lotus Evija', 'Aston Martin Vulcan', 'Delage D12', 'Ferrari Daytona SP3', 'McLaren Speedtail', 'Rimac Nevera', 'Pagani Utopia', 'Pininfarina Battista', 'Gordon Murray T.50', 'Lamborghini Countach', 'Mercedes-AMG Project One', 'Zenvo Aurora', 'Aston Martin Victor', 'Hennessey Venom F5 Roadster', 'Koenigsegg Jesko', 'Aston Martin Valkyrie', 'W Motors Lykan Hypersport', 'McLaren Solus', 'Lamborghini Sian', 'Koenigsegg CC850', 'Bugatti Chiron Super Sport 300+', 'Lamborghini Veneno', 'Bugatti Bolide', 'Pininfarina B95 Speedster', 'Bugatti Mistral', 'Pagani Huayra Imola', 'Bugatti Divo', 'SP Automotive Chaos', 'Pagani Codalunga', '777 Hypercar', 'Mercedes-Maybach Exelero', 'Bugatti Centodieci', 'Bugatti Chiron Profilée', 'Rolls-Royce Sweptail', 'Bugatti La Voiture Noire', 'Rolls-Royce Boat Tail*', 'Rolls-Royce La Rose Noire Droptail']\n"
     ]
    }
   ],
   "source": [
    "print(Cars_Name)"
   ]
  },
  {
   "cell_type": "code",
   "execution_count": 60,
   "id": "b309a356",
   "metadata": {},
   "outputs": [
    {
     "name": "stdout",
     "output_type": "stream",
     "text": [
      "['Price: $1.5 Million', 'Price: $1.7 Million', 'Price: $1.7 Million', 'Price: $1.7 Million', 'Price: $1.7 Million', 'Price: $1.7 Million', 'Price: $1.7 Million', 'Price: $1.8 Million', 'Price: $1.9 Million', 'Price: $1.9 Million', 'Price: $2.0 Million', 'Price: $2.0 Million', 'Price: $2.0 Million', 'Price: $2.1 Million', 'Price: $2.3 Million', 'Price: $2.3 Million', 'Price: $2.3 Million', 'Price: $2.3 Million', 'Price: $2.4 Million', 'Price: $2.5 Million', 'Price: $2.5 Million', 'Price: $2.6 Million', 'Price: $2.6 Million', 'Price: $2.7 Million', 'Price: $2.8 Million', 'Price: $3.0 Million', '$3.0 Million', 'Price: $3.0 Million', 'Price: $3.2 Million', 'Price: $3.4 Million', '$3.5 Million', 'Price: $3.6 million', 'Price: $3.7 Million', 'Price: $3.9 Million', 'Price: $4.5 Million', 'Price: $4.7 Million', 'Price: $4.8 Million', 'Price: $5.0 Million', 'Price: $5.4 Million', 'Price: $5.8 Million', 'Price: $6.4 Million', 'Price: $7.4 Million', 'Price: $7.5 Million', 'Price: $8.0 Million', 'Price: $9.0 Million', 'Price: $10.8 Million', 'Price: $12.8 Million', 'Price: $13.4 Million', 'Price: $28.0 Million (est.)', 'Price: $30 Million (est.)']\n"
     ]
    }
   ],
   "source": [
    "car_price_tags = driver_10.find_elements(By.XPATH, '//p/strong')\n",
    "\n",
    "cars_price = []\n",
    "\n",
    "for car_pri in car_price_tags:\n",
    "    car_price = car_pri.text\n",
    "    cars_price.append(car_price)\n",
    "\n",
    "print(cars_price)"
   ]
  },
  {
   "cell_type": "code",
   "execution_count": 63,
   "id": "43485ea0",
   "metadata": {},
   "outputs": [
    {
     "name": "stdout",
     "output_type": "stream",
     "text": [
      "                              Car Name                        Price\n",
      "0                  Aston Martin Valour          Price: $1.5 Million\n",
      "1                         McLaren Elva          Price: $1.7 Million\n",
      "2                          Czinger 21C          Price: $1.7 Million\n",
      "3                        Ferrari Monza          Price: $1.7 Million\n",
      "4                   Gordon Murray T.33          Price: $1.7 Million\n",
      "5                    Koenigsegg Gemera          Price: $1.7 Million\n",
      "6                          Zenvo TSR-S          Price: $1.7 Million\n",
      "7                   Hennessey Venom F5          Price: $1.8 Million\n",
      "8                      Bentley Bacalar          Price: $1.9 Million\n",
      "9        Hispano Suiza Carmen Boulogne          Price: $1.9 Million\n",
      "10              Bentley Mulliner Batur          Price: $2.0 Million\n",
      "11                        Deus Vayanne          Price: $2.0 Million\n",
      "12                         SSC Tuatara          Price: $2.0 Million\n",
      "13                         Lotus Evija          Price: $2.1 Million\n",
      "14                 Aston Martin Vulcan          Price: $2.3 Million\n",
      "15                          Delage D12          Price: $2.3 Million\n",
      "16                 Ferrari Daytona SP3          Price: $2.3 Million\n",
      "17                   McLaren Speedtail          Price: $2.3 Million\n",
      "18                        Rimac Nevera          Price: $2.4 Million\n",
      "19                       Pagani Utopia          Price: $2.5 Million\n",
      "20                Pininfarina Battista          Price: $2.5 Million\n",
      "21                  Gordon Murray T.50          Price: $2.6 Million\n",
      "22                Lamborghini Countach          Price: $2.6 Million\n",
      "23            Mercedes-AMG Project One          Price: $2.7 Million\n",
      "24                        Zenvo Aurora          Price: $2.8 Million\n",
      "25                 Aston Martin Victor          Price: $3.0 Million\n",
      "26         Hennessey Venom F5 Roadster                 $3.0 Million\n",
      "27                    Koenigsegg Jesko          Price: $3.0 Million\n",
      "28               Aston Martin Valkyrie          Price: $3.2 Million\n",
      "29           W Motors Lykan Hypersport          Price: $3.4 Million\n",
      "30                       McLaren Solus                 $3.5 Million\n",
      "31                    Lamborghini Sian          Price: $3.6 million\n",
      "32                    Koenigsegg CC850          Price: $3.7 Million\n",
      "33     Bugatti Chiron Super Sport 300+          Price: $3.9 Million\n",
      "34                  Lamborghini Veneno          Price: $4.5 Million\n",
      "35                      Bugatti Bolide          Price: $4.7 Million\n",
      "36           Pininfarina B95 Speedster          Price: $4.8 Million\n",
      "37                     Bugatti Mistral          Price: $5.0 Million\n",
      "38                 Pagani Huayra Imola          Price: $5.4 Million\n",
      "39                        Bugatti Divo          Price: $5.8 Million\n",
      "40                 SP Automotive Chaos          Price: $6.4 Million\n",
      "41                    Pagani Codalunga          Price: $7.4 Million\n",
      "42                        777 Hypercar          Price: $7.5 Million\n",
      "43            Mercedes-Maybach Exelero          Price: $8.0 Million\n",
      "44                  Bugatti Centodieci          Price: $9.0 Million\n",
      "45             Bugatti Chiron Profilée         Price: $10.8 Million\n",
      "46                Rolls-Royce Sweptail         Price: $12.8 Million\n",
      "47            Bugatti La Voiture Noire         Price: $13.4 Million\n",
      "48              Rolls-Royce Boat Tail*  Price: $28.0 Million (est.)\n",
      "49  Rolls-Royce La Rose Noire Droptail    Price: $30 Million (est.)\n"
     ]
    }
   ],
   "source": [
    "df_10 = pd.DataFrame({'Car Name': Cars_Name, 'Price': cars_price})\n",
    "print(df_10)"
   ]
  },
  {
   "cell_type": "code",
   "execution_count": null,
   "id": "9d3ff610",
   "metadata": {},
   "outputs": [],
   "source": []
  },
  {
   "cell_type": "code",
   "execution_count": 48,
   "id": "c6b221fc",
   "metadata": {},
   "outputs": [],
   "source": [
    "# Question - 9 :\n",
    "driver_9 = webdriver.Chrome()"
   ]
  },
  {
   "cell_type": "code",
   "execution_count": 49,
   "id": "685cc662",
   "metadata": {},
   "outputs": [],
   "source": [
    "driver_9.get('https://www.jagranjosh.com/')"
   ]
  },
  {
   "cell_type": "code",
   "execution_count": 50,
   "id": "3548af79",
   "metadata": {},
   "outputs": [],
   "source": [
    "gk_search=driver_9.find_element(By.XPATH,'/html/body/div/header/nav/div/div/div[3]/ul/li[3]/a')\n",
    "gk_search.click()"
   ]
  },
  {
   "cell_type": "code",
   "execution_count": 51,
   "id": "a9fe2780",
   "metadata": {},
   "outputs": [],
   "source": [
    "explore=driver_9.find_element(By.XPATH,'/html/body/div[1]/div[8]/section[5]/div[1]/span/a')\n",
    "explore.click()"
   ]
  },
  {
   "cell_type": "code",
   "execution_count": 52,
   "id": "35bd59dd",
   "metadata": {},
   "outputs": [],
   "source": [
    "list_pm=driver_9.find_element(By.XPATH,'/html/body/div[1]/main/div[1]/div[1]/section[2]/div/ul/li[11]/article/h3/a')\n",
    "list_pm.click()"
   ]
  },
  {
   "cell_type": "code",
   "execution_count": null,
   "id": "e5a12c99",
   "metadata": {},
   "outputs": [],
   "source": [
    "# AFTER THIS AGAIN THAT PAGE IS APPEARING SO I WASN'T ABLE TO PROCEED FURTHER."
   ]
  }
 ],
 "metadata": {
  "kernelspec": {
   "display_name": "Python 3 (ipykernel)",
   "language": "python",
   "name": "python3"
  },
  "language_info": {
   "codemirror_mode": {
    "name": "ipython",
    "version": 3
   },
   "file_extension": ".py",
   "mimetype": "text/x-python",
   "name": "python",
   "nbconvert_exporter": "python",
   "pygments_lexer": "ipython3",
   "version": "3.11.5"
  }
 },
 "nbformat": 4,
 "nbformat_minor": 5
}
