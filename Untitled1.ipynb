{
 "cells": [
  {
   "cell_type": "code",
   "execution_count": 1,
   "id": "7d55077b",
   "metadata": {},
   "outputs": [],
   "source": [
    "import pandas as pd\n",
    "import numpy as np \n",
    "import re\n",
    "import warnings\n",
    "warnings.filterwarnings('ignore')"
   ]
  },
  {
   "cell_type": "code",
   "execution_count": 2,
   "id": "8d1336a9",
   "metadata": {},
   "outputs": [
    {
     "name": "stdout",
     "output_type": "stream",
     "text": [
      "Python:Exercises::PHP:exercises:\n"
     ]
    }
   ],
   "source": [
    "# Question 1 \n",
    "target_string = 'Python Exercises, PHP exercises.'\n",
    "result = re.sub(r\"[,.,\\s]\", \":\", target_string)\n",
    "print(result)"
   ]
  },
  {
   "cell_type": "code",
   "execution_count": 3,
   "id": "bc2cc03d",
   "metadata": {},
   "outputs": [
    {
     "data": {
      "text/html": [
       "<div>\n",
       "<style scoped>\n",
       "    .dataframe tbody tr th:only-of-type {\n",
       "        vertical-align: middle;\n",
       "    }\n",
       "\n",
       "    .dataframe tbody tr th {\n",
       "        vertical-align: top;\n",
       "    }\n",
       "\n",
       "    .dataframe thead th {\n",
       "        text-align: right;\n",
       "    }\n",
       "</style>\n",
       "<table border=\"1\" class=\"dataframe\">\n",
       "  <thead>\n",
       "    <tr style=\"text-align: right;\">\n",
       "      <th></th>\n",
       "      <th>SUMMARY</th>\n",
       "    </tr>\n",
       "  </thead>\n",
       "  <tbody>\n",
       "    <tr>\n",
       "      <th>0</th>\n",
       "      <td>hello, world!</td>\n",
       "    </tr>\n",
       "    <tr>\n",
       "      <th>1</th>\n",
       "      <td>XXXXX test</td>\n",
       "    </tr>\n",
       "    <tr>\n",
       "      <th>2</th>\n",
       "      <td>123four, five:; six...</td>\n",
       "    </tr>\n",
       "  </tbody>\n",
       "</table>\n",
       "</div>"
      ],
      "text/plain": [
       "                  SUMMARY\n",
       "0           hello, world!\n",
       "1              XXXXX test\n",
       "2  123four, five:; six..."
      ]
     },
     "execution_count": 3,
     "metadata": {},
     "output_type": "execute_result"
    }
   ],
   "source": [
    "# Question 2 \n",
    "Dict = {'SUMMARY' : ['hello, world!', 'XXXXX test', '123four, five:; six...']}\n",
    "df = pd.DataFrame(Dict)\n",
    "df"
   ]
  },
  {
   "cell_type": "code",
   "execution_count": 4,
   "id": "fc66043a",
   "metadata": {},
   "outputs": [
    {
     "name": "stdout",
     "output_type": "stream",
     "text": [
      "            SUMMARY\n",
      "0       hello world\n",
      "1              test\n",
      "2  123four five six\n"
     ]
    }
   ],
   "source": [
    "# Question 2 continued \n",
    "df['SUMMARY'] = df['SUMMARY'].apply(lambda d: ' '.join(text for text in re.findall(r\"\\b\\w+\\b\", re.sub(r\"[,!;:]+\", '', d)) if text != 'XXXXX'))\n",
    "print(df)"
   ]
  },
  {
   "cell_type": "code",
   "execution_count": 5,
   "id": "1d378e28",
   "metadata": {},
   "outputs": [],
   "source": [
    "# Question 3\n",
    "target_string = \"Virat Kohli is an Indian International cricketer and the former captain of the Indian national cricket team.\"\n",
    "string_pattern = r\"\\w{4,}\"\n",
    "regex_pattern = re.compile(string_pattern)\n",
    "resultant_string = regex_pattern.findall(target_string)"
   ]
  },
  {
   "cell_type": "code",
   "execution_count": 6,
   "id": "12e76ac7",
   "metadata": {},
   "outputs": [
    {
     "name": "stdout",
     "output_type": "stream",
     "text": [
      "['Dhoni', 'probably', 'ranks', 'third', 'most', 'popular', 'Indian', 'cricketer', 'ever', 'behind', 'only', 'Sachin', 'Tendulkar', 'Virat', 'Kohli']\n"
     ]
    }
   ],
   "source": [
    " # Question 3 continued # \n",
    "string_1 = \"MS Dhoni probably ranks as the third-most popular Indian cricketer ever, behind only Sachin Tendulkar and Virat Kohli.\"\n",
    "result = regex_pattern.findall(string_1)\n",
    "print(result)"
   ]
  },
  {
   "cell_type": "code",
   "execution_count": 7,
   "id": "837e9909",
   "metadata": {},
   "outputs": [],
   "source": [
    "# Question 4  \n",
    "target_string = \"Art is the expression of ideas and emotions through a physical medium, like painting, sculpture, film or theatre.\"\n",
    "string_pattern = r\"\\w{3,5}\"\n",
    "regex_pattern = re.compile(string_pattern)\n",
    "result_string = regex_pattern.findall(target_string)"
   ]
  },
  {
   "cell_type": "code",
   "execution_count": 8,
   "id": "785b0866",
   "metadata": {},
   "outputs": [
    {
     "name": "stdout",
     "output_type": "stream",
     "text": [
      "['Music', 'gener', 'ally', 'defin', 'the', 'art', 'arran', 'ging', 'sound', 'creat', 'some', 'combi', 'natio', 'form', 'harmo', 'melod']\n"
     ]
    }
   ],
   "source": [
    "# Question 4 continued # \n",
    "string_2 = \"Music is generally defined as the art of arranging sound to create some combinations of form, harmony or melody.\"\n",
    "result_1 = regex_pattern.findall(string_2)\n",
    "print(result_1)"
   ]
  },
  {
   "cell_type": "code",
   "execution_count": 9,
   "id": "ffcb8ac8",
   "metadata": {},
   "outputs": [
    {
     "name": "stdout",
     "output_type": "stream",
     "text": [
      "example .com\n",
      "hr@fliprobo .com\n",
      "github .com\n",
      "Hello Data Science World\n",
      "Data Scientist\n"
     ]
    }
   ],
   "source": [
    "# Question 5  \n",
    "sample_text = [\"example (.com)\", \"hr@fliprobo (.com)\", \"github (.com)\", \"Hello (Data Science World)\", \"Data (Scientist)\"]\n",
    "pattern = re.compile(r'\\(([^)]*)\\)')\n",
    "output_text = [pattern.sub(r'\\1', words) for words in sample_text]\n",
    "for item in output_text:\n",
    "    print(item)                          "
   ]
  },
  {
   "cell_type": "code",
   "execution_count": 10,
   "id": "f0a27735",
   "metadata": {},
   "outputs": [
    {
     "name": "stdout",
     "output_type": "stream",
     "text": [
      "example \n",
      "hr@fliprobo \n",
      "github \n",
      "Hello \n",
      "Data \n"
     ]
    }
   ],
   "source": [
    "# Question 6 \n",
    "sample_text = [\"example (.com)\", \"hr@fliprobo (.com)\", \"github (.com)\", \"Hello (Data Science World)\", \"Data (Scientist)\"]\n",
    "pattern = re.compile(r'\\([^)]*\\)')\n",
    "output_text = [pattern.sub('',words) for words in sample_text]\n",
    "for item in output_text:\n",
    "    print(item)"
   ]
  },
  {
   "cell_type": "code",
   "execution_count": 11,
   "id": "9259f6a1",
   "metadata": {},
   "outputs": [
    {
     "name": "stdout",
     "output_type": "stream",
     "text": [
      "['Importance', 'Of', 'Regular', 'Expressions', 'In', 'Python']\n"
     ]
    }
   ],
   "source": [
    "# Question 7  \n",
    "sample_text = \"ImportanceOfRegularExpressionsInPython\"\n",
    "result_1 = re.findall('[a-z]+|[A-Z][a-z]*', sample_text)\n",
    "print(result_1)"
   ]
  },
  {
   "cell_type": "code",
   "execution_count": 12,
   "id": "9a684ad6",
   "metadata": {},
   "outputs": [
    {
     "name": "stdout",
     "output_type": "stream",
     "text": [
      "RegularExpression 1IsAn 2ImportantTopic 3InPython\n"
     ]
    }
   ],
   "source": [
    "#Question 8 \n",
    "sample_text = \"RegularExpression1IsAn2ImportantTopic3InPython\"\n",
    "pattern_text = re.compile(r\"(?<=\\D)(\\d+)\")\n",
    "result_text = re.sub(pattern_text, r\" \\1\", sample_text)\n",
    "print(result_text)"
   ]
  },
  {
   "cell_type": "code",
   "execution_count": 13,
   "id": "698f391a",
   "metadata": {},
   "outputs": [
    {
     "name": "stdout",
     "output_type": "stream",
     "text": [
      " Regular Expression 1 Is An 2 Important Topic 3 In Python\n"
     ]
    }
   ],
   "source": [
    "# Question 9 \n",
    "target_string = \"RegularExpression1IsAn2ImportantTopic3InPython\"\n",
    "pattern_text = re.compile(r\"([A-Z0-9])\")\n",
    "result_string = re.sub(pattern_text,r' \\1', target_string)\n",
    "print(result_string)"
   ]
  },
  {
   "cell_type": "code",
   "execution_count": 14,
   "id": "d99f9e51",
   "metadata": {},
   "outputs": [],
   "source": [
    "# Question 10 \n",
    "text_link = \"https://raw.githubusercontent.com/dsrscientist/DSData/master/happiness_score_dataset.csv\"\n",
    "df = pd.read_csv(text_link)"
   ]
  },
  {
   "cell_type": "code",
   "execution_count": 15,
   "id": "d27caad7",
   "metadata": {},
   "outputs": [
    {
     "name": "stdout",
     "output_type": "stream",
     "text": [
      "       Country          Region  Happiness Rank  Happiness Score  \\\n",
      "0  Switzerland  Western Europe               1            7.587   \n",
      "1      Iceland  Western Europe               2            7.561   \n",
      "2      Denmark  Western Europe               3            7.527   \n",
      "3       Norway  Western Europe               4            7.522   \n",
      "4       Canada   North America               5            7.427   \n",
      "\n",
      "   Standard Error  Economy (GDP per Capita)   Family  \\\n",
      "0         0.03411                   1.39651  1.34951   \n",
      "1         0.04884                   1.30232  1.40223   \n",
      "2         0.03328                   1.32548  1.36058   \n",
      "3         0.03880                   1.45900  1.33095   \n",
      "4         0.03553                   1.32629  1.32261   \n",
      "\n",
      "   Health (Life Expectancy)  Freedom  Trust (Government Corruption)  \\\n",
      "0                   0.94143  0.66557                        0.41978   \n",
      "1                   0.94784  0.62877                        0.14145   \n",
      "2                   0.87464  0.64938                        0.48357   \n",
      "3                   0.88521  0.66973                        0.36503   \n",
      "4                   0.90563  0.63297                        0.32957   \n",
      "\n",
      "   Generosity  Dystopia Residual first_five_letters  \n",
      "0     0.29678            2.51738             Switze  \n",
      "1     0.43630            2.70201             Icelan  \n",
      "2     0.34139            2.49204             Denmar  \n",
      "3     0.34699            2.46531             Norway  \n",
      "4     0.45811            2.45176             Canada  \n"
     ]
    }
   ],
   "source": [
    "# Question 10 continued \n",
    "df['first_five_letters'] = df['Country'].str[:6]\n",
    "print(df.head())"
   ]
  },
  {
   "cell_type": "code",
   "execution_count": 16,
   "id": "62d21bd9",
   "metadata": {},
   "outputs": [
    {
     "name": "stdout",
     "output_type": "stream",
     "text": [
      "['Data', 'science', 'is', 'the', 'study', 'to', 'extract', 'meaningful', 'insights', 'for', 'business_', 'Best', 'jobs', 'can', 'pay', 'up', 'to', '322', '500', 'per', 'year']\n",
      "['Python', 'is', 'a', 'popular', 'programming', 'language', 'It', 'is', 'used', 'for', 'developing', 'websites', 'and', 'software', 'data', 'analysis', 'etc_']\n"
     ]
    }
   ],
   "source": [
    "# Question 11 \n",
    "string_3 = \"Data science is the study to extract meaningful insights for business_.  Best jobs can pay up to $322,500 per year.\"\n",
    "string_4 = \"Python is a popular programming language. It is used for developing websites and software, data analysis etc_.\"\n",
    "pattern = r\"[a-zA-Z0-9_]+\"\n",
    "print(re.findall(pattern, string_3))\n",
    "print(re.findall(pattern, string_4))"
   ]
  },
  {
   "cell_type": "code",
   "execution_count": 17,
   "id": "4dc89820",
   "metadata": {},
   "outputs": [
    {
     "name": "stdout",
     "output_type": "stream",
     "text": [
      "<re.Match object; span=(0, 3), match='123'>\n"
     ]
    }
   ],
   "source": [
    "# Question 12 \n",
    "test_str1 = \"123_Datascience\"\n",
    "pattern = r\"^\\d+\"\n",
    "result = re.match(pattern, test_str1)\n",
    "print(result)"
   ]
  },
  {
   "cell_type": "code",
   "execution_count": 18,
   "id": "9a46dc38",
   "metadata": {},
   "outputs": [
    {
     "name": "stdout",
     "output_type": "stream",
     "text": [
      "192.168.1.1\n"
     ]
    }
   ],
   "source": [
    "# Question 13  \n",
    "ip_address_with_zero = \"192.168.001.001\"\n",
    "new_ip = re.sub(r\"\\b0+\", '', ip_address_with_zero)\n",
    "print(new_ip)"
   ]
  },
  {
   "cell_type": "code",
   "execution_count": 19,
   "id": "66456b39",
   "metadata": {},
   "outputs": [
    {
     "name": "stdout",
     "output_type": "stream",
     "text": [
      "['August 15th 1947']\n"
     ]
    }
   ],
   "source": [
    "# Question 14 \n",
    "sample_text = 'On August 15th 1947 that India was declared independent from British colonialism, and the reins of control were handed over to the leaders of the Country.'\n",
    "with open('sample_text.txt', 'w') as file:\n",
    "    file.write(sample_text)\n",
    "with open('sample_text.txt', 'r') as file:\n",
    "    words_from_file = file.read()\n",
    "date = re.findall(r'(\\w{3,9}\\s\\d{1,2}(?:[a-z]{1,2}\\s\\d{4}))\\b', words_from_file)\n",
    "for date_string in date:\n",
    "    print(date)"
   ]
  },
  {
   "cell_type": "code",
   "execution_count": 20,
   "id": "0801d224",
   "metadata": {},
   "outputs": [
    {
     "name": "stdout",
     "output_type": "stream",
     "text": [
      "fox\n",
      "dog\n"
     ]
    }
   ],
   "source": [
    "# Question 15 \n",
    "sample_text = \"The quick brown fox jumps over the lazy dog.\"\n",
    "result_7 = re.finditer(r\"fox|dog\", sample_text)\n",
    "for match_object in result_7:\n",
    "    print(match_object.group())"
   ]
  },
  {
   "cell_type": "code",
   "execution_count": 21,
   "id": "7bf28ff0",
   "metadata": {},
   "outputs": [
    {
     "name": "stdout",
     "output_type": "stream",
     "text": [
      "fox\n"
     ]
    }
   ],
   "source": [
    "# Question 16  \n",
    "string_8 = \"The quick brown fox jumps over the lazy dog.\"\n",
    "result = re.search(r\"\\bfox\\b\", string_8)\n",
    "print(result.group())"
   ]
  },
  {
   "cell_type": "code",
   "execution_count": 22,
   "id": "a6d11cb8",
   "metadata": {},
   "outputs": [
    {
     "name": "stdout",
     "output_type": "stream",
     "text": [
      "exercises\n"
     ]
    }
   ],
   "source": [
    "# Question 17  \n",
    "sample_text ='Python exercises, PHP exercises, C# exercises'\n",
    "result = re.search(r\"exercises\", sample_text)\n",
    "print(result.group())"
   ]
  },
  {
   "cell_type": "code",
   "execution_count": 23,
   "id": "96e3492e",
   "metadata": {},
   "outputs": [
    {
     "name": "stdout",
     "output_type": "stream",
     "text": [
      "Found 'catholic' at position 11-19\n",
      "Found 'catholic' at position 45-53\n",
      "Found 'catholic' at position 75-83\n",
      "Found 'catholic' at position 109-117\n"
     ]
    }
   ],
   "source": [
    "# Question 18 \n",
    "sample_text = \"Nory was a catholic because her mother was a catholic and her mother was a catholic because her father was a catholic.\"\n",
    "pattern = re.finditer(r'catholic', sample_text)\n",
    "for match in pattern:\n",
    "    start_position = match.start()\n",
    "    end_position = match.end()\n",
    "    matched_word = match.group()\n",
    "    print(f\"Found '{matched_word}' at position {start_position}-{end_position}\")"
   ]
  },
  {
   "cell_type": "code",
   "execution_count": 24,
   "id": "9370fae0",
   "metadata": {},
   "outputs": [
    {
     "name": "stdout",
     "output_type": "stream",
     "text": [
      "Original date:  2023-12-30\n",
      "New date:  30-12-2023\n"
     ]
    }
   ],
   "source": [
    "# Question 19 \n",
    "def convert_date_format(inp_date):\n",
    "    updated_date = re.sub(r'(\\d{4})-(\\d{1,2})-(\\d{1,2})', r'\\3-\\2-\\1', inp_date)\n",
    "    return updated_date\n",
    "inp_date = \"2023-12-30\"\n",
    "converted_date = convert_date_format(inp_date)\n",
    "\n",
    "print(\"Original date: \",inp_date)\n",
    "print(\"New date: \",convert_date_format(inp_date))"
   ]
  },
  {
   "cell_type": "code",
   "execution_count": 25,
   "id": "4f1eb99a",
   "metadata": {},
   "outputs": [
    {
     "name": "stdout",
     "output_type": "stream",
     "text": [
      "['01.12', '0132.', '2.', '145.8', '3.01', '27.25', '0.25']\n"
     ]
    }
   ],
   "source": [
    "# Question 20 \n",
    "sample_text = \"01.12 0132.123 2.31875 145.8 3.01 27.25 0.25\"\n",
    "pattern = re.compile(r\"\\b\\d+\\.\\d{1,2}\\b|\\.\\d{1,2}\\b|\\b\\d+\\.\\b\")\n",
    "resultant_output = pattern.findall(sample_text)\n",
    "print(resultant_output)"
   ]
  },
  {
   "cell_type": "code",
   "execution_count": 26,
   "id": "3242c0f7",
   "metadata": {},
   "outputs": [
    {
     "name": "stdout",
     "output_type": "stream",
     "text": [
      "Number: 123,Positioned at: 0\n"
     ]
    }
   ],
   "source": [
    "# Question 21 \n",
    "target_string = \"123abc is an alphanumeric number.\"\n",
    "y = re.finditer(\"\\d+\", target_string)\n",
    "for number in y:\n",
    "    placed_at = number.start()\n",
    "    print(f\"Number: {number.group()},Positioned at: {placed_at}\")"
   ]
  },
  {
   "cell_type": "code",
   "execution_count": 27,
   "id": "2a6c7f29",
   "metadata": {},
   "outputs": [
    {
     "name": "stdout",
     "output_type": "stream",
     "text": [
      "Maximum value: 950\n"
     ]
    }
   ],
   "source": [
    "# Question 22 \n",
    "sample_text = 'My marks in each semester are: 947, 896, 926, 524, 734, 950, 642'\n",
    "num_val = [int(number) for number in re.findall(r\"\\b\\d+\\b\", sample_text)]\n",
    "Max_val = max(num_val)\n",
    "print(f'Maximum value: {Max_val}')"
   ]
  },
  {
   "cell_type": "code",
   "execution_count": 28,
   "id": "667ac6ad",
   "metadata": {},
   "outputs": [
    {
     "name": "stdout",
     "output_type": "stream",
     "text": [
      "Regular Expression Is An Important Topic In Python\n"
     ]
    }
   ],
   "source": [
    "# Question 23 \n",
    "sample_text = \"RegularExpressionIsAnImportantTopicInPython\"\n",
    "resultant_string = re.sub(r\"([a-z])([A-Z])\", r\"\\1 \\2\", sample_text)\n",
    "print(resultant_string)"
   ]
  },
  {
   "cell_type": "code",
   "execution_count": 29,
   "id": "ff945a66",
   "metadata": {},
   "outputs": [
    {
     "name": "stdout",
     "output_type": "stream",
     "text": [
      "['Tableau', 'Powerbi', 'Business', 'Intelligence']\n"
     ]
    }
   ],
   "source": [
    "# Question 24  \n",
    "sample_text = \"Tableau and Powerbi are two powerful tools for Business Intelligence and data visualisation.\"\n",
    "pattern_text = re.findall(r'[A-Z][a-z]+', sample_text)\n",
    "print(pattern_text)"
   ]
  },
  {
   "cell_type": "code",
   "execution_count": 30,
   "id": "fe3e0d8f",
   "metadata": {},
   "outputs": [
    {
     "name": "stdout",
     "output_type": "stream",
     "text": [
      "Hello hello world\n"
     ]
    }
   ],
   "source": [
    "# Question 25 \n",
    "sample_text = \"Hello hello world world\"\n",
    "resultant_pattern = re.sub(r'\\b(\\w+)(\\s+\\1)+\\b', r'\\1', sample_text)\n",
    "print(resultant_pattern)"
   ]
  },
  {
   "cell_type": "code",
   "execution_count": 31,
   "id": "bcc44ea5",
   "metadata": {},
   "outputs": [
    {
     "name": "stdout",
     "output_type": "stream",
     "text": [
      "The string is ending with alphanumeric character\n"
     ]
    }
   ],
   "source": [
    "# Question 26 \n",
    "target_string = \"An alphanumeric character is Datascience123\"\n",
    "result = re.search (r\"\\w+$\", target_string)\n",
    "if result:\n",
    "    print(\"The string is ending with alphanumeric character\")\n",
    "else:\n",
    "    print(\"Invalid string\")"
   ]
  },
  {
   "cell_type": "code",
   "execution_count": 32,
   "id": "c1ed6980",
   "metadata": {},
   "outputs": [
    {
     "name": "stdout",
     "output_type": "stream",
     "text": [
      "['#Doltiwal', '#xyzabc', '#Demonetization']\n"
     ]
    }
   ],
   "source": [
    "# Question 27  \n",
    "sample_text = \"\"\"RT @kapil_kausik: #Doltiwal I mean #xyzabc is \"hurt\" by #Demonetization as the same has rendered USELESS <ed><U+00A0><U+00BD><ed><U+00B1><U+0089> \"acquired funds\" No wo\"\"\"\n",
    "result = re.findall(r\"#\\w+\", sample_text)\n",
    "print(result)"
   ]
  },
  {
   "cell_type": "code",
   "execution_count": 33,
   "id": "d0186589",
   "metadata": {},
   "outputs": [
    {
     "name": "stdout",
     "output_type": "stream",
     "text": [
      "@Jags123456 Bharat band on 28??<ed><ed>Those who  are protesting #demonetization  are all different party leaders\n"
     ]
    }
   ],
   "source": [
    "# Question 28 \n",
    "sample_text = \"@Jags123456 Bharat band on 28??<ed><U+00A0><U+00BD><ed><U+00B8><U+0082>Those who  are protesting #demonetization  are all different party leaders\"\n",
    "result_text = re.sub(r'<U\\+[0-9A-Za-z]+>', '', sample_text)\n",
    "print(result_text)"
   ]
  },
  {
   "cell_type": "code",
   "execution_count": 34,
   "id": "c59e9be1",
   "metadata": {},
   "outputs": [
    {
     "name": "stdout",
     "output_type": "stream",
     "text": [
      "Expected Dates:\n",
      "12-09-1992\n",
      "15-12-1999\n"
     ]
    }
   ],
   "source": [
    "# Question 29 \n",
    "sample_text = \"Ron was born on 12-09-1992 and he was admitted to school 15-12-1999.\"\n",
    "with open('sample_text.txt', 'w') as file:\n",
    "    file.write(sample_text)\n",
    "with open('sample_text.txt', 'r') as file:\n",
    "    data_from_file = file.read()\n",
    "date_pat = re.compile(r'\\b\\d{2}-\\d{2}-\\d{4}\\b')\n",
    "output_dates = date_pat.findall(data_from_file)\n",
    "print(\"Expected Dates:\")\n",
    "for date in output_dates:\n",
    "    print(date)"
   ]
  },
  {
   "cell_type": "code",
   "execution_count": 35,
   "id": "4904955b",
   "metadata": {},
   "outputs": [
    {
     "name": "stdout",
     "output_type": "stream",
     "text": [
      " following example creates  ArrayList  a capacity   elements. 4 elements   added   ArrayList   ArrayList  trimmed accordingly.\n"
     ]
    }
   ],
   "source": [
    "# Question 30  \n",
    "sample_text = \"The following example creates an ArrayList with a capacity of 50 elements. 4 elements are then added to the ArrayList and the ArrayList is trimmed accordingly.\"\n",
    "text_pattern = re.compile(r'\\b\\w{2,4}\\b')\n",
    "result_output = text_pattern.sub('', sample_text)\n",
    "print(result_output)"
   ]
  },
  {
   "cell_type": "code",
   "execution_count": null,
   "id": "5377e327",
   "metadata": {},
   "outputs": [],
   "source": []
  },
  {
   "cell_type": "code",
   "execution_count": null,
   "id": "4d065184",
   "metadata": {},
   "outputs": [],
   "source": []
  }
 ],
 "metadata": {
  "kernelspec": {
   "display_name": "Python 3 (ipykernel)",
   "language": "python",
   "name": "python3"
  },
  "language_info": {
   "codemirror_mode": {
    "name": "ipython",
    "version": 3
   },
   "file_extension": ".py",
   "mimetype": "text/x-python",
   "name": "python",
   "nbconvert_exporter": "python",
   "pygments_lexer": "ipython3",
   "version": "3.11.5"
  }
 },
 "nbformat": 4,
 "nbformat_minor": 5
}
