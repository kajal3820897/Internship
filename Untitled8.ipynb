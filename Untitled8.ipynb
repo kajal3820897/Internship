{
 "cells": [
  {
   "cell_type": "code",
   "execution_count": null,
   "id": "330bec45",
   "metadata": {},
   "outputs": [],
   "source": [
    "# PYTHON ASSIGNMENT"
   ]
  },
  {
   "cell_type": "code",
   "execution_count": null,
   "id": "19185652",
   "metadata": {},
   "outputs": [],
   "source": [
    "# Question 1\n",
    "1. Which of the following operators is used to calculate remainder in a division?\n",
    "A) #   B) &\n",
    "C) %   D) $\n",
    "\n",
    "ANS:C"
   ]
  },
  {
   "cell_type": "code",
   "execution_count": 2,
   "id": "fb34ed51",
   "metadata": {},
   "outputs": [
    {
     "name": "stdout",
     "output_type": "stream",
     "text": [
      "0\n"
     ]
    }
   ],
   "source": [
    "# Question 2\n",
    "a = 2//3\n",
    "print(a)"
   ]
  },
  {
   "cell_type": "code",
   "execution_count": 3,
   "id": "eb317411",
   "metadata": {},
   "outputs": [
    {
     "name": "stdout",
     "output_type": "stream",
     "text": [
      "24\n"
     ]
    }
   ],
   "source": [
    "# Question 3\n",
    "b = 6<<2\n",
    "print(b)"
   ]
  },
  {
   "cell_type": "code",
   "execution_count": 4,
   "id": "49577105",
   "metadata": {},
   "outputs": [
    {
     "name": "stdout",
     "output_type": "stream",
     "text": [
      "2\n"
     ]
    }
   ],
   "source": [
    "# Question 4\n",
    "c = 6&2\n",
    "print(c)"
   ]
  },
  {
   "cell_type": "code",
   "execution_count": 5,
   "id": "f1f8e8c6",
   "metadata": {},
   "outputs": [
    {
     "name": "stdout",
     "output_type": "stream",
     "text": [
      "6\n"
     ]
    }
   ],
   "source": [
    "d = 6|2\n",
    "print(d)"
   ]
  },
  {
   "cell_type": "code",
   "execution_count": null,
   "id": "fd98a3ea",
   "metadata": {},
   "outputs": [],
   "source": [
    "# Question 6\n",
    "What does the finally keyword denotes in python?\n",
    "A) It is used to mark the end of the code\n",
    "B) It encloses the lines of code which will be executed if any error occurs while executing the lines of code in \n",
    "the try block.\n",
    "C) the finally block will be executed no matter if the try block raises an error or not.\n",
    "D) None of the above\n",
    "\n",
    "ANS: C"
   ]
  },
  {
   "cell_type": "code",
   "execution_count": null,
   "id": "f86076c4",
   "metadata": {},
   "outputs": [],
   "source": [
    "# Question 7\n",
    "What does raise keyword is used for in python?\n",
    "(A) It is used to raise an exception.     (B) It is used to define lambda function\n",
    "(C) it's not a keyword in python.         (D) None of the above\n",
    "\n",
    "ANS: A\n"
   ]
  },
  {
   "cell_type": "code",
   "execution_count": null,
   "id": "db21240d",
   "metadata": {},
   "outputs": [],
   "source": [
    "# Question 8 \n",
    "Which of the following is a common use case of yield keyword in python?\n",
    "(A) in defining an iterator     (B) while defining a lambda function\n",
    "(C) in defining a generator     (D) in for loop\n",
    "\n",
    "ANS: C"
   ]
  },
  {
   "cell_type": "code",
   "execution_count": null,
   "id": "72b3bb8f",
   "metadata": {},
   "outputs": [],
   "source": [
    "# Question 9\n",
    "Which of the following are the valid variable names?\n",
    "(A) _abc       (B) 1abc\n",
    "(C) abc2       (D) None of the above\n",
    "\n",
    "ANS: A & C"
   ]
  },
  {
   "cell_type": "code",
   "execution_count": null,
   "id": "2453768c",
   "metadata": {},
   "outputs": [],
   "source": [
    "# Question 10\n",
    "10. Which of the following are the keywords in python?\n",
    "(A) yield         (B) raise\n",
    "(C) look-in       (D) all of the above\n",
    "\n",
    "ANS: A & B\n"
   ]
  },
  {
   "cell_type": "code",
   "execution_count": 6,
   "id": "36e4b546",
   "metadata": {},
   "outputs": [
    {
     "name": "stdout",
     "output_type": "stream",
     "text": [
      "Enter the value of n: 5\n",
      "The factorial of given natural no. n =  120\n"
     ]
    }
   ],
   "source": [
    "# Question 11. (Write a python program to find the factorial of a number.)\n",
    "\n",
    "n = int (input(\"Enter the value of n: \"))\n",
    "P = 1\n",
    "for i in range(n, 0, -1):\n",
    "    P = P*i\n",
    "print(\"The factorial of given natural no. n = \",P)"
   ]
  },
  {
   "cell_type": "code",
   "execution_count": 7,
   "id": "adf59544",
   "metadata": {},
   "outputs": [
    {
     "name": "stdout",
     "output_type": "stream",
     "text": [
      "Enter the number whose nature you want to find: 4\n",
      "The given no. is a composite no.\n"
     ]
    }
   ],
   "source": [
    "# Question 12. (Write a python program to find whether a number is prime or composite.)\n",
    "\n",
    "n = int(input(\"Enter the number whose nature you want to find: \"))\n",
    "if (n<2):\n",
    "    print(\"The given no. is neither prime nor composite\")\n",
    "else:\n",
    "    c=0\n",
    "    for i in range(1,n+1):\n",
    "        if (n%i==0):\n",
    "            c=c+1\n",
    "    if (c==2):\n",
    "        print(\"The given no. is a prime no.\")\n",
    "    elif (c>2):\n",
    "        print(\"The given no. is a composite no.\")\n"
   ]
  },
  {
   "cell_type": "code",
   "execution_count": 8,
   "id": "1cfe2384",
   "metadata": {},
   "outputs": [
    {
     "name": "stdout",
     "output_type": "stream",
     "text": [
      "Enter a string: NITIN\n",
      "The given string is a palindrome.\n"
     ]
    }
   ],
   "source": [
    "# Question 13. (Write a python program to check whether a given string is palindrome or not.)\n",
    "\n",
    "s = input(\"Enter a string: \")\n",
    "s_1 = s[::-1]\n",
    "if s == s_1:\n",
    "    print(\"The given string is a palindrome.\")\n",
    "else:\n",
    "    print(\"The given string is not a palindrome.\")"
   ]
  },
  {
   "cell_type": "code",
   "execution_count": 9,
   "id": "be35948d",
   "metadata": {},
   "outputs": [
    {
     "name": "stdout",
     "output_type": "stream",
     "text": [
      "Select the case:\n",
      "1. Calculate the length of the third side from two given sides.\n",
      "2. Calculate the  height from the hypotenuse and base.\n",
      "3. Calculate the  base from the hypotenuse and height.\n",
      "Enter your choice (1, 2, or 3): 2\n",
      "Enter the length of the hypotenuse: 13\n",
      "Enter the length of the base: 5\n",
      "The length of the height in the right-angled triangle is: 12.0\n"
     ]
    }
   ],
   "source": [
    "# Question 14. (Write a Python program to get the third side of right-angled triangle from two given sides.)\n",
    "\n",
    "print(\"Select the case:\")\n",
    "print(\"1. Calculate the length of the third side from two given sides.\")\n",
    "print(\"2. Calculate the  height from the hypotenuse and base.\")\n",
    "print(\"3. Calculate the  base from the hypotenuse and height.\")\n",
    "choice = int(input(\"Enter your choice (1, 2, or 3): \"))\n",
    "\n",
    "if choice == 1:\n",
    "    side1 = float(input(\"Enter the length of the first side: \"))\n",
    "    side2 = float(input(\"Enter the length of the second side: \"))\n",
    "    third_side = (side1**2 + side2**2)**0.5\n",
    "    print(f\"The length of the third side in the right-angled triangle is: {third_side}\")\n",
    "\n",
    "elif choice == 2:\n",
    "    hypotenuse = float(input(\"Enter the length of the hypotenuse: \"))\n",
    "    base = float(input(\"Enter the length of the base: \"))\n",
    "    height = (hypotenuse**2 - base**2)**0.5\n",
    "    print(f\"The length of the height in the right-angled triangle is: {height}\")\n",
    "\n",
    "elif choice == 3:\n",
    "    hypotenuse = float(input(\"Enter the length of the hypotenuse: \"))\n",
    "    height = float(input(\"Enter the length of the height: \"))\n",
    "    base = (hypotenuse**2 - height**2)**0.5\n",
    "    print(f\"The length of the base in the right-angled triangle is: {base}\")\n",
    "\n",
    "else:\n",
    "    print(\"Invalid choice. Please enter 1, 2, or 3.\")\n"
   ]
  },
  {
   "cell_type": "code",
   "execution_count": 10,
   "id": "b7448b57",
   "metadata": {},
   "outputs": [
    {
     "name": "stdout",
     "output_type": "stream",
     "text": [
      "Enter a string: The quick brown fox jumps over the lazy dog\n",
      "Character frequencies:\n",
      "T: 1\n",
      "h: 2\n",
      "e: 3\n",
      " : 8\n",
      "q: 1\n",
      "u: 2\n",
      "i: 1\n",
      "c: 1\n",
      "k: 1\n",
      "b: 1\n",
      "r: 2\n",
      "o: 4\n",
      "w: 1\n",
      "n: 1\n",
      "f: 1\n",
      "x: 1\n",
      "j: 1\n",
      "m: 1\n",
      "p: 1\n",
      "s: 1\n",
      "v: 1\n",
      "t: 1\n",
      "l: 1\n",
      "a: 1\n",
      "z: 1\n",
      "y: 1\n",
      "d: 1\n",
      "g: 1\n"
     ]
    }
   ],
   "source": [
    "# Question 15. (Write a python program to print the frequency of each of the characters present in a given string.)\n",
    "\n",
    "s = input(\"Enter a string: \")\n",
    "char_frequency = {}\n",
    "for char in s:\n",
    "    if char in char_frequency:\n",
    "        char_frequency[char] += 1\n",
    "    else:\n",
    "        char_frequency[char] = 1\n",
    "print(\"Character frequencies:\")\n",
    "for char, frequency in char_frequency.items():\n",
    "    print(f\"{char}: {frequency}\")"
   ]
  },
  {
   "cell_type": "code",
   "execution_count": null,
   "id": "443f7e21",
   "metadata": {},
   "outputs": [],
   "source": []
  },
  {
   "cell_type": "code",
   "execution_count": null,
   "id": "329d87c3",
   "metadata": {},
   "outputs": [],
   "source": []
  }
 ],
 "metadata": {
  "kernelspec": {
   "display_name": "Python 3 (ipykernel)",
   "language": "python",
   "name": "python3"
  },
  "language_info": {
   "codemirror_mode": {
    "name": "ipython",
    "version": 3
   },
   "file_extension": ".py",
   "mimetype": "text/x-python",
   "name": "python",
   "nbconvert_exporter": "python",
   "pygments_lexer": "ipython3",
   "version": "3.11.5"
  }
 },
 "nbformat": 4,
 "nbformat_minor": 5
}
